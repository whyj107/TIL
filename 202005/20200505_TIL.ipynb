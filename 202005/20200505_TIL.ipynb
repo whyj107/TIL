{
 "cells": [
  {
   "cell_type": "markdown",
   "metadata": {},
   "source": [
    "20200505\n",
    "\n",
    " # 컴퓨터\n",
    " \n",
    "  - 한 눈에 끝내는 HTML5/CSS3 : 입력 양식 태그, 테이블과 리스트, CSS 기초, 선택자(Selector), Box 모델, 글자(Text) 관련 스타일, 위치 정렬\n",
    "  - 알고리즘(코드워) : get ascii value of character\n",
    "  "
   ]
  }
 ],
 "metadata": {
  "kernelspec": {
   "display_name": "Python 3",
   "language": "python",
   "name": "python3"
  },
  "language_info": {
   "codemirror_mode": {
    "name": "ipython",
    "version": 3
   },
   "file_extension": ".py",
   "mimetype": "text/x-python",
   "name": "python",
   "nbconvert_exporter": "python",
   "pygments_lexer": "ipython3",
   "version": "3.7.4"
  }
 },
 "nbformat": 4,
 "nbformat_minor": 2
}
