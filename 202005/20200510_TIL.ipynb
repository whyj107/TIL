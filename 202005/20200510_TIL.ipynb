{
 "cells": [
  {
   "cell_type": "markdown",
   "metadata": {},
   "source": [
    "20200510\n",
    "\n",
    "# 컴퓨터\n",
    "\n",
    " - 알고리즘(코드워) : Exclusive \"or\" (xor) Logical Operator, How good are you really?\n",
    " - 한 눈에 끝내는 HTML5/CSS3 : 위치 정렬 - grid 2, 상속과 우선순위"
   ]
  }
 ],
 "metadata": {
  "kernelspec": {
   "display_name": "Python 3",
   "language": "python",
   "name": "python3"
  },
  "language_info": {
   "codemirror_mode": {
    "name": "ipython",
    "version": 3
   },
   "file_extension": ".py",
   "mimetype": "text/x-python",
   "name": "python",
   "nbconvert_exporter": "python",
   "pygments_lexer": "ipython3",
   "version": "3.7.4"
  }
 },
 "nbformat": 4,
 "nbformat_minor": 2
}
