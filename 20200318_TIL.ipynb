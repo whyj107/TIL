{
 "cells": [
  {
   "cell_type": "markdown",
   "metadata": {},
   "source": [
    "20200318\n",
    "\n",
    "# 컴퓨터\n",
    "\n",
    " - 알고리즘(필수 알고리즘 with 파이썬) : 최소공배수 구하기\n",
    " - 알고리즘(백준) : 사분면 고르기\n",
    " - 알고리즘(코드워) : Human readable duration format\n",
    " \n",
    "#### 코드워 문제는 내일 마저 풀어야한다.\n",
    "#### 천천히 조금씩"
   ]
  }
 ],
 "metadata": {
  "kernelspec": {
   "display_name": "Python 3",
   "language": "python",
   "name": "python3"
  },
  "language_info": {
   "codemirror_mode": {
    "name": "ipython",
    "version": 3
   },
   "file_extension": ".py",
   "mimetype": "text/x-python",
   "name": "python",
   "nbconvert_exporter": "python",
   "pygments_lexer": "ipython3",
   "version": "3.7.4"
  }
 },
 "nbformat": 4,
 "nbformat_minor": 2
}
