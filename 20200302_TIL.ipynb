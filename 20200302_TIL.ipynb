{
 "cells": [
  {
   "cell_type": "markdown",
   "metadata": {},
   "source": [
    "20200302\n",
    "\n",
    "# 컴퓨터\n",
    " - 알고리즘(백준) : 통계학\n",
    " - 알고리즘(필수 알고리즘 with 파이썬) : 트리(Tree)의 순회(Traverse) 알고리즘, 3과 5의 배수 계산하기\n",
    " - 소프트웨어공학 : 소프트웨어 프로젝트 관리(프로젝트 범위, 비용 계획) 1회독\n",
    " \n",
    "#### 최빈값을 구하는 문제 덕분에 counter와 most_common()에 대해서 알 수 있었다.\n",
    "#### 이번달 프로젝트는 현재까지 만들었던 winform 프로그램들을 wpf로 바꿔보기로 계획하고 있다. 딱히 생각나는 다른 프로젝트가 떠오르지 않기 때문이다."
   ]
  },
  {
   "cell_type": "code",
   "execution_count": null,
   "metadata": {},
   "outputs": [],
   "source": []
  }
 ],
 "metadata": {
  "kernelspec": {
   "display_name": "Python 3",
   "language": "python",
   "name": "python3"
  },
  "language_info": {
   "codemirror_mode": {
    "name": "ipython",
    "version": 3
   },
   "file_extension": ".py",
   "mimetype": "text/x-python",
   "name": "python",
   "nbconvert_exporter": "python",
   "pygments_lexer": "ipython3",
   "version": "3.7.4"
  }
 },
 "nbformat": 4,
 "nbformat_minor": 2
}
