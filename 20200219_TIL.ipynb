{
 "cells": [
  {
   "cell_type": "markdown",
   "metadata": {},
   "source": [
    "20200219\n",
    "\n",
    "# 컴퓨터\n",
    " - 알고리즘(필수 알고리즘 with 파이썬) : 이진 검색 알고리즘\n",
    " - 알고리즘(백준) : 별 찍기-10\n",
    " \n",
    " #### 오늘의 알고리즘 문제는 이해하는데 시간이 많이 걸렸다.\n",
    " #### 웹사이트 크롤링에 대해서는 오늘 따로 진행을 하지 못했다.\n",
    " #### 컴퓨터 외의 학습을 하고 나니 9시 30분 쯤이였다.\n",
    " #### 주말에 좀 더 진행해야겠다."
   ]
  },
  {
   "cell_type": "code",
   "execution_count": null,
   "metadata": {},
   "outputs": [],
   "source": []
  }
 ],
 "metadata": {
  "kernelspec": {
   "display_name": "Python 3",
   "language": "python",
   "name": "python3"
  },
  "language_info": {
   "codemirror_mode": {
    "name": "ipython",
    "version": 3
   },
   "file_extension": ".py",
   "mimetype": "text/x-python",
   "name": "python",
   "nbconvert_exporter": "python",
   "pygments_lexer": "ipython3",
   "version": "3.7.4"
  }
 },
 "nbformat": 4,
 "nbformat_minor": 2
}
