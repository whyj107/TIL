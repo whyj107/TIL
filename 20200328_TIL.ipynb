{
 "cells": [
  {
   "cell_type": "markdown",
   "metadata": {},
   "source": [
    "20200328\n",
    "\n",
    "# 컴퓨터\n",
    "\n",
    " - 알고리즘(코딩의 수학적 기초를 다지는 알고리즘 퍼즐 68) : 계단에 서서 수다 떨기\n",
    " - 알고리즘(코드워) : Find the first non-consecutive number\n",
    " - 알고리즘(백준) : 연산자 끼워넣기\n",
    " - Class101 : Chapter4, 5\n",
    "\n",
    "#### 퍼즐에서 처음 동적 계획법을 봤는데 익숙해지려면 시간이 필요할 것 같다.\n",
    "#### 코드워에서 쉬운 편에 속하는 문제였는데 생각보다 푸는데 시간이 오래 걸렸다.\n",
    "#### 백준의 DFS 문제는 거의 막바지에 가까워졌다."
   ]
  }
 ],
 "metadata": {
  "kernelspec": {
   "display_name": "Python 3",
   "language": "python",
   "name": "python3"
  },
  "language_info": {
   "codemirror_mode": {
    "name": "ipython",
    "version": 3
   },
   "file_extension": ".py",
   "mimetype": "text/x-python",
   "name": "python",
   "nbconvert_exporter": "python",
   "pygments_lexer": "ipython3",
   "version": "3.7.3"
  }
 },
 "nbformat": 4,
 "nbformat_minor": 2
}
