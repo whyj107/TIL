{
 "cells": [
  {
   "cell_type": "markdown",
   "metadata": {},
   "source": [
    "20200220\n",
    "\n",
    "# 컴퓨터\n",
    " - 알고리즘(필수 알고리즘 with 파이썬) : 알고리즘 정의와 분석 방법\n",
    " - 알고리즘(백준) : 하노이의 탑\n",
    " - 월간 프로젝트 : 쿠팡 API 검색\n",
    " \n",
    " #### 필수 알고리즘 with 파이썬 책 핵심 개념을 어제 1독 했기 때문에 처음부터 다시 보기로 했다.\n",
    " #### 월간 프로젝트를 진행하는데 문제가 생겼다.\n",
    " #### 쿠팡 API 를 검색하면서 찾아봤는데 회사 아이디가 필요해서 개인적으로 프로젝트를 진행하는데 어려움이 생겼다\n",
    " #### 새로운 월간 프로젝트를 기획해야겠다. \n",
    " #### 프로젝트 정하기 전까지 c# 으로 진행했던 것들을 우선 정리해서 올려야겠다."
   ]
  },
  {
   "cell_type": "code",
   "execution_count": null,
   "metadata": {},
   "outputs": [],
   "source": []
  }
 ],
 "metadata": {
  "kernelspec": {
   "display_name": "Python 3",
   "language": "python",
   "name": "python3"
  },
  "language_info": {
   "codemirror_mode": {
    "name": "ipython",
    "version": 3
   },
   "file_extension": ".py",
   "mimetype": "text/x-python",
   "name": "python",
   "nbconvert_exporter": "python",
   "pygments_lexer": "ipython3",
   "version": "3.7.3"
  }
 },
 "nbformat": 4,
 "nbformat_minor": 2
}
