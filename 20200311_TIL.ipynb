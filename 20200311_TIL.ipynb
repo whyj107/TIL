{
 "cells": [
  {
   "cell_type": "markdown",
   "metadata": {},
   "source": [
    "20200311\n",
    "\n",
    "# 컴퓨터\n",
    " - 알고리즘(필수 알고리즘 with 파이썬) : 소수 구하기(에라토스테네스의 체), 약수의 합 출력하기\n",
    " - 알고리즘(백준) : 스도쿠\n",
    " - 알고리즘(코드워) : Build Tower\n",
    " \n",
    "#### 스도쿠 문제는 아직 다 풀지 못했다.\n",
    "#### Build Tower 문제는 백준의 별찍기와 같은 유형인데 블로그 포스팅 용으로 예쁘게 만들다보니 시간이 많이 지체되었다. https://onlab94.tistory.com/6\n",
    "#### 내일부터 Class101으로 등록한 새로운 강의가 시작되는 날이라 너무 기대된다. 조금 더 바빠지겠지만 즐겁다."
   ]
  }
 ],
 "metadata": {
  "kernelspec": {
   "display_name": "Python 3",
   "language": "python",
   "name": "python3"
  },
  "language_info": {
   "codemirror_mode": {
    "name": "ipython",
    "version": 3
   },
   "file_extension": ".py",
   "mimetype": "text/x-python",
   "name": "python",
   "nbconvert_exporter": "python",
   "pygments_lexer": "ipython3",
   "version": "3.7.4"
  }
 },
 "nbformat": 4,
 "nbformat_minor": 2
}
