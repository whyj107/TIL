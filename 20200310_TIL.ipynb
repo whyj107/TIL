{
 "cells": [
  {
   "cell_type": "markdown",
   "metadata": {},
   "source": [
    "20200310\n",
    "\n",
    "# 컴퓨터\n",
    "\n",
    "- 알고리즘(필수 알고리즘 with 파이썬) : 이진 탐색 알고리즘, 약수 구하기\n",
    " - 알고리즘(백준) : N-Queen\n",
    " - 알고리즘(코드워) : Equal Sides Of An Array, Shortest Word, Counting Duplicates\n",
    " - 소프트웨어공학 : 소프트웨어 형상관리 1회독\n",
    " \n",
    "#### 이진 탐색 알고리즘은 2번째 보는 것인데도 어렵다. 쉬워질때까지 반복해야겠다.\n",
    "#### 백준 알고리즘 문제가 이해하는데 오래 걸렸다.\n",
    "#### 코드워 문제가 아직까지는 상당히 재미있다.\n"
   ]
  }
 ],
 "metadata": {
  "kernelspec": {
   "display_name": "Python 3",
   "language": "python",
   "name": "python3"
  },
  "language_info": {
   "codemirror_mode": {
    "name": "ipython",
    "version": 3
   },
   "file_extension": ".py",
   "mimetype": "text/x-python",
   "name": "python",
   "nbconvert_exporter": "python",
   "pygments_lexer": "ipython3",
   "version": "3.7.4"
  }
 },
 "nbformat": 4,
 "nbformat_minor": 2
}
