{
 "cells": [
  {
   "cell_type": "markdown",
   "metadata": {},
   "source": [
    "20200707\n",
    "\n",
    "# 컴퓨터\n",
    "\n",
    " - 알고리즘(코드워) : Who likes it?\n",
    " - 알고리즘(프로그래머스) : 문자열을 정수로 바꾸기\n",
    " - Spring : 의존객체(DI(Dependency injection))\n",
    " \n",
    "#### 프로그래머스 문제는 솔직히 알고리즘으로 푼 것이 아니였다... 반성하자...\n",
    "#### 코드워 문제 역시 내 코드는 보기 난잡한 감이 없지 않아 있는데.... 다른 삶의 코드는 깔끔하니 보기 편했다. 반성하자....\n",
    "#### 오늘은 몸이 좋지 않아서 무리하게 공부를 진행하기 보다는 여기까지만 해야겠다....."
   ]
  }
 ],
 "metadata": {
  "kernelspec": {
   "display_name": "Python 3",
   "language": "python",
   "name": "python3"
  },
  "language_info": {
   "codemirror_mode": {
    "name": "ipython",
    "version": 3
   },
   "file_extension": ".py",
   "mimetype": "text/x-python",
   "name": "python",
   "nbconvert_exporter": "python",
   "pygments_lexer": "ipython3",
   "version": "3.7.4"
  }
 },
 "nbformat": 4,
 "nbformat_minor": 2
}
