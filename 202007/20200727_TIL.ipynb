{
 "cells": [
  {
   "cell_type": "markdown",
   "metadata": {},
   "source": [
    "20200724\n",
    "\n",
    "# 컴퓨터\n",
    "\n",
    " - 알고리즘(코드워) : Two Joggers\n",
    " - 알고리즘(프로그래머스) : 비밀지도\n",
    " - Spring : 설정 및 구현(Service&Dao 객체 구현)\n",
    " \n",
    "# 영어\n",
    "\n",
    " - 야나두 강의\n",
    " - 토익 1 오답\n",
    " \n",
    "# 오늘의 도서\n",
    " \n",
    " - 인연 : 피천득"
   ]
  }
 ],
 "metadata": {
  "kernelspec": {
   "display_name": "Python 3",
   "language": "python",
   "name": "python3"
  },
  "language_info": {
   "codemirror_mode": {
    "name": "ipython",
    "version": 3
   },
   "file_extension": ".py",
   "mimetype": "text/x-python",
   "name": "python",
   "nbconvert_exporter": "python",
   "pygments_lexer": "ipython3",
   "version": "3.7.4"
  }
 },
 "nbformat": 4,
 "nbformat_minor": 2
}
