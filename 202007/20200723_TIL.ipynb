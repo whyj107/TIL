{
 "cells": [
  {
   "cell_type": "markdown",
   "metadata": {},
   "source": [
    "20200723\n",
    "\n",
    "# 컴퓨터\n",
    "\n",
    " - 알고리즘(코드워) : Not very secure\n",
    " - 알고리즘(프로그래머스) : 행렬의 덧셈\n",
    " - Spring : 설정 및 구현(STS를 이용하지 않은 웹 프로그램)\n",
    " \n",
    "# 영어\n",
    "\n",
    " - 야나두 강의\n",
    " - 토익 \n",
    " \n",
    "# 오늘의 도서\n",
    "\n",
    " - 인연 : 피천득\n",
    " \n",
    "#### Spring 강의에서 설정을 따라해보았는데 잘 되지 않았다. 강의와는 다른 방식으로 다시 해보아야겠다."
   ]
  }
 ],
 "metadata": {
  "kernelspec": {
   "display_name": "Python 3",
   "language": "python",
   "name": "python3"
  },
  "language_info": {
   "codemirror_mode": {
    "name": "ipython",
    "version": 3
   },
   "file_extension": ".py",
   "mimetype": "text/x-python",
   "name": "python",
   "nbconvert_exporter": "python",
   "pygments_lexer": "ipython3",
   "version": "3.7.4"
  }
 },
 "nbformat": 4,
 "nbformat_minor": 2
}
