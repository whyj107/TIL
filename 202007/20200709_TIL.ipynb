{
 "cells": [
  {
   "cell_type": "markdown",
   "metadata": {},
   "source": [
    "20200709\n",
    "\n",
    "# 컴퓨터\n",
    "\n",
    " - 알고리즘(코드워) : Don't rely on luck\n",
    " - 알고리즘(프로그래머스) : 약수의 합\n",
    " - Spring : 의존객체(의존객체 선택)\n",
    " \n",
    "#### 오늘 코드워에서 랜덤 함수 중 seed라는 것을 처음으로 배웠다. \n",
    "#### 내일은 워크숍을 가는 날이다... 알고리즘 문제 풀고싶은데... 회사 업무도 걱정이다.\n",
    "#### Spring 강의 의존객체가 어려웠으니... 주말에 다시 들어봐야겠다.\n",
    "#### 내가 이렇게 하는 것이 맞는지 계속해서 의구심이 들지만... 계속해서 해보고 싶다."
   ]
  }
 ],
 "metadata": {
  "kernelspec": {
   "display_name": "Python 3",
   "language": "python",
   "name": "python3"
  },
  "language_info": {
   "codemirror_mode": {
    "name": "ipython",
    "version": 3
   },
   "file_extension": ".py",
   "mimetype": "text/x-python",
   "name": "python",
   "nbconvert_exporter": "python",
   "pygments_lexer": "ipython3",
   "version": "3.7.4"
  }
 },
 "nbformat": 4,
 "nbformat_minor": 2
}
