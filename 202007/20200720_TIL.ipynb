{
 "cells": [
  {
   "cell_type": "markdown",
   "metadata": {},
   "source": [
    "20200720\n",
    "\n",
    "# 컴퓨터\n",
    "\n",
    " - 알고리즘(코드워) : Hamming Numbers\n",
    " - 알고리즘(프로그래머스) : 평균구하기\n",
    " - Spring : 설정 및 구현(스프링 MVC 웹서비스 - 1)\n",
    " - 오늘의 책 : 인연(피천득)\n",
    " \n",
    "#### 아직까지 프로그래머스는 레벨 1단계여서 푸는데 무난하다.... 오늘 Hamming Numbers에서 애를 먹었다. 시간초과가 관건이였는데 결국 다른 사람의 코드를 보고 내 형식으로 바꾸어서 풀었다.\n",
    "#### 앞으로 이런 문제는 이렇게 풀어야겠구나... 싶었다.\n",
    "#### Spring도 공부해야되고... WPF도 공부해야하는데... 나는 게임이 하고싶다..."
   ]
  }
 ],
 "metadata": {
  "kernelspec": {
   "display_name": "Python 3",
   "language": "python",
   "name": "python3"
  },
  "language_info": {
   "codemirror_mode": {
    "name": "ipython",
    "version": 3
   },
   "file_extension": ".py",
   "mimetype": "text/x-python",
   "name": "python",
   "nbconvert_exporter": "python",
   "pygments_lexer": "ipython3",
   "version": "3.7.4"
  }
 },
 "nbformat": 4,
 "nbformat_minor": 2
}
