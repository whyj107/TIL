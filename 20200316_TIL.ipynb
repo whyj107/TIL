{
 "cells": [
  {
   "cell_type": "markdown",
   "metadata": {},
   "source": [
    "20200316\n",
    "\n",
    "# 컴퓨터\n",
    " - 알고리즘(필수 알고리즘 with 파이썬) : 재귀 호출을 사용하여 최대공약수 구하기\n",
    " - 알고리즘(백준) : 백트래킹 문제 복습(N과 M(1), N과 M(2), N과 M(3))\n",
    " - 알고리즘(코드워) : Snail\n",
    " \n",
    "#### 어제는 코드워 문제가 쉬웠는데 Snail문제는 어려웠다. 내일까지 좀 더 고민해보고 다른 문제를 풀어야겠다. \n",
    "#### 코드워 문제를 먼저 풀어서 오늘 계획했던 Class101 chapter1 정리는 내일해야겠다.\n",
    "#### 백준 문제는 앞에 풀었던 문제들을 다시 보면서 천천히 진도를 나가기로 결정했다. 애매하게 넘어가면 나중에 더 문제가 될 것 같다."
   ]
  }
 ],
 "metadata": {
  "kernelspec": {
   "display_name": "Python 3",
   "language": "python",
   "name": "python3"
  },
  "language_info": {
   "codemirror_mode": {
    "name": "ipython",
    "version": 3
   },
   "file_extension": ".py",
   "mimetype": "text/x-python",
   "name": "python",
   "nbconvert_exporter": "python",
   "pygments_lexer": "ipython3",
   "version": "3.7.4"
  }
 },
 "nbformat": 4,
 "nbformat_minor": 2
}
