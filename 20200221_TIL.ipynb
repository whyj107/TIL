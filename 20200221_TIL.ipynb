{
 "cells": [
  {
   "cell_type": "markdown",
   "metadata": {},
   "source": [
    "20200221\n",
    "\n",
    "# 컴퓨터\n",
    " - 알고리즘(코딩의 수학적 기초를 다지는 알고리즘 퍼즐 68) : 앞뒤가 같은 10진수 만들기\n",
    " - 월간 프로젝트\n",
    " \n",
    " 본가에 왔기에 기존에 학습하던 책 대신 본가에 존재하는 책으로 알고리즘 학습을 진행했다.\n",
    " selenium을 이용하여 발송요청을 console로 print하는 것 까지 성공했다.\n",
    " 어제 새로운 월간 프로젝트를 변경하기로 경정을 했는데 새로운 방법을 찾아서 계속 진행을 하기로 결정했다."
   ]
  },
  {
   "cell_type": "code",
   "execution_count": null,
   "metadata": {},
   "outputs": [],
   "source": []
  }
 ],
 "metadata": {
  "kernelspec": {
   "display_name": "Python 3",
   "language": "python",
   "name": "python3"
  },
  "language_info": {
   "codemirror_mode": {
    "name": "ipython",
    "version": 3
   },
   "file_extension": ".py",
   "mimetype": "text/x-python",
   "name": "python",
   "nbconvert_exporter": "python",
   "pygments_lexer": "ipython3",
   "version": "3.7.3"
  }
 },
 "nbformat": 4,
 "nbformat_minor": 2
}
