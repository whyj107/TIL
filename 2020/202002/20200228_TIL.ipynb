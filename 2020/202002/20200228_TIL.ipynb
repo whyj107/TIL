{
 "cells": [
  {
   "cell_type": "markdown",
   "metadata": {},
   "source": [
    "20200228\n",
    "\n",
    "# 컴퓨터\n",
    " - 알고리즘(코딩의 수학적 기초를 다지는 알고리즘 퍼즐 68) : 막대 자르기\n",
    " - 자료구조론 : 자료구조의 이해 1회독\n",
    " \n",
    "#### 본가에 왔기에 기존에 학습하던 책 대신 본가에 존재하는 책으로 알고리즘 학습을 진행했다. \n",
    "#### 내일은 월간 프로젝트 최종 마무리와 이번주에 풀었던 알고리즘 문제들을 복습할 것이다."
   ]
  },
  {
   "cell_type": "code",
   "execution_count": null,
   "metadata": {},
   "outputs": [],
   "source": []
  }
 ],
 "metadata": {
  "kernelspec": {
   "display_name": "Python 3",
   "language": "python",
   "name": "python3"
  },
  "language_info": {
   "codemirror_mode": {
    "name": "ipython",
    "version": 3
   },
   "file_extension": ".py",
   "mimetype": "text/x-python",
   "name": "python",
   "nbconvert_exporter": "python",
   "pygments_lexer": "ipython3",
   "version": "3.7.3"
  }
 },
 "nbformat": 4,
 "nbformat_minor": 2
}
