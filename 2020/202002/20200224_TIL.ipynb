{
 "cells": [
  {
   "cell_type": "markdown",
   "metadata": {},
   "source": [
    "20200224\n",
    "\n",
    "# 컴퓨터\n",
    " - 알고리즘(필수 알고리즘 with 파이썬) : 연결 리스트, 반복문을 사용하여 0부터 n까지의 합 출력하기\n",
    " - 알고리즘(백준) : 블랙잭, 분해합\n",
    " - 월간 프로젝트 : 위메프 부분 제작 중\n",
    "\n",
    "#### 알고리즘 책(필수 알고리즘 with 파이썬)의 핵심 개념 부분은 2회차이기에 실전 문제와 함께 했다. 오늘은 실전문제에서 첫번째 였기 때문에 어렵지 않았다.\n",
    "#### 브루트포스에 대해서는 이론적인 것을 제외하고 처음이였기에 다른 사람 코드를 보면서 이해를 했다.\n",
    "#### 월간 프로젝트의 경우 쿠팡에서 만들었던 것처럼 위메프부분을 제작하려고 하니 건수를 받아오는 부분에서 문제가 생겼다. 이 문제를 풀려면 bs4와 css에 대해서 좀 더 공부를 해야 할 것 같다.\n",
    "#### 이번주 주말에 시간이 된다면 [나도 AWS에 서버 구축해보자!]를 학습하자!"
   ]
  },
  {
   "cell_type": "code",
   "execution_count": null,
   "metadata": {},
   "outputs": [],
   "source": []
  }
 ],
 "metadata": {
  "kernelspec": {
   "display_name": "Python 3",
   "language": "python",
   "name": "python3"
  },
  "language_info": {
   "codemirror_mode": {
    "name": "ipython",
    "version": 3
   },
   "file_extension": ".py",
   "mimetype": "text/x-python",
   "name": "python",
   "nbconvert_exporter": "python",
   "pygments_lexer": "ipython3",
   "version": "3.7.4"
  }
 },
 "nbformat": 4,
 "nbformat_minor": 2
}
