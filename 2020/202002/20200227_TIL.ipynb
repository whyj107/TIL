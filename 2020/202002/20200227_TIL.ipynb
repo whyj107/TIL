{
 "cells": [
  {
   "cell_type": "markdown",
   "metadata": {},
   "source": [
    "20200227\n",
    "\n",
    "# 컴퓨터\n",
    " - 알고리즘(필수 알고리즘 with 파이썬) : 트리(Tree), 재귀 호출을 사용하여 n부터 1까지 출력하기\n",
    " - 알고리즘(백준) : 수 정렬하기\n",
    " \n",
    "#### 백준 알고리즘 [수 정렬하기]에서 파이썬에 내장되어 있는 함수 말고 삽입정렬, 거품정렬로 다시 코드 작성해보자.\n",
    "#### 목요일은 너무 피곤하다."
   ]
  },
  {
   "cell_type": "code",
   "execution_count": null,
   "metadata": {},
   "outputs": [],
   "source": []
  }
 ],
 "metadata": {
  "kernelspec": {
   "display_name": "Python 3",
   "language": "python",
   "name": "python3"
  },
  "language_info": {
   "codemirror_mode": {
    "name": "ipython",
    "version": 3
   },
   "file_extension": ".py",
   "mimetype": "text/x-python",
   "name": "python",
   "nbconvert_exporter": "python",
   "pygments_lexer": "ipython3",
   "version": "3.7.4"
  }
 },
 "nbformat": 4,
 "nbformat_minor": 2
}
