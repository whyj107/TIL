{
 "cells": [
  {
   "cell_type": "markdown",
   "metadata": {},
   "source": [
    "20200331\n",
    "\n",
    "# 컴퓨터\n",
    "\n",
    " - 알고리즘(필수 알고리즘 with 파이썬) : 두 숫자간의 차이 구하기\n",
    " - 알고르즘(백준) : 스타트와 링크\n",
    " - Python GUI(PyQt) : 5-15 ~ 5-20\n",
    " - Class101 키워드 정리 : Chapter2-2 간단하게 정리\n",
    " "
   ]
  },
  {
   "cell_type": "markdown",
   "metadata": {},
   "source": [
    "# --------------------------------------------------------"
   ]
  },
  {
   "cell_type": "markdown",
   "metadata": {},
   "source": [
    "Class101 키워드 정리"
   ]
  },
  {
   "cell_type": "markdown",
   "metadata": {},
   "source": [
    "*Chapter2-2*"
   ]
  },
  {
   "cell_type": "markdown",
   "metadata": {},
   "source": [
    "클라이언트, 서버\n",
    " - 클라이언트는 서비스를 사용하는 사용자 혹은 사용자의 단말기를 가리키는 말이다.\n",
    " - 서버는 서비스를 제공하는 컴퓨터이며, 다수의 클라이언트를 위해 존재한다.\n",
    " - 클라이언트-서버 구조로 된 네트워크 프로그램을 작성하거나, 특정 시스템이 클라이언트-서버 구조로 만들어져 있다는 것은 클라이언트와 서버가 각자의 역할에 맞게 구성됨을 말한다.\n",
    "\n",
    "포트\n",
    " - 컴퓨터의 주변 장치와 연결하기 위한 연결단이다.\n",
    " - TCP나 UDP에서 어플리케이션이 상호구분을 위해서 사용하는 번호이다.\n",
    " - IP 내에서 프로세스 구분을 하기 위해서 사용한다.\n",
    "\n",
    "TCP/IP 4계층\n",
    " - 1계층 네트워크 액세스 계층(Network Access Layer) : 물리적인 주소 MAC\n",
    " - 2계층 인터넷 계층(Internet Layer) : IP 패킷 전송, 라우팅 기능, IP, ARP, RARP\n",
    " - 3계층 전송 계층(Transport Layer) : 연결 제어, 신뢰성있는 데이터 전송, TCP, UDP\n",
    " - 4계층 응용 계층(Application Layer) : TCP/UDP 기반 응용 프로그램 구현, FTP, HTTP, SSH\n",
    "\n",
    "HTTP, HTTPS\n",
    " - HTTP : 인터넷에서 웹 서버와 사용자 컴퓨터에 설치된 웹 브라우저 사이에 문서를 전송하기 위한 통신 규약이다. 정보를 '텍스트'로 주고 받기 때문에 보안에 취약하다.\n",
    " - HTTPS : HTTP의 보안 취약점을 해결하기 위한 프로토콜이다. HTTP에 S(Secure Socket)을 추가한 것이다. 통신 내용이 암호화된다.\n",
    "\n",
    "프로토콜\n",
    " - 컴퓨터나 원거리 통신 장비 사이에서 메시지를 주고 받는 양식과 규칙의 체계이다.\n",
    " - 통신 프로토콜은 신호 체계, 인증, 그리고 오류 감지 및 수정 기능을 포함할 수 있다.\n",
    "\n",
    "URL\n",
    " - Uniform Resource Locator\n",
    " - 네트워크 상에서 자원이 어디 있는지를 알려주기 위한 규약이다.\n",
    " - 컴퓨터 네트워크와 검색 메커니즘에서의 위치를 지정하는 웹 리소스에 대한 참조이다.\n",
    "\n",
    "랜카드\n",
    " - 한 네트워크 안에서 컴퓨터 간 신호를 주고 받는 데 쓰이는 하드웨어이다.\n",
    " - 유선 랜카드와 무선 랜 카드가 있다.\n",
    "\n",
    "DNS\n",
    " - 호스트의 도메인 이름을 호스트의 네트워크 주소로 바꾸거나 그 반대의 변환을 수행할 수 있도록 하기 위해 개발되었다.\n",
    " - 특정 컴퓨터(또는 네트워크로 연결된 임의의 장치)의 주소를 찾기 위해, 사람이 이해하기 쉬운 도메인 이름을 숫자로 된 식별 번호(IP 주소)로 변환해 준다."
   ]
  },
  {
   "cell_type": "markdown",
   "metadata": {},
   "source": [
    "출처\n",
    "\n",
    "https://ko.wikipedia.org/wiki/%ED%81%B4%EB%9D%BC%EC%9D%B4%EC%96%B8%ED%8A%B8_%EC%84%9C%EB%B2%84_%EB%AA%A8%EB%8D%B8\n",
    "https://namu.wiki/w/%ED%8F%AC%ED%8A%B8\n",
    "https://hahahoho5915.tistory.com/15\n",
    "https://post.naver.com/viewer/postView.nhn?volumeNo=16561296&memberNo=1834\n",
    "https://ko.wikipedia.org/wiki/%ED%86%B5%EC%8B%A0_%ED%94%84%EB%A1%9C%ED%86%A0%EC%BD%9C\n",
    "https://namu.wiki/w/%EB%84%A4%ED%8A%B8%EC%9B%8C%ED%81%AC%20%EC%B9%B4%EB%93%9C\n",
    "https://ko.wikipedia.org/wiki/%EB%8F%84%EB%A9%94%EC%9D%B8_%EB%84%A4%EC%9E%84_%EC%8B%9C%EC%8A%A4%ED%85%9C"
   ]
  }
 ],
 "metadata": {
  "kernelspec": {
   "display_name": "Python 3",
   "language": "python",
   "name": "python3"
  },
  "language_info": {
   "codemirror_mode": {
    "name": "ipython",
    "version": 3
   },
   "file_extension": ".py",
   "mimetype": "text/x-python",
   "name": "python",
   "nbconvert_exporter": "python",
   "pygments_lexer": "ipython3",
   "version": "3.7.4"
  }
 },
 "nbformat": 4,
 "nbformat_minor": 2
}
