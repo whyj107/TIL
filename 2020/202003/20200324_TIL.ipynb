{
 "cells": [
  {
   "cell_type": "markdown",
   "metadata": {},
   "source": [
    "20200324\n",
    "\n",
    "# 컴퓨터\n",
    "\n",
    " - 알고리즘(필수 알고리즘 with 파이썬) : 반복문을 사용하여 조합(nCr) 구하기\n",
    " - 알고리즘(코드워) : Will you make it?\n",
    " - PyQt : layout, widget\n",
    " - DS School 무료 라이브 강의 : 왜 같은 파이썬을 사용하는데 실력 차이가 나고, 연봉 차이가 날까? 코딩 인터뷰 뽀개기"
   ]
  }
 ],
 "metadata": {
  "kernelspec": {
   "display_name": "Python 3",
   "language": "python",
   "name": "python3"
  },
  "language_info": {
   "codemirror_mode": {
    "name": "ipython",
    "version": 3
   },
   "file_extension": ".py",
   "mimetype": "text/x-python",
   "name": "python",
   "nbconvert_exporter": "python",
   "pygments_lexer": "ipython3",
   "version": "3.7.4"
  }
 },
 "nbformat": 4,
 "nbformat_minor": 2
}
