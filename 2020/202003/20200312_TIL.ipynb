{
 "cells": [
  {
   "cell_type": "markdown",
   "metadata": {},
   "source": [
    "20200312\n",
    "\n",
    "# 컴퓨터\n",
    "\n",
    " - 알고리즘(필수 알고리즘 with 파이썬) : 반복문을 사용하여 최대공약수 구하기\n",
    " - 알고리즘(백준) : 스도쿠\n",
    " - 알고리즘(코드워) : Highest Scoring Word\n",
    " - Class101 : chapter1\n",
    "\n",
    "#### 스도쿠 문제의 알고리즘은 파악을 했다. 내일 코드 작업을 마무리 지어야겠다.\n",
    "#### Highest Scoring Word 문제 : https://onlab94.tistory.com/7\n",
    "#### Class101에서 [개발자가 되고 싶은 당신을 위해, 개발자가 되는 로드맵 A to Z]라는 수업을 오늘부터 시작했다. 오늘 chapter 1을 들었는데 내가 바라던 큰그림을 배울 수 있을 것 같아서 앞으로가 너무 기대된다."
   ]
  }
 ],
 "metadata": {
  "kernelspec": {
   "display_name": "Python 3",
   "language": "python",
   "name": "python3"
  },
  "language_info": {
   "codemirror_mode": {
    "name": "ipython",
    "version": 3
   },
   "file_extension": ".py",
   "mimetype": "text/x-python",
   "name": "python",
   "nbconvert_exporter": "python",
   "pygments_lexer": "ipython3",
   "version": "3.7.4"
  }
 },
 "nbformat": 4,
 "nbformat_minor": 2
}
