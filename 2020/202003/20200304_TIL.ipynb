{
 "cells": [
  {
   "cell_type": "markdown",
   "metadata": {},
   "source": [
    "20200304\n",
    "\n",
    "# 컴퓨터\n",
    " - 알고리즘(백준) : 좌표 정렬하기2, 단어 정렬, 나이순 정렬, 상근날드\n",
    " - 알고리즘(필수 알고리즘 with 파이썬) : 거품/셸 정렬 알고리즘, 369 게임 만들기\n",
    " - 소프트웨어공학 : 소프트웨어 품질보증과 품질관리\n",
    " \n",
    "#### 오늘의 백준 문제들은 어제의 문제를 응용하는 것들이 많았다. 예전에 if문 문제를 전부 풀었었는데 오늘 상근날드 라는 것이 추가되어서 마저 풀어보았다. if문인데 if문을 사용하지 않고 풀었다. \n",
    "#### set이란 것을 처음 알게 되었는데 이것을 사용하면 중복을 허용하지 않는 것이 흥미로웠다.\n",
    "#### 필수 알고리즘의 알고리즘은 점점 더 어렵게 느껴진다. 많은 반복이 필요하다고 느꼈다."
   ]
  }
 ],
 "metadata": {
  "kernelspec": {
   "display_name": "Python 3",
   "language": "python",
   "name": "python3"
  },
  "language_info": {
   "codemirror_mode": {
    "name": "ipython",
    "version": 3
   },
   "file_extension": ".py",
   "mimetype": "text/x-python",
   "name": "python",
   "nbconvert_exporter": "python",
   "pygments_lexer": "ipython3",
   "version": "3.7.4"
  }
 },
 "nbformat": 4,
 "nbformat_minor": 2
}
