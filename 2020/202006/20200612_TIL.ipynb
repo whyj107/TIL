{
 "cells": [
  {
   "cell_type": "markdown",
   "metadata": {},
   "source": [
    "20200612\n",
    "\n",
    "# 컴퓨터\n",
    "\n",
    " - 알고리즘(코드워) : InterleavingArrays, Array.diff, The Hashtag Generator\n",
    " \n",
    "#### 나는 아직 한참 멀었구나 라는 생각이 들었다. 아직 배워야 할 것이 많다.\n",
    "#### InterleavingArrays와 Array.diff 문제를 풀고 나서 내 kata 를 확인하니 3까지 얼마 안남아서 The Hashtag Generator 라는 문제를 풀었다. kata 5 문제 였는데 생각보다 쉬워서 놀랬다. 가장 오래된 문제 순서대로 풀고있는데 언제쯤 최근문제까지 도달할 수 있을까?\n",
    "#### 오늘 kata 3으로 레벨업 했다!"
   ]
  }
 ],
 "metadata": {
  "kernelspec": {
   "display_name": "Python 3",
   "language": "python",
   "name": "python3"
  },
  "language_info": {
   "codemirror_mode": {
    "name": "ipython",
    "version": 3
   },
   "file_extension": ".py",
   "mimetype": "text/x-python",
   "name": "python",
   "nbconvert_exporter": "python",
   "pygments_lexer": "ipython3",
   "version": "3.7.4"
  }
 },
 "nbformat": 4,
 "nbformat_minor": 2
}
