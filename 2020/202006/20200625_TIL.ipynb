{
 "cells": [
  {
   "cell_type": "markdown",
   "metadata": {},
   "source": [
    "20200625\n",
    "\n",
    "# 컴퓨터\n",
    "\n",
    " - 알고리즘(코드워) : parseInt() reloaded\n",
    " - 알고리즘(프로그래머스) : 2016년\n",
    " - Django 초보 가이드\n",
    " "
   ]
  },
  {
   "cell_type": "markdown",
   "metadata": {},
   "source": [
    "Django 초보 가이드\n",
    "\n",
    "\n",
    "MVC, MTV\n",
    " - MVC & MTV : Model(안전하게 데이터를 저장), View(데이터를 적절하게 유저에게 보여줌), Control or Template(Django)(사용자의 입력과 이벤트에 반응하여 Model과 View를 업데이트)\n",
    "\n",
    "Django 개념\n",
    " - WSGI(wsgi.py), SETTING(settings.py), URL RESOLUTION(urls.py), VIEW(views.py), TEMPLATE(example.html), FORM(forms.py), MODEL(models.py)\n",
    "\n",
    "Project와 App\n",
    " - 프로젝트 생성 : django-admin startproject tutorial\n",
    " - app 생성 : ./manage.py startapp community\n",
    "\n",
    "settings.py\n",
    " - 프로젝트 환경 설정 파일\n",
    " - DEBUG : 디버그 모드 설정\n",
    " - INSTALLED_APPS : pip로 설치한 앱 또는 본인이 만든 app을 추가\n",
    " - MIDDELWARE_CLASSES : request와 response 사이의 주요 기능 레이어\n",
    " - TEMPLATES : django template관련 설정, 실제 뷰(html, 변수)\n",
    " - DATABASES : 데이터베이스 엔진의 연결 설정\n",
    " - STATIC_URL : 정적 파일의 URL(css, javascript, image, etc.)\n",
    "\n",
    "manage.py\n",
    " - 프로젝트 관리 명령어 모음\n",
    " - 주요 명령어\n",
    "    - startapp : 앱 생성\n",
    "    - runserver : 서버 실행\n",
    "    - createsuperuser : 관리자 생성\n",
    "    - makemigrations app : app의 모델 변경 사항 체크\n",
    "    - migrate : 변경 사항을 DB에 반영\n",
    "    - shell : 쉘을 통해 데이터를 확인\n",
    "    - collectstatic : static 파일을 한 곳에 모음\n",
    " ./manage.py runserver 0.0.0.0:8080 \n",
    "\n"
   ]
  }
 ],
 "metadata": {
  "kernelspec": {
   "display_name": "Python 3",
   "language": "python",
   "name": "python3"
  },
  "language_info": {
   "codemirror_mode": {
    "name": "ipython",
    "version": 3
   },
   "file_extension": ".py",
   "mimetype": "text/x-python",
   "name": "python",
   "nbconvert_exporter": "python",
   "pygments_lexer": "ipython3",
   "version": "3.7.3"
  }
 },
 "nbformat": 4,
 "nbformat_minor": 2
}
