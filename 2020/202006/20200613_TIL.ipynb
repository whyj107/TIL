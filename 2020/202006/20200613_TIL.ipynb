{
 "cells": [
  {
   "cell_type": "markdown",
   "metadata": {},
   "source": [
    "20200613\n",
    "\n",
    "# 컴퓨터\n",
    "\n",
    " - 알고리즘(코드워) : Adjacent repeated words in a string, Flatten\n",
    " \n",
    "#### 예전에 kyu 5인 flatten() 문제를 풀었었는데 오늘 kyu 7인 Flatten 문제를 만나서 반가웠다. flatten() 문제에서는 extend()를 몰라서 헤맸었는데 오늘은 무난하게 문제를 풀었다. \n",
    "#### 오늘은 밀린 예능을 보면서 쉬어야 겠다. "
   ]
  }
 ],
 "metadata": {
  "kernelspec": {
   "display_name": "Python 3",
   "language": "python",
   "name": "python3"
  },
  "language_info": {
   "codemirror_mode": {
    "name": "ipython",
    "version": 3
   },
   "file_extension": ".py",
   "mimetype": "text/x-python",
   "name": "python",
   "nbconvert_exporter": "python",
   "pygments_lexer": "ipython3",
   "version": "3.7.4"
  }
 },
 "nbformat": 4,
 "nbformat_minor": 2
}
