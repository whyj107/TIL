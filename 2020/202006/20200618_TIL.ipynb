{
 "cells": [
  {
   "cell_type": "markdown",
   "metadata": {},
   "source": [
    "20200618\n",
    "\n",
    "# 컴퓨터\n",
    "\n",
    " - 알고리즘(코드워) : Reverse words\n",
    " - 알고리즘(프로그래머스) : 레벨 테스트 1, 레벨 테스트 2\n",
    " - Khan Academy : JS란?:그리기와 애니메이션(프로그래밍이란?, 그리기 기본)\n",
    " \n",
    "#### 오늘부터 프로그래머스 문제를 풀기로 결심했다. 그래서 우선적으로 레벨 테스트 1과 2를 풀어보았다. 코드워를 꾸준히 풀었어서 그런지 무난하게 풀었다. 레벨 3부터는 주말에 풀어봐야겠다.\n",
    "\n",
    "#### 백엔드 공부를 하고 싶어서 인터넷 서치를 하던 중 [초보몽키의 개발공부로그]라는 곳에서 [초보 웹 개발자를 위하여]라는 글을 읽게 되었다. 이곳에 khan academy 소개가 있어서 오늘 강의를 듣고 실습도 참여해봤다. 처음 배운다는 생각으로 잠깐 들어보았는데 이번주말에 몰아서 다 들어봐야겠다."
   ]
  }
 ],
 "metadata": {
  "kernelspec": {
   "display_name": "Python 3",
   "language": "python",
   "name": "python3"
  },
  "language_info": {
   "codemirror_mode": {
    "name": "ipython",
    "version": 3
   },
   "file_extension": ".py",
   "mimetype": "text/x-python",
   "name": "python",
   "nbconvert_exporter": "python",
   "pygments_lexer": "ipython3",
   "version": "3.7.4"
  }
 },
 "nbformat": 4,
 "nbformat_minor": 2
}
