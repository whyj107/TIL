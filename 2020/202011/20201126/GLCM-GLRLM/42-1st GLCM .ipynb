{
 "cells": [
  {
   "cell_type": "code",
   "execution_count": 20,
   "metadata": {},
   "outputs": [],
   "source": [
    "# import Librarys "
   ]
  },
  {
   "cell_type": "code",
   "execution_count": 18,
   "metadata": {},
   "outputs": [],
   "source": [
    "import warnings\n",
    "warnings.filterwarnings('ignore')\n",
    "\n",
    "import pandas as pd\n",
    "import numpy as np\n",
    "import scipy as sp\n",
    "import sklearn\n",
    "from matplotlib import pyplot as plt"
   ]
  },
  {
   "cell_type": "code",
   "execution_count": null,
   "metadata": {},
   "outputs": [],
   "source": []
  },
  {
   "cell_type": "code",
   "execution_count": 27,
   "metadata": {},
   "outputs": [
    {
     "data": {
      "text/plain": [
       "(672, 13)"
      ]
     },
     "execution_count": 27,
     "metadata": {},
     "output_type": "execute_result"
    }
   ],
   "source": [
    "# Read file\n",
    "data = pd.read_csv('GLCM_Training.csv')\n",
    "data.shape"
   ]
  },
  {
   "cell_type": "code",
   "execution_count": 28,
   "metadata": {},
   "outputs": [
    {
     "data": {
      "text/html": [
       "<div>\n",
       "<style scoped>\n",
       "    .dataframe tbody tr th:only-of-type {\n",
       "        vertical-align: middle;\n",
       "    }\n",
       "\n",
       "    .dataframe tbody tr th {\n",
       "        vertical-align: top;\n",
       "    }\n",
       "\n",
       "    .dataframe thead th {\n",
       "        text-align: right;\n",
       "    }\n",
       "</style>\n",
       "<table border=\"1\" class=\"dataframe\">\n",
       "  <thead>\n",
       "    <tr style=\"text-align: right;\">\n",
       "      <th></th>\n",
       "      <th>Grade</th>\n",
       "      <th>Energy</th>\n",
       "      <th>Entropy</th>\n",
       "      <th>Correlation</th>\n",
       "      <th>Contrast</th>\n",
       "      <th>Homogeneity</th>\n",
       "      <th>Variance</th>\n",
       "      <th>Sum Mean</th>\n",
       "      <th>Inertia</th>\n",
       "      <th>Cluster Shade</th>\n",
       "      <th>Cluster Tendency</th>\n",
       "      <th>Max Probability</th>\n",
       "      <th>Inverse Variance</th>\n",
       "    </tr>\n",
       "  </thead>\n",
       "  <tbody>\n",
       "    <tr>\n",
       "      <th>0</th>\n",
       "      <td>1</td>\n",
       "      <td>0.165285</td>\n",
       "      <td>0.967849</td>\n",
       "      <td>0.538740</td>\n",
       "      <td>0.527813</td>\n",
       "      <td>0.079619</td>\n",
       "      <td>1.537618</td>\n",
       "      <td>12.807170</td>\n",
       "      <td>0.527813</td>\n",
       "      <td>-42.139820</td>\n",
       "      <td>706.7087</td>\n",
       "      <td>0.256778</td>\n",
       "      <td>0.308302</td>\n",
       "    </tr>\n",
       "    <tr>\n",
       "      <th>1</th>\n",
       "      <td>1</td>\n",
       "      <td>0.201832</td>\n",
       "      <td>0.934869</td>\n",
       "      <td>0.688304</td>\n",
       "      <td>0.535082</td>\n",
       "      <td>0.078659</td>\n",
       "      <td>1.099308</td>\n",
       "      <td>12.867810</td>\n",
       "      <td>0.535082</td>\n",
       "      <td>-24.594460</td>\n",
       "      <td>387.5941</td>\n",
       "      <td>0.387483</td>\n",
       "      <td>0.320060</td>\n",
       "    </tr>\n",
       "    <tr>\n",
       "      <th>2</th>\n",
       "      <td>1</td>\n",
       "      <td>0.223530</td>\n",
       "      <td>0.947361</td>\n",
       "      <td>0.623653</td>\n",
       "      <td>0.588871</td>\n",
       "      <td>0.080616</td>\n",
       "      <td>1.214979</td>\n",
       "      <td>12.585780</td>\n",
       "      <td>0.588871</td>\n",
       "      <td>-29.276630</td>\n",
       "      <td>454.6180</td>\n",
       "      <td>0.424876</td>\n",
       "      <td>0.297568</td>\n",
       "    </tr>\n",
       "    <tr>\n",
       "      <th>3</th>\n",
       "      <td>1</td>\n",
       "      <td>0.206048</td>\n",
       "      <td>0.941617</td>\n",
       "      <td>0.445341</td>\n",
       "      <td>0.574287</td>\n",
       "      <td>0.078693</td>\n",
       "      <td>1.907562</td>\n",
       "      <td>13.032462</td>\n",
       "      <td>0.574287</td>\n",
       "      <td>-71.362090</td>\n",
       "      <td>1167.9397</td>\n",
       "      <td>0.318581</td>\n",
       "      <td>0.279472</td>\n",
       "    </tr>\n",
       "    <tr>\n",
       "      <th>4</th>\n",
       "      <td>1</td>\n",
       "      <td>0.146233</td>\n",
       "      <td>1.115919</td>\n",
       "      <td>0.366588</td>\n",
       "      <td>0.816101</td>\n",
       "      <td>0.084147</td>\n",
       "      <td>2.228163</td>\n",
       "      <td>12.310643</td>\n",
       "      <td>0.816101</td>\n",
       "      <td>-74.150410</td>\n",
       "      <td>1205.3546</td>\n",
       "      <td>0.286521</td>\n",
       "      <td>0.397962</td>\n",
       "    </tr>\n",
       "    <tr>\n",
       "      <th>...</th>\n",
       "      <td>...</td>\n",
       "      <td>...</td>\n",
       "      <td>...</td>\n",
       "      <td>...</td>\n",
       "      <td>...</td>\n",
       "      <td>...</td>\n",
       "      <td>...</td>\n",
       "      <td>...</td>\n",
       "      <td>...</td>\n",
       "      <td>...</td>\n",
       "      <td>...</td>\n",
       "      <td>...</td>\n",
       "      <td>...</td>\n",
       "    </tr>\n",
       "    <tr>\n",
       "      <th>667</th>\n",
       "      <td>2</td>\n",
       "      <td>0.047953</td>\n",
       "      <td>1.704685</td>\n",
       "      <td>0.084933</td>\n",
       "      <td>2.049000</td>\n",
       "      <td>0.118631</td>\n",
       "      <td>10.640450</td>\n",
       "      <td>10.096013</td>\n",
       "      <td>2.049000</td>\n",
       "      <td>-126.093490</td>\n",
       "      <td>4144.7111</td>\n",
       "      <td>0.184436</td>\n",
       "      <td>0.388492</td>\n",
       "    </tr>\n",
       "    <tr>\n",
       "      <th>668</th>\n",
       "      <td>2</td>\n",
       "      <td>0.043171</td>\n",
       "      <td>1.675219</td>\n",
       "      <td>0.100729</td>\n",
       "      <td>1.920325</td>\n",
       "      <td>0.107228</td>\n",
       "      <td>8.850978</td>\n",
       "      <td>10.583242</td>\n",
       "      <td>1.920325</td>\n",
       "      <td>-129.044750</td>\n",
       "      <td>3133.6208</td>\n",
       "      <td>0.157433</td>\n",
       "      <td>0.404844</td>\n",
       "    </tr>\n",
       "    <tr>\n",
       "      <th>669</th>\n",
       "      <td>2</td>\n",
       "      <td>0.027027</td>\n",
       "      <td>1.765633</td>\n",
       "      <td>0.095665</td>\n",
       "      <td>2.056757</td>\n",
       "      <td>0.121115</td>\n",
       "      <td>9.296977</td>\n",
       "      <td>9.660835</td>\n",
       "      <td>2.056757</td>\n",
       "      <td>-73.284069</td>\n",
       "      <td>3145.8489</td>\n",
       "      <td>0.091146</td>\n",
       "      <td>0.436073</td>\n",
       "    </tr>\n",
       "    <tr>\n",
       "      <th>670</th>\n",
       "      <td>2</td>\n",
       "      <td>0.045002</td>\n",
       "      <td>1.629749</td>\n",
       "      <td>0.105006</td>\n",
       "      <td>1.579976</td>\n",
       "      <td>0.111464</td>\n",
       "      <td>8.653894</td>\n",
       "      <td>10.069188</td>\n",
       "      <td>1.579976</td>\n",
       "      <td>-53.128641</td>\n",
       "      <td>2463.6942</td>\n",
       "      <td>0.161011</td>\n",
       "      <td>0.402856</td>\n",
       "    </tr>\n",
       "    <tr>\n",
       "      <th>671</th>\n",
       "      <td>2</td>\n",
       "      <td>0.106287</td>\n",
       "      <td>1.538024</td>\n",
       "      <td>0.084922</td>\n",
       "      <td>1.768019</td>\n",
       "      <td>0.109126</td>\n",
       "      <td>10.812678</td>\n",
       "      <td>10.792255</td>\n",
       "      <td>1.768019</td>\n",
       "      <td>-181.775480</td>\n",
       "      <td>4374.7380</td>\n",
       "      <td>0.310963</td>\n",
       "      <td>0.330838</td>\n",
       "    </tr>\n",
       "  </tbody>\n",
       "</table>\n",
       "<p>672 rows × 13 columns</p>\n",
       "</div>"
      ],
      "text/plain": [
       "     Grade    Energy   Entropy  Correlation  Contrast  Homogeneity   Variance  \\\n",
       "0        1  0.165285  0.967849     0.538740  0.527813     0.079619   1.537618   \n",
       "1        1  0.201832  0.934869     0.688304  0.535082     0.078659   1.099308   \n",
       "2        1  0.223530  0.947361     0.623653  0.588871     0.080616   1.214979   \n",
       "3        1  0.206048  0.941617     0.445341  0.574287     0.078693   1.907562   \n",
       "4        1  0.146233  1.115919     0.366588  0.816101     0.084147   2.228163   \n",
       "..     ...       ...       ...          ...       ...          ...        ...   \n",
       "667      2  0.047953  1.704685     0.084933  2.049000     0.118631  10.640450   \n",
       "668      2  0.043171  1.675219     0.100729  1.920325     0.107228   8.850978   \n",
       "669      2  0.027027  1.765633     0.095665  2.056757     0.121115   9.296977   \n",
       "670      2  0.045002  1.629749     0.105006  1.579976     0.111464   8.653894   \n",
       "671      2  0.106287  1.538024     0.084922  1.768019     0.109126  10.812678   \n",
       "\n",
       "      Sum Mean   Inertia  Cluster Shade  Cluster Tendency  Max Probability  \\\n",
       "0    12.807170  0.527813     -42.139820          706.7087         0.256778   \n",
       "1    12.867810  0.535082     -24.594460          387.5941         0.387483   \n",
       "2    12.585780  0.588871     -29.276630          454.6180         0.424876   \n",
       "3    13.032462  0.574287     -71.362090         1167.9397         0.318581   \n",
       "4    12.310643  0.816101     -74.150410         1205.3546         0.286521   \n",
       "..         ...       ...            ...               ...              ...   \n",
       "667  10.096013  2.049000    -126.093490         4144.7111         0.184436   \n",
       "668  10.583242  1.920325    -129.044750         3133.6208         0.157433   \n",
       "669   9.660835  2.056757     -73.284069         3145.8489         0.091146   \n",
       "670  10.069188  1.579976     -53.128641         2463.6942         0.161011   \n",
       "671  10.792255  1.768019    -181.775480         4374.7380         0.310963   \n",
       "\n",
       "     Inverse Variance  \n",
       "0            0.308302  \n",
       "1            0.320060  \n",
       "2            0.297568  \n",
       "3            0.279472  \n",
       "4            0.397962  \n",
       "..                ...  \n",
       "667          0.388492  \n",
       "668          0.404844  \n",
       "669          0.436073  \n",
       "670          0.402856  \n",
       "671          0.330838  \n",
       "\n",
       "[672 rows x 13 columns]"
      ]
     },
     "execution_count": 28,
     "metadata": {},
     "output_type": "execute_result"
    }
   ],
   "source": [
    "data"
   ]
  },
  {
   "cell_type": "code",
   "execution_count": 22,
   "metadata": {},
   "outputs": [],
   "source": [
    "# Divided data into Features and label columns\n",
    "\n",
    "feature = data.drop(['Grade'], axis=1)\n",
    "labels= data['Grade']"
   ]
  },
  {
   "cell_type": "code",
   "execution_count": 23,
   "metadata": {},
   "outputs": [],
   "source": [
    "# Normalize the data \n",
    "\n",
    "from sklearn.preprocessing import MinMaxScaler\n",
    "\n",
    "scaler = MinMaxScaler(feature_range=(0, 1))\n",
    "features = scaler.fit_transform(feature)"
   ]
  },
  {
   "cell_type": "code",
   "execution_count": 7,
   "metadata": {},
   "outputs": [],
   "source": [
    "from sklearn.model_selection import train_test_split\n",
    "\n",
    "X_train, X_test, y_train, y_test = train_test_split(features, labels, test_size=0.2, random_state=9, stratify = labels)"
   ]
  },
  {
   "cell_type": "code",
   "execution_count": 8,
   "metadata": {},
   "outputs": [
    {
     "name": "stdout",
     "output_type": "stream",
     "text": [
      "Number of transactions X_train dataset:  (537, 12)\n",
      "Number of transactions y_train dataset:  (537,)\n",
      "Number of transactions X_test dataset:  (135, 12)\n",
      "Number of transactions y_test dataset:  (135,)\n"
     ]
    }
   ],
   "source": [
    "print(\"Number of transactions X_train dataset: \", X_train.shape)\n",
    "print(\"Number of transactions y_train dataset: \", y_train.shape)\n",
    "print(\"Number of transactions X_test dataset: \", X_test.shape)\n",
    "print(\"Number of transactions y_test dataset: \", y_test.shape)"
   ]
  },
  {
   "cell_type": "markdown",
   "metadata": {},
   "source": [
    "## LogisticRegression"
   ]
  },
  {
   "cell_type": "code",
   "execution_count": 9,
   "metadata": {},
   "outputs": [],
   "source": [
    "from sklearn.linear_model import LogisticRegression\n",
    "model = LogisticRegression(random_state=0)\n",
    "model.fit(X_train, y_train)\n",
    "prediction = model.predict(X_test)"
   ]
  },
  {
   "cell_type": "code",
   "execution_count": 10,
   "metadata": {},
   "outputs": [
    {
     "name": "stdout",
     "output_type": "stream",
     "text": [
      "              precision    recall  f1-score   support\n",
      "\n",
      "           1       0.95      0.87      0.91        68\n",
      "           2       0.88      0.96      0.91        67\n",
      "\n",
      "    accuracy                           0.91       135\n",
      "   macro avg       0.91      0.91      0.91       135\n",
      "weighted avg       0.91      0.91      0.91       135\n",
      "\n",
      "0.9111111111111111\n",
      "[[59  9]\n",
      " [ 3 64]]\n"
     ]
    }
   ],
   "source": [
    "from sklearn.metrics import classification_report, accuracy_score, confusion_matrix\n",
    "\n",
    "print(classification_report(y_test, prediction))\n",
    "print(accuracy_score(y_test, prediction))\n",
    "print(confusion_matrix(y_test, prediction))\n"
   ]
  },
  {
   "cell_type": "markdown",
   "metadata": {},
   "source": [
    "## RandomForest"
   ]
  },
  {
   "cell_type": "code",
   "execution_count": 11,
   "metadata": {},
   "outputs": [],
   "source": [
    "from sklearn.ensemble import RandomForestClassifier\n",
    "model = RandomForestClassifier(n_estimators=100)\n",
    "model.fit(X_train, y_train)\n",
    "prediction = model.predict(X_test)"
   ]
  },
  {
   "cell_type": "code",
   "execution_count": 12,
   "metadata": {},
   "outputs": [
    {
     "name": "stdout",
     "output_type": "stream",
     "text": [
      "              precision    recall  f1-score   support\n",
      "\n",
      "           1       0.97      0.96      0.96        68\n",
      "           2       0.96      0.97      0.96        67\n",
      "\n",
      "    accuracy                           0.96       135\n",
      "   macro avg       0.96      0.96      0.96       135\n",
      "weighted avg       0.96      0.96      0.96       135\n",
      "\n",
      "0.9629629629629629\n",
      "[[65  3]\n",
      " [ 2 65]]\n"
     ]
    }
   ],
   "source": [
    "from sklearn.metrics import classification_report, accuracy_score, confusion_matrix\n",
    "print(classification_report(y_test, prediction))\n",
    "print(accuracy_score(y_test, prediction))\n",
    "print(confusion_matrix(y_test, prediction))"
   ]
  },
  {
   "cell_type": "markdown",
   "metadata": {},
   "source": [
    "## KFold_Cross Validation"
   ]
  },
  {
   "cell_type": "code",
   "execution_count": 24,
   "metadata": {},
   "outputs": [],
   "source": [
    "from sklearn.model_selection import cross_val_score\n",
    "from sklearn.model_selection import KFold"
   ]
  },
  {
   "cell_type": "code",
   "execution_count": 29,
   "metadata": {},
   "outputs": [
    {
     "name": "stdout",
     "output_type": "stream",
     "text": [
      "[0.95588235 0.97058824 0.95522388 0.95522388 0.94029851 0.92537313\n",
      " 0.95522388 0.97014925 0.97014925 0.97014925]\n"
     ]
    }
   ],
   "source": [
    "cv = KFold(n_splits=10, random_state=1, shuffle=True)\n",
    "scores = cross_val_score(model, features, labels, cv=cv, scoring='accuracy' )\n",
    "print(scores)"
   ]
  },
  {
   "cell_type": "code",
   "execution_count": 30,
   "metadata": {},
   "outputs": [
    {
     "name": "stdout",
     "output_type": "stream",
     "text": [
      "0.9568261633011412\n"
     ]
    }
   ],
   "source": [
    "print(scores.mean())"
   ]
  },
  {
   "cell_type": "code",
   "execution_count": null,
   "metadata": {},
   "outputs": [],
   "source": []
  }
 ],
 "metadata": {
  "kernelspec": {
   "display_name": "Python 3",
   "language": "python",
   "name": "python3"
  },
  "language_info": {
   "codemirror_mode": {
    "name": "ipython",
    "version": 3
   },
   "file_extension": ".py",
   "mimetype": "text/x-python",
   "name": "python",
   "nbconvert_exporter": "python",
   "pygments_lexer": "ipython3",
   "version": "3.8.5"
  }
 },
 "nbformat": 4,
 "nbformat_minor": 4
}
