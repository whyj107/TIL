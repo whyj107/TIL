{
 "cells": [
  {
   "cell_type": "markdown",
   "metadata": {},
   "source": [
    "# 2020.11.09\n",
    "# 인공지능 강의 1일차\n",
    "\n",
    "## 파이썬 기초 강의\n",
    "#### 너무 기초적인 부분이라 적을 필요가 없다."
   ]
  },
  {
   "cell_type": "markdown",
   "metadata": {},
   "source": [
    "=================================================================="
   ]
  },
  {
   "cell_type": "markdown",
   "metadata": {},
   "source": [
    "## 인공지능 OVERVIEW\n",
    "\n",
    "튜링 테스트\n",
    ": 인공지능 판별 기준\n",
    "\n",
    "패턴 인식 기술\n",
    ": 머신러닝으로 가장 많은 결과를 얻게 되는 것이 패턴 인식 기술이다.\n",
    ": 기계학습을 통해서 패턴 인식을 얻어내게 된다.\n",
    "\n",
    "Moravec의 역설\n",
    ": 인간에게 쉬운 일은 로봇에게 어렵고, 로봇에게 쉬운 일은 인간에게 어렵다.\n",
    "https://en.wikipedia.org/wiki/Moravec%27s_paradox\n",
    "\n",
    "음성 인식 vs 언어 이해 vs 기계 번역\n",
    "\n",
    "음성 합성"
   ]
  }
 ],
 "metadata": {
  "kernelspec": {
   "display_name": "Python 3",
   "language": "python",
   "name": "python3"
  },
  "language_info": {
   "codemirror_mode": {
    "name": "ipython",
    "version": 3
   },
   "file_extension": ".py",
   "mimetype": "text/x-python",
   "name": "python",
   "nbconvert_exporter": "python",
   "pygments_lexer": "ipython3",
   "version": "3.8.3"
  }
 },
 "nbformat": 4,
 "nbformat_minor": 4
}
