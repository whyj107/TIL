{
 "cells": [
  {
   "cell_type": "markdown",
   "metadata": {},
   "source": [
    "# 2020.11.11\n",
    "\n",
    "# 인공지능 강의 3일차\n"
   ]
  },
  {
   "cell_type": "markdown",
   "metadata": {},
   "source": [
    "================================================================="
   ]
  },
  {
   "cell_type": "markdown",
   "metadata": {},
   "source": [
    "## 추론 기반 vs 데이터 기반\n",
    "\n",
    "도서추천을 예로 들어서 설명하면\n",
    "추론 기반의 경우는 장르 중심으로 추천해 줍니다.\n",
    "데이터 기반의 경우는 구매자 구매 이력과 연관성 분석을 통해서 추천해 줍니다.\n",
    "\n",
    "일반적으로 배운 확률의 경우는 추론 기반이다\n",
    "예) 동전의 앞면이 나올 확률 : 1/2\n",
    "\n",
    "이러한 추론 기반은 기계학습이 없는 인공지능이다.\n",
    "데이터 기반은 기계학습이 있는 인공지능이다."
   ]
  },
  {
   "cell_type": "markdown",
   "metadata": {},
   "source": [
    "## Machine Learning vs Knowledge Acquisition\n",
    "\n",
    "- Machine Learning : 데이터 기반 O, 데이터로부터 지식 학습\n",
    "\n",
    "- Knowledge Acquisition : 데이터 기반 X, 전문가로부터 지식 습득\n",
    "\n",
    "- Knoledge Acquisition or Rule Base -> Machine Learning -> Deep Learning\n"
   ]
  },
  {
   "cell_type": "markdown",
   "metadata": {},
   "source": [
    "\n",
    "## 협력필터링\n",
    "### : 많은 사용자들로부터 얻은 기호정보(taste information)에 따라 사용자들의 관심사들을 자동적으로 예측하게 해주는 방법\n",
    "https://ko.wikipedia.org/wiki/%ED%98%91%EC%97%85_%ED%95%84%ED%84%B0%EB%A7%81\n"
   ]
  },
  {
   "cell_type": "markdown",
   "metadata": {},
   "source": [
    "================================================================="
   ]
  },
  {
   "cell_type": "markdown",
   "metadata": {},
   "source": [
    "## 규칙 기반\n",
    "- 지식 표현을 어떻게 할 것인지가 중요하다.\n",
    "- 규칙은 관계, 추천, 지시, 전략, 휴리스틱(경험)을 표현할 수 있다.\n",
    "- 지식공학자 => 데이터 사이언티스트\n",
    "- 지식공학자 : 지식을 주제 전문가한테서 습득해서 PM과 프로그래머에게 전달해준다.\n",
    "- 기반지식(규칙[Rule]: IF-THEN) + 데이터베이스(사실[Fact]) : 규칙만 있으면 아무런 일이 발생하지 않고 사실이 같이 있어야 의미있다. 'Rule을 Firing 했다', 'Rule과 Matching되었다'라고 표현될 수 있다.\n",
    "- RETE 알고리즘 : 규칙(rule) 엔진에서 규칙을 더 빠른 속도로 패턴 매칭(pattern matching)하기 위한 그래프(graph) 기반의 알고리즘\n",
    "https://en.wikipedia.org/wiki/Rete_algorithm\n",
    "\n",
    "\n",
    "***휴리스틱은 다음에 다루겠다.***"
   ]
  },
  {
   "cell_type": "markdown",
   "metadata": {},
   "source": [
    "================================================================="
   ]
  },
  {
   "cell_type": "markdown",
   "metadata": {},
   "source": [
    "## 지식 표현하기\n",
    "\n",
    "### 생성 시스템\n",
    " - 지식 표현으로서 생성 규칙을 이용하고 그것들을 처리하는 기능을 갖춘 시스템\n",
    " - 조건과 사실의 조회, 경합 해소, 행동과 사실 갱신이 3가지를 반복한다.\n",
    " - 데이터 없이 인공지능을 생성할 때 규칙기반이 많이 사용된다.\n",
    " - 시멘틱 네트워크(의미망), 프레임\n",
    " \n",
    "***인공지능과 데이터 산업의 미래 -이경일- 유튜브로 찾아서 보기***\n",
    "\n",
    "***'에이트' 라는 책 읽어보기*** "
   ]
  },
  {
   "cell_type": "markdown",
   "metadata": {},
   "source": [
    "================================================================="
   ]
  },
  {
   "attachments": {},
   "cell_type": "markdown",
   "metadata": {},
   "source": [
    "## 전확률 정리와 베이즈 정리\n",
    "\n",
    "### 전확률 정리\n",
    "### : 나중에 주어지는 사건 A의 확률을 구할 때, 그 사건의 원인을 여러가지로 나누어서 각 원인에 대한 조건부 확률 P(A|Bi)과 그 원인이 되는 확률 P(Bi)의 가중합으로 구할 수 있음을 말함\n",
    "\n",
    "### 베이즈 정리 : 사전 확률과 사후 확률의 관계를 정리\n",
    "#### 사전 확률 : 실제 확률실험 시행 전에 사건 발생에 대해 이미 가지고 있는 사전 지식\n",
    "#### 사후 확률 : 어떤 사상을 인지한 후에 이들이 어떤 원인에 의해 출현한 것이라 생각되는 조건부 확률\n",
    "\n",
    "### 베이즈 분류기\n",
    "#### feature : 서로 독립적 여겨짐. input 값. 학습할 값들이다.\n",
    "#### class or label : output 값"
   ]
  }
 ],
 "metadata": {
  "kernelspec": {
   "display_name": "Python 3",
   "language": "python",
   "name": "python3"
  },
  "language_info": {
   "codemirror_mode": {
    "name": "ipython",
    "version": 3
   },
   "file_extension": ".py",
   "mimetype": "text/x-python",
   "name": "python",
   "nbconvert_exporter": "python",
   "pygments_lexer": "ipython3",
   "version": "3.8.3"
  }
 },
 "nbformat": 4,
 "nbformat_minor": 4
}
