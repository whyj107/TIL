{
 "cells": [
  {
   "cell_type": "markdown",
   "metadata": {},
   "source": [
    "# 2020.11.10\n",
    "\n",
    "# 인공지능 강의 2일차\n",
    "\n",
    "## 파이썬 기초 강좌"
   ]
  },
  {
   "cell_type": "markdown",
   "metadata": {},
   "source": [
    "================================================================="
   ]
  },
  {
   "cell_type": "markdown",
   "metadata": {},
   "source": [
    "## Chapter2"
   ]
  },
  {
   "cell_type": "code",
   "execution_count": 52,
   "metadata": {},
   "outputs": [
    {
     "name": "stdout",
     "output_type": "stream",
     "text": [
      "첫 번째 정수:1\n",
      "두 번째 정수:2\n",
      "합은 3\n"
     ]
    }
   ],
   "source": [
    "# page 18\n",
    "\n",
    "## 이 프로그램은 사용자로부터 2개의 정수를 받아서 합을 계산한다.\n",
    "x = int(input(\"첫 번째 정수:\"))\n",
    "y = int(input(\"두 번째 정수:\"))\n",
    "sum = x+y\n",
    "print(\"합은\", sum)\n",
    "# print(\"합은\", x+y)"
   ]
  },
  {
   "cell_type": "code",
   "execution_count": 53,
   "metadata": {},
   "outputs": [
    {
     "name": "stdout",
     "output_type": "stream",
     "text": [
      "111442737812.28842\n"
     ]
    }
   ],
   "source": [
    "# page 32-33\n",
    "\n",
    "## 복리 계산\n",
    "init_money = 24\n",
    "interest = 0.06\n",
    "years = 382\n",
    "\n",
    "print(init_money*(1+interest)**years)"
   ]
  },
  {
   "cell_type": "code",
   "execution_count": 55,
   "metadata": {},
   "outputs": [
    {
     "name": "stdout",
     "output_type": "stream",
     "text": [
      "이름이 무엇인가요? 홍길동\n",
      "만나서 반갑습니다. 홍길동씨!\n",
      "나이는요? 21\n",
      "네, 그러면 당신은 이미 21살이시군요, 홍길동씨!\n"
     ]
    }
   ],
   "source": [
    "# page 41\n",
    "\n",
    "## 문자열 입력\n",
    "name = input(\"이름이 무엇인가요? \")\n",
    "# print(\"만나서 반갑습니다.\" + name + \"씨!\")\n",
    "print(\"만나서 반갑습니다. {0}씨!\".format(name))\n",
    "\n",
    "age = input(\"나이는요? \")\n",
    "# print(\"네, 그러면 당신은 이미 \" + age + \" 살이시군요, \" + name + \"씨!\")\n",
    "print(\"네, 그러면 당신은 이미 {0}살이시군요, {1}씨!\".format(age, name))"
   ]
  },
  {
   "cell_type": "code",
   "execution_count": 56,
   "metadata": {},
   "outputs": [
    {
     "name": "stdout",
     "output_type": "stream",
     "text": [
      "이름을 입력해주세요: 김철수\n",
      "김철수 님 만나서 반갑습니다.\n",
      "나이를 입력해주세요: 20\n",
      "10년 후면 30 살이 되시는군요!\n"
     ]
    }
   ],
   "source": [
    "# page 50\n",
    "\n",
    "## 대화하는 프로그램 만들기1\n",
    "name = input('이름을 입력해주세요: ')\n",
    "print(name, \"님 만나서 반갑습니다.\")\n",
    "\n",
    "age = input('나이를 입력해주세요: ')\n",
    "print('10년 후면', int(age)+10, '살이 되시는군요!')"
   ]
  },
  {
   "cell_type": "code",
   "execution_count": 58,
   "metadata": {},
   "outputs": [
    {
     "name": "stdout",
     "output_type": "stream",
     "text": [
      "물건값을 입력하시오: 750\n",
      "1000원 지폐개수: 1\n",
      "500원 동전개수: 0\n",
      "100원 동전개수: 0\n",
      "500원=0\t\tn100원=2\t10원=5\t\t1원=0\n"
     ]
    }
   ],
   "source": [
    "# page 52\n",
    "\n",
    "## 대화하는 프로그램 만들기2\n",
    "itemPrice = int(input(\"물건값을 입력하시오: \"))\n",
    "note = int(input(\"1000원 지폐개수: \"))\n",
    "coin500 = int(input(\"500원 동전개수: \"))\n",
    "coin100 = int(input(\"100원 동전개수: \"))\n",
    "\n",
    "change = note*1000 + coin500*500 + coin100*100 - itemPrice\n",
    "\n",
    "# 거스름돈(500원 동전 개수)을 계산한다. \n",
    "nCoin500 = change//500\n",
    "change = change%500\n",
    "\n",
    "# 거스름돈(100원 동전 개수)을 계산한다. \n",
    "nCoin100 = change//100\n",
    "change = change%100\n",
    "\n",
    "# 거스름돈(10원 동전 개수)을 계산한다. \n",
    "nCoin10 = change//10\n",
    "change = change%10\n",
    "\n",
    "# 거스름돈(1원 동전 개수)을 계산한다. \n",
    "nCoin1 = change\n",
    "\n",
    "# print(\"500원=\", nCoin500, \"100원=\", nCoin100, \"10원=\", nCoin10, \"1원=\", nCoin1) \n",
    "print(\"500원={0}\\t\\tn100원={1}\\t10원={2}\\t\\t1원={3}\".format(nCoin500, nCoin100, nCoin10, nCoin1))"
   ]
  },
  {
   "cell_type": "code",
   "execution_count": 59,
   "metadata": {},
   "outputs": [
    {
     "name": "stdout",
     "output_type": "stream",
     "text": [
      "철수가 '안녕'이라고 말했습니다.\n"
     ]
    }
   ],
   "source": [
    "# page 59\n",
    "\n",
    "## 큰 따옴표 안의 작은 따옴표 사용\n",
    "# message = \"철수가 \"안녕\"이라고 말했습니다.\"\n",
    "\n",
    "message = \"철수가 '안녕'이라고 말했습니다.\"\n",
    "print(message)"
   ]
  },
  {
   "cell_type": "code",
   "execution_count": 62,
   "metadata": {},
   "outputs": [
    {
     "name": "stdout",
     "output_type": "stream",
     "text": [
      "지난 한해 저에게 보여주신 보살핌과 사랑에\n",
      "깊은 감사를 드립니다.\n",
      "새해에도 하시고자 하는일\n",
      "모두 성취하시기를 바랍니다.\n"
     ]
    }
   ],
   "source": [
    "# page 60\n",
    "\n",
    "## 여러 줄의 문자열\n",
    "greeting = \"지난 한해 저에게 보여주신 보살핌과 사랑에\\n깊은 감사를 드립니다.\\n새해에도 하시고자 하는일\\n모두 성취하시기를 바랍니다.\"\n",
    "\n",
    "print(greeting)"
   ]
  },
  {
   "cell_type": "code",
   "execution_count": 64,
   "metadata": {},
   "outputs": [
    {
     "name": "stdout",
     "output_type": "stream",
     "text": [
      "Python\n",
      "HarryPorter\n",
      "홍길동\n"
     ]
    }
   ],
   "source": [
    "# page 62\n",
    "\n",
    "## 문자열의 연결\n",
    "print('Py''thon')\n",
    "\n",
    "print('Harry' + 'Porter')\n",
    "\n",
    "first_name = \"길동\"\n",
    "last_name = \"홍\"\n",
    "name = last_name + first_name\n",
    "print(name)"
   ]
  },
  {
   "cell_type": "code",
   "execution_count": 66,
   "metadata": {},
   "outputs": [
    {
     "name": "stdout",
     "output_type": "stream",
     "text": [
      "==================================================\n",
      "\n",
      "Congratulations!Congratulations!Congratulations!\n"
     ]
    }
   ],
   "source": [
    "# page 64\n",
    "\n",
    "## 문자열의 반복\n",
    "line = \"=\"*50\n",
    "print(line)\n",
    "print()\n",
    "\n",
    "message = \"Congratulations!\"\n",
    "print(message*3)"
   ]
  },
  {
   "cell_type": "code",
   "execution_count": 67,
   "metadata": {},
   "outputs": [
    {
     "name": "stdout",
     "output_type": "stream",
     "text": [
      "첫 번째 단어를 입력해주세요: Original\n",
      "두 번째 단어를 입력해주세요: Sound\n",
      "세 번째 단어를 입력해주세요: Track\n",
      "OST\n",
      "단어를 입력해주세요: Original\n",
      "단어를 입력해주세요: Sound\n",
      "단어를 입력해주세요: Track\n",
      "OST\n"
     ]
    }
   ],
   "source": [
    "# page 68\n",
    "\n",
    "## 숫자 추측 게임\n",
    "word1 = input('첫 번째 단어를 입력해주세요: ')\n",
    "word2 = input('두 번째 단어를 입력해주세요: ')\n",
    "word3 = input('세 번째 단어를 입력해주세요: ')\n",
    "\n",
    "acronym = word1[0] + word2[0] + word3[0]\n",
    "print(acronym)\n",
    "\n",
    "words = []\n",
    "for i in range(3):\n",
    "    words.append(input('단어를 입력해주세요: '))\n",
    "print(''.join(i[0] for i in words))"
   ]
  },
  {
   "cell_type": "markdown",
   "metadata": {},
   "source": [
    "================================================================="
   ]
  },
  {
   "cell_type": "markdown",
   "metadata": {},
   "source": [
    "## Chapter3"
   ]
  },
  {
   "cell_type": "code",
   "execution_count": 70,
   "metadata": {},
   "outputs": [
    {
     "name": "stdout",
     "output_type": "stream",
     "text": [
      "짐의 무게는 얼마입니까? 21\n",
      "무거운 짐은 20,000원을 내셔야 합니다.\n",
      "감사합니다.\n"
     ]
    }
   ],
   "source": [
    "# page 12\n",
    "\n",
    "## 수하물 비용 계산\n",
    "w = float(input(\"짐의 무게는 얼마입니까? \"))\n",
    "\n",
    "print(\"무거운 짐은 20,000원을 내셔야 합니다.\" if w > 20 else \"짐에 대한 수수료는 없습니다.\")\n",
    "print(\"감사합니다.\")"
   ]
  },
  {
   "cell_type": "code",
   "execution_count": 76,
   "metadata": {},
   "outputs": [
    {
     "name": "stdout",
     "output_type": "stream",
     "text": [
      "문자열을 입력하시오: weekday\n",
      "중앙글자는 k\n"
     ]
    }
   ],
   "source": [
    "# page 22\n",
    "\n",
    "## 문자열의 중간문자\n",
    "str = input(\"문자열을 입력하시오: \")\n",
    "length = len(str)\n",
    "\"\"\"\n",
    "if length %2 == 1:\n",
    "    print(\"중앙글자는\", str[length//2])\n",
    "else:\n",
    "    print(\"중앙글자는\", str[length//2-1:length//2+1])\n",
    "\"\"\" \n",
    "print(\"중앙글자는\", str[length//2] if length%2 == 1 else str[length//2-1:length//2+1])"
   ]
  },
  {
   "cell_type": "code",
   "execution_count": 78,
   "metadata": {},
   "outputs": [
    {
     "name": "stdout",
     "output_type": "stream",
     "text": [
      "이수한 학점수를 입력하시오: 140\n",
      "평점을 입력하시오: 2.0\n",
      "졸업 가능합니다.\n"
     ]
    }
   ],
   "source": [
    "# page 27\n",
    "\n",
    "## 졸업 학점 검사하기\n",
    "c = float(input(\"이수한 학점수를 입력하시오: \"))\n",
    "gpa = float(input(\"평점을 입력하시오: \"))\n",
    "\n",
    "print(\"졸업 가능합니다.\" if c>= 140 and gpa>=2.0 else \"졸업이 힘듭니다!\")"
   ]
  },
  {
   "cell_type": "code",
   "execution_count": 82,
   "metadata": {},
   "outputs": [
    {
     "name": "stdout",
     "output_type": "stream",
     "text": [
      "아이디: asdf\n",
      "알 수 없는 사용자입니다.\n"
     ]
    }
   ],
   "source": [
    "# page 38\n",
    "\n",
    "## 아이디 검사\n",
    "user_list = ['김철수', '홍길동', '김영희']\n",
    "\n",
    "name = input(\"아이디: \")\n",
    "\n",
    "if name in user_list:\n",
    "    pw = input('패스워드를 입력하시오: ')\n",
    "    if pw == '12345678':\n",
    "        print('환영합니다.')\n",
    "    else:\n",
    "        print('잘못된 패스워드 입니다.')\n",
    "else:\n",
    "    print('알 수 없는 사용자입니다.')"
   ]
  },
  {
   "cell_type": "code",
   "execution_count": 85,
   "metadata": {},
   "outputs": [
    {
     "name": "stdout",
     "output_type": "stream",
     "text": [
      "월을 입력하시오.: 2\n",
      "월의 날수는 29일\n"
     ]
    }
   ],
   "source": [
    "# page 40\n",
    "\n",
    "## 달의 일수 출력\n",
    "month = int(input(\"월을 입력하시오.: \"))\n",
    "\n",
    "print(\"월의 날수는 {0}일\".format(29 if month == 2 else (30 if month in [2, 6, 10] else 31)))\n"
   ]
  },
  {
   "cell_type": "markdown",
   "metadata": {},
   "source": [
    "================================================================="
   ]
  },
  {
   "cell_type": "markdown",
   "metadata": {},
   "source": [
    "## Chapter4"
   ]
  },
  {
   "cell_type": "code",
   "execution_count": 87,
   "metadata": {},
   "outputs": [
    {
     "name": "stdout",
     "output_type": "stream",
     "text": [
      "45\n",
      "45\n"
     ]
    }
   ],
   "source": [
    "# page 10, 12\n",
    "\n",
    "## range() 함수1\n",
    "sum = 0\n",
    "for x in range(10):\n",
    "    sum += x\n",
    "print(sum)\n",
    "\n",
    "\n",
    "## range() 함수2\n",
    "sum = 0\n",
    "for x in range(0, 10):\n",
    "    sum += x\n",
    "print(sum)"
   ]
  },
  {
   "cell_type": "code",
   "execution_count": 90,
   "metadata": {},
   "outputs": [
    {
     "name": "stdout",
     "output_type": "stream",
     "text": [
      "정수를 입력하시오: 10\n",
      "10!은 3628800이다.\n",
      "10!은 3628800이다.\n"
     ]
    }
   ],
   "source": [
    "# page 17, 38\n",
    "\n",
    "## 팩토리얼 계산1\n",
    "# 반복을 이용한 팩토리얼 구하기\n",
    "fact = 1\n",
    "n = int(input(\"정수를 입력하시오: \"))\n",
    "for i in range(1, n+1):\n",
    "    fact *= i\n",
    "print(\"{0}!은 {1}이다.\".format(n, fact))\n",
    "\n",
    "## 팩토리얼 계산2\n",
    "i = 1\n",
    "factorial = 1\n",
    "while i <= 10:\n",
    "    factorial *= i\n",
    "    i += 1\n",
    "print(\"{0}!은 {1}이다.\".format(10, factorial))"
   ]
  },
  {
   "cell_type": "code",
   "execution_count": 93,
   "metadata": {},
   "outputs": [
    {
     "name": "stdout",
     "output_type": "stream",
     "text": [
      "1부터 100 사이의 숫자를 맞추시오\n",
      "숫자를 입력하시오: 50\n",
      "낮음!\n",
      "숫자를 입력하시오: 75\n",
      "낮음!\n",
      "숫자를 입력하시오: 25\n",
      "낮음!\n",
      "숫자를 입력하시오: 10\n",
      "낮음!\n",
      "숫자를 입력하시오: 90\n",
      "높음!\n",
      "숫자를 입력하시오: 80\n",
      "낮음!\n",
      "숫자를 입력하시오: 85\n",
      "높음!\n",
      "숫자를 입력하시오: 84\n",
      "높음!\n",
      "숫자를 입력하시오: 82\n",
      "낮음!\n",
      "숫자를 입력하시오: 83\n",
      "축하합니다. 시도 횟수 = 10\n"
     ]
    }
   ],
   "source": [
    "# page 47\n",
    "\n",
    "## 숫자 맞추기 게임\n",
    "import random\n",
    "tries = 0\n",
    "n = random.randint(1, 100)\n",
    "print(\"1부터 100 사이의 숫자를 맞추시오\")\n",
    "\n",
    "while tries < 10:\n",
    "    gues = int(input(\"숫자를 입력하시오: \"))\n",
    "    tries += 1\n",
    "    if gues < n:\n",
    "        print(\"낮음!\")\n",
    "    elif gues > n:\n",
    "        print(\"높음!\")\n",
    "    else:\n",
    "        break\n",
    "if gues == n:\n",
    "    print(\"축하합니다. 시도 횟수 =\", tries)\n",
    "else:\n",
    "    print(\"정답은\", number)"
   ]
  },
  {
   "cell_type": "code",
   "execution_count": 94,
   "metadata": {},
   "outputs": [
    {
     "name": "stdout",
     "output_type": "stream",
     "text": [
      "3 4 5\n",
      "4 3 5\n",
      "5 12 13\n",
      "6 8 10\n",
      "7 24 25\n",
      "8 6 10\n",
      "8 15 17\n",
      "9 12 15\n",
      "9 40 41\n",
      "10 24 26\n",
      "11 60 61\n",
      "12 5 13\n",
      "12 9 15\n",
      "12 16 20\n",
      "12 35 37\n",
      "13 84 85\n",
      "14 48 50\n",
      "15 8 17\n",
      "15 20 25\n",
      "15 36 39\n",
      "16 12 20\n",
      "16 30 34\n",
      "16 63 65\n",
      "18 24 30\n",
      "18 80 82\n",
      "20 15 25\n",
      "20 21 29\n",
      "20 48 52\n",
      "21 20 29\n",
      "21 28 35\n",
      "21 72 75\n",
      "24 7 25\n",
      "24 10 26\n",
      "24 18 30\n",
      "24 32 40\n",
      "24 45 51\n",
      "24 70 74\n",
      "25 60 65\n",
      "27 36 45\n",
      "28 21 35\n",
      "28 45 53\n",
      "28 96 100\n",
      "30 16 34\n",
      "30 40 50\n",
      "30 72 78\n",
      "32 24 40\n",
      "32 60 68\n",
      "33 44 55\n",
      "33 56 65\n",
      "35 12 37\n",
      "35 84 91\n",
      "36 15 39\n",
      "36 27 45\n",
      "36 48 60\n",
      "36 77 85\n",
      "39 52 65\n",
      "39 80 89\n",
      "40 9 41\n",
      "40 30 50\n",
      "40 42 58\n",
      "40 75 85\n",
      "42 40 58\n",
      "42 56 70\n",
      "44 33 55\n",
      "45 24 51\n",
      "45 28 53\n",
      "45 60 75\n",
      "48 14 50\n",
      "48 20 52\n",
      "48 36 60\n",
      "48 55 73\n",
      "48 64 80\n",
      "51 68 85\n",
      "52 39 65\n",
      "54 72 90\n",
      "55 48 73\n",
      "56 33 65\n",
      "56 42 70\n",
      "57 76 95\n",
      "60 11 61\n",
      "60 25 65\n",
      "60 32 68\n",
      "60 45 75\n",
      "60 63 87\n",
      "60 80 100\n",
      "63 16 65\n",
      "63 60 87\n",
      "64 48 80\n",
      "65 72 97\n",
      "68 51 85\n",
      "70 24 74\n",
      "72 21 75\n",
      "72 30 78\n",
      "72 54 90\n",
      "72 65 97\n",
      "75 40 85\n",
      "76 57 95\n",
      "77 36 85\n",
      "80 18 82\n",
      "80 39 89\n",
      "80 60 100\n",
      "84 13 85\n",
      "84 35 91\n",
      "96 28 100\n"
     ]
    }
   ],
   "source": [
    "# page 51\n",
    "\n",
    "## 피타고라스삼각형 찾기\n",
    "\n",
    "for a in range(1, 101, 1):\n",
    "    for b in range(1, 101, 1):\n",
    "        for c in range(1, 101, 1):\n",
    "            if a*a+b*b == c*c:\n",
    "                print(a, b, c)"
   ]
  },
  {
   "cell_type": "code",
   "execution_count": 95,
   "metadata": {},
   "outputs": [
    {
     "name": "stdout",
     "output_type": "stream",
     "text": [
      "문자열을 입력하시오: asdf\n",
      "모음의 개수 1\n",
      "자음의 개수 3\n"
     ]
    }
   ],
   "source": [
    "# page 55\n",
    "\n",
    "## 문자열 처리하기\n",
    "original = input('문자열을 입력하시오: ')\n",
    "word = original.lower()\n",
    "vowels = 0\n",
    "consonants = 0\n",
    "\n",
    "if len(original) > 0 and original.isalpha():\n",
    "    for char in  word:\n",
    "        if  char in 'aeiou':\n",
    "            vowels += 1\n",
    "        else:\n",
    "            consonants += 1\n",
    "            \n",
    "print(\"모음의 개수\", vowels)\n",
    "print(\"자음의 개수\", consonants)"
   ]
  },
  {
   "cell_type": "markdown",
   "metadata": {},
   "source": [
    "================================================================="
   ]
  },
  {
   "cell_type": "markdown",
   "metadata": {},
   "source": [
    "## Chapter5"
   ]
  },
  {
   "cell_type": "code",
   "execution_count": 98,
   "metadata": {},
   "outputs": [
    {
     "name": "stdout",
     "output_type": "stream",
     "text": [
      "55\n"
     ]
    }
   ],
   "source": [
    "# page 7\n",
    "\n",
    "## 값을 반환하는 함수\n",
    "def get_sum(s, e):\n",
    "    s = 0\n",
    "    for i in range(s, e+1):\n",
    "        s += i\n",
    "    return s\n",
    "\n",
    "print(get_sum(1, 10))"
   ]
  },
  {
   "cell_type": "code",
   "execution_count": 100,
   "metadata": {},
   "outputs": [
    {
     "name": "stdout",
     "output_type": "stream",
     "text": [
      "100\n",
      "100\n"
     ]
    }
   ],
   "source": [
    "# page 17\n",
    "\n",
    "## 함수 작성의 예2\n",
    "def power(x, y):\n",
    "    r = 1\n",
    "    for i in range(y):\n",
    "        r *= x\n",
    "    return r\n",
    "\n",
    "print(power(10,2))\n",
    "# print(pow(10, 2))"
   ]
  },
  {
   "cell_type": "code",
   "execution_count": 110,
   "metadata": {},
   "outputs": [
    {
     "name": "stdout",
     "output_type": "stream",
     "text": [
      "910osu\n",
      "0jhi4k\n",
      "wslg68\n",
      "610\n"
     ]
    }
   ],
   "source": [
    "# page 31, 35\n",
    "\n",
    "import string, random\n",
    "## 패스워드 생성기1\n",
    "def genPass():\n",
    "    alphabet = string.ascii_lowercase + string.digits\n",
    "    pw = \"\"\n",
    "    \n",
    "    for i in range(6):\n",
    "        index = random.randrange(len(alphabet))\n",
    "        pw += alphabet[index]\n",
    "    return pw\n",
    "    \n",
    "print(genPass())\n",
    "print(genPass())\n",
    "print(genPass())\n",
    "\n",
    "## 패스워드 생성기2\n",
    "def add(a, b): return a+b\n",
    "def sub(a, b): return a-b\n",
    "def mul(a, b): return a*b\n",
    "def div(a, b): return a/b\n",
    "\n",
    "r1 = mul(20, 30)\n",
    "r2 = add(10, r1)\n",
    "print(r2)"
   ]
  },
  {
   "cell_type": "code",
   "execution_count": 111,
   "metadata": {},
   "outputs": [
    {
     "name": "stdout",
     "output_type": "stream",
     "text": [
      " 'c' 섭씨온도에서 화씨온도로 변환\n",
      " 'f' 화씨온도에서 섭씨온도로 변환\n",
      " 'q' 종료\n",
      "메뉴에서 선택하세요.c\n",
      "섭씨온도: 100\n",
      "화씨온도: 212.0\n",
      " 'c' 섭씨온도에서 화씨온도로 변환\n",
      " 'f' 화씨온도에서 섭씨온도로 변환\n",
      " 'q' 종료\n",
      "메뉴에서 선택하세요.q\n"
     ]
    }
   ],
   "source": [
    "# page 37\n",
    "\n",
    "## 온도변환기\n",
    "def printOptions():\n",
    "    print( \" 'c' 섭씨온도에서 화씨온도로 변환\")\n",
    "    print( \" 'f' 화씨온도에서 섭씨온도로 변환\")\n",
    "    print( \" 'q' 종료\")\n",
    "\n",
    "def C2F(c_temp):\n",
    "    return 9.0 / 5.0 * c_temp + 32\n",
    "\n",
    "def F2C(f_temp):\n",
    "    return (f_temp - 32.0) * 5.0 / 9.0\n",
    "\n",
    "printOptions()\n",
    "choice = input(\"메뉴에서 선택하세요.\")\n",
    "while choice != \"q\":\n",
    "    if choice == \"c\":\n",
    "        temp = float( input(\"섭씨온도: \"))\n",
    "        print (\"화씨온도:\", C2F(temp))\n",
    "    elif choice == \"f\":\n",
    "        temp = float(input(\"화씨온도: \"))\n",
    "        print (\"섭씨온도:\", F2C(temp))\n",
    "    printOptions()\n",
    "    choice = input(\"메뉴에서 선택하세요.\")"
   ]
  },
  {
   "cell_type": "code",
   "execution_count": 113,
   "metadata": {},
   "outputs": [
    {
     "name": "stdout",
     "output_type": "stream",
     "text": [
      "사과가 좋음!\n",
      "바나나가 싫음!\n",
      "바나나가 싫음!\n"
     ]
    }
   ],
   "source": [
    "# page 45, 46\n",
    "\n",
    "## 지역 변수와 전역 변수\n",
    "def sub():\n",
    "    # 전역 변수 사용\n",
    "    global s\n",
    "    print(s)\n",
    "    # s는 지역 변수\n",
    "    s = \"바나나가 싫음!\"\n",
    "    print(s)\n",
    "    \n",
    "# s는 전역 변수\n",
    "s = \"사과가 좋음!\"\n",
    "sub()\n",
    "print(s)"
   ]
  },
  {
   "cell_type": "code",
   "execution_count": 115,
   "metadata": {},
   "outputs": [
    {
     "name": "stdout",
     "output_type": "stream",
     "text": [
      "정수의 합 30\n",
      "정수의 합 40\n"
     ]
    }
   ],
   "source": [
    "# page 54\n",
    "\n",
    "## 무명 함수의 예\n",
    "sum = lambda x, y: x+y\n",
    "print(\"정수의 합\", sum(10, 20))\n",
    "print(\"정수의 합\", sum(20, 20))"
   ]
  },
  {
   "cell_type": "code",
   "execution_count": 116,
   "metadata": {},
   "outputs": [
    {
     "name": "stdout",
     "output_type": "stream",
     "text": [
      "1123581321345589\n"
     ]
    }
   ],
   "source": [
    "# page 56-57\n",
    "\n",
    "## 피보나치 수열 모듈\n",
    "# fibo.py\n",
    "def fib(n):\n",
    "    a, b = 0, 1\n",
    "    while b < n:\n",
    "        print(b, end='')\n",
    "        a, b = b, a+b\n",
    "    print()\n",
    "\n",
    "# 모듈을 만들어 두고 나서 다른 곳에서 사용할 때에는\n",
    "# import fibo\n",
    "# 사용한다고 정의를 주어야한다. 그리고 다음과 같이 사용가능하다.\n",
    "# fibo.fib(100)\n",
    "fib(100)"
   ]
  },
  {
   "cell_type": "markdown",
   "metadata": {},
   "source": [
    "================================================================="
   ]
  },
  {
   "cell_type": "markdown",
   "metadata": {},
   "source": [
    "## Chapter6"
   ]
  },
  {
   "cell_type": "code",
   "execution_count": 127,
   "metadata": {},
   "outputs": [],
   "source": [
    "# page 6\n",
    "\n",
    "## 리스트\n",
    "\n",
    "# 임의로 부여했음\n",
    "i = 0\n",
    "number = 10\n",
    "\n",
    "s = [32, 56, 64, 72, 12, 37, 98, 77, 59, 69]\n",
    "s[0] = 80\n",
    "s[1] = s[0]\n",
    "\n",
    "s[i] = 10\n",
    "s[i+2] = 20\n",
    "\n",
    "\n",
    "if i>= 0 and i < len(s):\n",
    "    s[i] = number\n"
   ]
  },
  {
   "cell_type": "code",
   "execution_count": 128,
   "metadata": {},
   "outputs": [],
   "source": [
    "# page 8, 9\n",
    "\n",
    "## list 클래스\n",
    "l1 = list()\n",
    "l2 = list(\"Hello\")\n",
    "l3 = list(range(0, 5))\n",
    "\n",
    "l4 = []\n",
    "l5 = [\"H\", \"e\", \"l\", \"l\", \"o\"]\n",
    "l6 = [0,1,2,3,4]\n",
    "\n",
    "## 복잡한 list\n",
    "list1 = [12, \"dog\", 180.14]# 혼합 자료형 \n",
    "list2 =  [[\"Seoul\", 10], [\"Paris\", 12], [\"London\", 50]]# 내장 리스트 \n",
    "list3 = [\"aaa\", [\"bbb\", [\"ccc\", [\"ddd\", \"eee\", 45]]]]# 내장 리스트 \n"
   ]
  },
  {
   "cell_type": "code",
   "execution_count": 129,
   "metadata": {},
   "outputs": [
    {
     "name": "stdout",
     "output_type": "stream",
     "text": [
      "W l .\n",
      "apple peach pear\n"
     ]
    }
   ],
   "source": [
    "# page 17\n",
    "\n",
    "## 시퀀스 자료형\n",
    "text = \"Will is power.\"\n",
    "print(text[0], text[3], text[-1])\n",
    "\n",
    "flist = [\"apple\", \"banana\", \"tomato\", \"peach\", \"pear\" ]\n",
    "print(flist[0], flist[3], flist[-1])"
   ]
  },
  {
   "cell_type": "code",
   "execution_count": 131,
   "metadata": {},
   "outputs": [
    {
     "data": {
      "text/plain": [
       "[9, 16, 25]"
      ]
     },
     "execution_count": 131,
     "metadata": {},
     "output_type": "execute_result"
    }
   ],
   "source": [
    "# page 19\n",
    "\n",
    "## 슬라이싱\n",
    "s = [0, 1, 4, 9, 16, 25, 36, 49]\n",
    "s[3:6]"
   ]
  },
  {
   "cell_type": "code",
   "execution_count": 132,
   "metadata": {},
   "outputs": [
    {
     "data": {
      "text/plain": [
       "['두부', '양배추', '딸기']"
      ]
     },
     "execution_count": 132,
     "metadata": {},
     "output_type": "execute_result"
    }
   ],
   "source": [
    "# page 23\n",
    "\n",
    "## 요소 추가하기\n",
    "s_l = []\n",
    "s_l.append(\"두부\")\n",
    "s_l.append(\"양배추\")\n",
    "s_l.append(\"딸기\")\n",
    "\n",
    "s_l"
   ]
  },
  {
   "cell_type": "code",
   "execution_count": 134,
   "metadata": {},
   "outputs": [
    {
     "name": "stdout",
     "output_type": "stream",
     "text": [
      "스파이더맨\n",
      "['슈퍼맨', '헐크', '아이언맨', '배트맨']\n",
      "['헐크', '아이언맨', '배트맨']\n"
     ]
    }
   ],
   "source": [
    "# page 26\n",
    "\n",
    "## 요소 삭제하기 : pop(), remove()\n",
    "h = [\"스파이더맨\", \"슈퍼맨\", \"헐크\", \"아이언맨\", \"배트맨\"]\n",
    "# pop은 index에 해당하는 것을 꺼내서 사용가능\n",
    "a = h.pop(0)\n",
    "print(a)\n",
    "print(h)\n",
    "\n",
    "h.remove(\"슈퍼맨\")\n",
    "print(h)"
   ]
  },
  {
   "cell_type": "code",
   "execution_count": 136,
   "metadata": {},
   "outputs": [
    {
     "name": "stdout",
     "output_type": "stream",
     "text": [
      "--------------------\n",
      "1. 친구 리스트 출력\n",
      "2. 친구추가\n",
      "3. 친구삭제\n",
      "4. 이름변경\n",
      "9. 종료\n",
      "메뉴를 선택하시오: 1\n",
      "[]\n",
      "--------------------\n",
      "1. 친구 리스트 출력\n",
      "2. 친구추가\n",
      "3. 친구삭제\n",
      "4. 이름변경\n",
      "9. 종료\n",
      "메뉴를 선택하시오: 2\n",
      "이름을 입력하시오: 홍길동\n",
      "--------------------\n",
      "1. 친구 리스트 출력\n",
      "2. 친구추가\n",
      "3. 친구삭제\n",
      "4. 이름변경\n",
      "9. 종료\n",
      "메뉴를 선택하시오: 4\n",
      "변경하고 싶은 이름을 입력하시오: 홍길동\n",
      "새로운 이름을 입력하시오: 안녕\n",
      "--------------------\n",
      "1. 친구 리스트 출력\n",
      "2. 친구추가\n",
      "3. 친구삭제\n",
      "4. 이름변경\n",
      "9. 종료\n",
      "메뉴를 선택하시오: 1\n",
      "['안녕']\n",
      "--------------------\n",
      "1. 친구 리스트 출력\n",
      "2. 친구추가\n",
      "3. 친구삭제\n",
      "4. 이름변경\n",
      "9. 종료\n",
      "메뉴를 선택하시오: 3\n",
      "삭제하고 싶은 이름을 입력하시오:  안녕\n",
      "--------------------\n",
      "1. 친구 리스트 출력\n",
      "2. 친구추가\n",
      "3. 친구삭제\n",
      "4. 이름변경\n",
      "9. 종료\n",
      "메뉴를 선택하시오: 1\n",
      "[]\n",
      "--------------------\n",
      "1. 친구 리스트 출력\n",
      "2. 친구추가\n",
      "3. 친구삭제\n",
      "4. 이름변경\n",
      "9. 종료\n",
      "메뉴를 선택하시오: 4\n",
      "변경하고 싶은 이름을 입력하시오: \n",
      "이름이 발견되지 않았음\n",
      "--------------------\n",
      "1. 친구 리스트 출력\n",
      "2. 친구추가\n",
      "3. 친구삭제\n",
      "4. 이름변경\n",
      "9. 종료\n",
      "메뉴를 선택하시오: 9\n"
     ]
    }
   ],
   "source": [
    "# page 39\n",
    "\n",
    "## 연락처 관리 프로그램\n",
    "menu = 0\n",
    "friends = []\n",
    "while menu != 9:\n",
    "    print(\"--------------------\")\n",
    "    print(\"1. 친구 리스트 출력\")\n",
    "    print(\"2. 친구추가\")\n",
    "    print(\"3. 친구삭제\")\n",
    "    print(\"4. 이름변경\")\n",
    "    print(\"9. 종료\")\n",
    "    menu = int(input(\"메뉴를 선택하시오: \"))\n",
    "    if menu == 1:\n",
    "        print(friends)\n",
    "    elif  menu== 2:\n",
    "        name = input(\"이름을 입력하시오: \")\n",
    "        friends.append(name)\n",
    "    elif  menu == 3:\n",
    "        del_name = input(\"삭제하고 싶은 이름을 입력하시오:  \")\n",
    "        if del_name in friends:\n",
    "            friends.remove(del_name) \n",
    "        else:\n",
    "            print(\"이름이 발견되지 않았음\")\n",
    "    elif  menu == 4:\n",
    "        old_name = input(\"변경하고 싶은 이름을 입력하시오: \")\n",
    "        if old_name in friends:\n",
    "            index = friends.index(old_name)\n",
    "            new_name = input(\"새로운 이름을 입력하시오: \")\n",
    "            friends[index] = new_name\n",
    "        else:\n",
    "            print(\"이름이 발견되지 않았음\")"
   ]
  },
  {
   "cell_type": "code",
   "execution_count": 137,
   "metadata": {},
   "outputs": [
    {
     "name": "stdout",
     "output_type": "stream",
     "text": [
      "s = [[0, 0, 0, 0, 0], [0, 0, 0, 0, 0], [0, 0, 0, 0, 0]]\n"
     ]
    }
   ],
   "source": [
    "# page 43\n",
    "\n",
    "## 동적으로 2차원 리스트를 생성한다. \n",
    "rows = 3\n",
    "cols = 5\n",
    "\n",
    "s = [ ]\n",
    "for row in range(rows): \n",
    "    s += [[0]*cols]\n",
    "\n",
    "print(\"s =\", s)"
   ]
  },
  {
   "cell_type": "markdown",
   "metadata": {},
   "source": [
    "================================================================="
   ]
  },
  {
   "cell_type": "markdown",
   "metadata": {},
   "source": [
    "## Chapter7"
   ]
  },
  {
   "cell_type": "code",
   "execution_count": 139,
   "metadata": {},
   "outputs": [
    {
     "data": {
      "text/plain": [
       "(1, 2, 3, 4, 5, 'red', 'green', 'blue')"
      ]
     },
     "execution_count": 139,
     "metadata": {},
     "output_type": "execute_result"
    }
   ],
   "source": [
    "# page 5\n",
    "\n",
    "## Tuple\n",
    "n = (1, 2, 3, 4, 5)\n",
    "c = ('red', 'green', 'blue')\n",
    "\n",
    "t = n+c\n",
    "t"
   ]
  },
  {
   "cell_type": "code",
   "execution_count": 141,
   "metadata": {},
   "outputs": [
    {
     "name": "stdout",
     "output_type": "stream",
     "text": [
      "1 있음\n",
      "1 2 3 "
     ]
    }
   ],
   "source": [
    "# page 12\n",
    "\n",
    "# in 연산자\n",
    "n = {2, 1, 3}\n",
    "if 1 in n:\n",
    "    print(\"1 있음\")\n",
    "    \n",
    "for x in n:\n",
    "    print(x, end=\" \")"
   ]
  },
  {
   "cell_type": "code",
   "execution_count": 143,
   "metadata": {},
   "outputs": [
    {
     "data": {
      "text/plain": [
       "{1, 2, 3, 4}"
      ]
     },
     "execution_count": 143,
     "metadata": {},
     "output_type": "execute_result"
    }
   ],
   "source": [
    "# page 13\n",
    "\n",
    "## 세트에 요소 추가하기\n",
    "n = {2, 1, 3}\n",
    "# n[0]\n",
    "# 오류 발생함\n",
    "\n",
    "n.add(4)\n",
    "n"
   ]
  },
  {
   "cell_type": "code",
   "execution_count": 145,
   "metadata": {},
   "outputs": [
    {
     "name": "stdout",
     "output_type": "stream",
     "text": [
      "True\n",
      "True\n"
     ]
    },
    {
     "data": {
      "text/plain": [
       "True"
      ]
     },
     "execution_count": 145,
     "metadata": {},
     "output_type": "execute_result"
    }
   ],
   "source": [
    "# page 14\n",
    "\n",
    "## 부분 집합 연산\n",
    "A = {1, 2, 3}\n",
    "B = {1, 2, 3}\n",
    "print(A == B)\n",
    "\n",
    "A = {1, 2, 3, 4, 5}\n",
    "B = {1, 2, 3}\n",
    "print(B < A)\n",
    "\n",
    "A = {1, 2, 3, 4, 5}\n",
    "B = {1, 2, 3}\n",
    "# issubset이 부분 집합 확인 연산\n",
    "B.issubset(A)"
   ]
  },
  {
   "cell_type": "code",
   "execution_count": 47,
   "metadata": {},
   "outputs": [],
   "source": [
    "# page 18\n",
    "\n",
    "## 파일에서 중복되지 않은 단어의 개수\n",
    "# 단어에서 구두점을 제거하고 소문자로 만든다. \n",
    "def process(w):\n",
    "    output =\"\"\n",
    "    for ch in w:\n",
    "        if( ch.isalpha() ):\n",
    "            output += ch\n",
    "    return output.lower()\n",
    "words = set()\n",
    "\n",
    "# 파일을 연다.\n",
    "fname = input(\"입력 파일 이름: \")\n",
    "file = open(fname, \"r\")\n",
    "\n",
    "# 파일의 모든 줄에 대하여 반복한다.\n",
    "for line in file:\n",
    "        lineWords = line.split()\n",
    "        for word in lineWords:\n",
    "            words.add(process(word))# 단어를 세트에 추가한다.\n",
    "\n",
    "print(\"사용된 단어의 개수=\", len(words))\n",
    "print(words)\n"
   ]
  },
  {
   "cell_type": "code",
   "execution_count": 146,
   "metadata": {},
   "outputs": [
    {
     "name": "stdout",
     "output_type": "stream",
     "text": [
      "{'Kim': '01012345678', 'Park': '01012345679', 'Lee': '01012345680', 'Choi': '01056781234'}\n",
      "{'Park': '01012345679', 'Lee': '01012345680', 'Choi': '01056781234'}\n"
     ]
    }
   ],
   "source": [
    "# page 23\n",
    "\n",
    "## 항목 추가 & 삭제하기\n",
    "c = {'Kim':'01012345678',  'Park':'01012345679', 'Lee':'01012345680' }\n",
    "c['Choi'] = '01056781234'\n",
    "print(c)\n",
    "\n",
    "c.pop(\"Kim\")\n",
    "print(c)"
   ]
  },
  {
   "cell_type": "code",
   "execution_count": 149,
   "metadata": {},
   "outputs": [
    {
     "name": "stdout",
     "output_type": "stream",
     "text": [
      "단어를 입력하시오: 321\n",
      "없음\n"
     ]
    }
   ],
   "source": [
    "# page 25\n",
    "\n",
    "## 영한 사전 만들기\n",
    "e_d = dict()\n",
    "e_d['one'] = '하나'\n",
    "e_d['two'] = '둘'\n",
    "e_d['three'] = '셋'\n",
    "\n",
    "word = input(\"단어를 입력하시오: \")\n",
    "# e_d에 딕셔너리 없으면 '없음' 출력\n",
    "print(e_d.get(word, \"없음\"))"
   ]
  },
  {
   "cell_type": "code",
   "execution_count": 153,
   "metadata": {},
   "outputs": [
    {
     "name": "stdout",
     "output_type": "stream",
     "text": [
      "파일 이름: C:\\Users\\Student\\Desktop\\hahaha.txt\n",
      "{'Hello': 1, 'World': 1}\n"
     ]
    }
   ],
   "source": [
    "# page 27\n",
    "\n",
    "## 단어 카운터\n",
    "fname = input(\"파일 이름: \")\n",
    "file = open(fname, \"r\")\n",
    "\n",
    "table = dict()\n",
    "for line in file:\n",
    "    words = line.split()\n",
    "    for word in words:\n",
    "        if word not in table:\n",
    "            table[word] = 1\n",
    "        else:\n",
    "            table[word] += 1\n",
    "\n",
    "print(table)"
   ]
  },
  {
   "cell_type": "code",
   "execution_count": 2,
   "metadata": {},
   "outputs": [
    {
     "name": "stdout",
     "output_type": "stream",
     "text": [
      "문자열을 입력하시오: asa\n",
      "회문입니다.\n"
     ]
    }
   ],
   "source": [
    "# page 39\n",
    "\n",
    "## 회문 검사하기\n",
    "def check_pal(s):\n",
    "    \"\"\"\n",
    "    low = 0\n",
    "    high = len(s) - 1\n",
    "\n",
    "    while True:\n",
    "        if low > high:\n",
    "            return True;\n",
    "\n",
    "        a = s[low]\n",
    "        b = s[high]\n",
    "\n",
    "        if a != b:\n",
    "            return False\n",
    "        low += 1\n",
    "        high -= 1\n",
    "    \"\"\"\n",
    "    return s == s[::-1]\n",
    "\n",
    "s = input(\"문자열을 입력하시오: \")\n",
    "s = s.replace(\" \", \"\")\n",
    "\n",
    "if( check_pal(s)==True):\n",
    "    print(\"회문입니다.\")\n",
    "else:\n",
    "    print(\"회문이 아닙니다.\")\n"
   ]
  },
  {
   "cell_type": "markdown",
   "metadata": {},
   "source": [
    "================================================================="
   ]
  },
  {
   "cell_type": "markdown",
   "metadata": {},
   "source": [
    "## Chapter8"
   ]
  },
  {
   "cell_type": "code",
   "execution_count": 157,
   "metadata": {},
   "outputs": [
    {
     "name": "stdout",
     "output_type": "stream",
     "text": [
      "카운터 a의 값은 1\n"
     ]
    }
   ],
   "source": [
    "class Counter:\n",
    "    def __init__(self):\n",
    "        self.count = 0\n",
    "    def reset(self):\n",
    "        self.count = 0\n",
    "    def increment(self):\n",
    "        self.count += 1\n",
    "    def get(self):\n",
    "        return self.count\n",
    "    \n",
    "a = Counter()\n",
    "a.reset()\n",
    "a.increment()\n",
    "print(\"카운터 a의 값은\", a.get())\n",
    "\n",
    "a = Counter()\n",
    "b = Counter()\n",
    "\n",
    "a.reset()\n",
    "b.reset()"
   ]
  },
  {
   "cell_type": "code",
   "execution_count": 158,
   "metadata": {},
   "outputs": [
    {
     "name": "stdout",
     "output_type": "stream",
     "text": [
      "9 10 True\n",
      "11 10 True\n"
     ]
    }
   ],
   "source": [
    "class Television:\n",
    "    def __init__(self, channel, volume, on):\n",
    "        self.channel = channel\n",
    "        self.volume = volume\n",
    "        self.on = on\n",
    "    def show(self):\n",
    "        print(self.channel, self.volume, self.on)\n",
    "    def setChannel(self, channel):\n",
    "        self.channel = channel\n",
    "    def getChannel(self):\n",
    "        return self.channel\n",
    "    \n",
    "t = Television(9, 10, True)\n",
    "\n",
    "t.show()\n",
    "t.setChannel(11)\n",
    "t.show()"
   ]
  },
  {
   "cell_type": "code",
   "execution_count": 159,
   "metadata": {},
   "outputs": [
    {
     "data": {
      "text/plain": [
       "'Hong'"
      ]
     },
     "execution_count": 159,
     "metadata": {},
     "output_type": "execute_result"
    }
   ],
   "source": [
    "class Student:\n",
    "    def __init__(self, name=None, age=0):\n",
    "        self.__name = name\n",
    "        self.__age = age\n",
    "    def getAge(self):\n",
    "        return self.__age\n",
    "    def getName(self):\n",
    "        return self.__name\n",
    "    def setAge(self, age):\n",
    "        self.__age = age\n",
    "    def setName(self, name):\n",
    "        self.__name = name\n",
    "        \n",
    "obj = Student(\"Hong\", 20)\n",
    "obj.getName()"
   ]
  },
  {
   "cell_type": "markdown",
   "metadata": {},
   "source": [
    "================================================================="
   ]
  },
  {
   "cell_type": "markdown",
   "metadata": {},
   "source": [
    "## Chapter9"
   ]
  },
  {
   "cell_type": "code",
   "execution_count": 160,
   "metadata": {},
   "outputs": [],
   "source": [
    "from tkinter import *\n",
    "window = Tk()\n",
    "\n",
    "label = Label(window, text=\"Hello World!\")\n",
    "label.pack()\n",
    "\n",
    "window.mainloop()"
   ]
  },
  {
   "cell_type": "code",
   "execution_count": 161,
   "metadata": {},
   "outputs": [],
   "source": [
    "from tkinter import *\n",
    "window = Tk()\n",
    "\n",
    "b = Button(window, text=\"이것이 파이썬 버튼입니다.\")\n",
    "b.pack()\n",
    "\n",
    "window.mainloop()"
   ]
  },
  {
   "cell_type": "code",
   "execution_count": 165,
   "metadata": {},
   "outputs": [],
   "source": [
    "from tkinter import *\n",
    "window = Tk()\n",
    "\n",
    "b1 = Button(window, text=\"첫번째 버튼\")\n",
    "# b1.pack()\n",
    "# b1.pack(side=LEFT)\n",
    "b1.pack(side=LEFT, padx=10)\n",
    "b2 = Button(window, text=\"두번째 버튼\")\n",
    "# b2.pack()\n",
    "# b2.pack(side=LEFT)\n",
    "b2.pack(side=LEFT, padx=10)\n",
    "\n",
    "# 텍스트 바꿀 수 있음\n",
    "b1[\"text\"] = \"One\"\n",
    "b2[\"text\"] = \"Two\"\n",
    "\n",
    "window.mainloop()"
   ]
  },
  {
   "cell_type": "code",
   "execution_count": 166,
   "metadata": {},
   "outputs": [],
   "source": [
    "from tkinter import *\n",
    "\n",
    "def callback():\n",
    "    button[\"text\"] = \"Click!!\"\n",
    "\n",
    "window = Tk()\n",
    "button = Button(window, text=\"클릭\", command=callback)\n",
    "button.pack(side=LEFT)\n",
    "\n",
    "window.mainloop()"
   ]
  },
  {
   "cell_type": "code",
   "execution_count": 167,
   "metadata": {},
   "outputs": [],
   "source": [
    "from tkinter import *\n",
    "\n",
    "window = Tk()\n",
    "\n",
    "label = Label(window, text=\"안녕하세요!\")\n",
    "label.pack()\n",
    "\n",
    "button = Button(window, text=\"tkinter로 버튼을 쉽게 만들 수 있습니다.\")\n",
    "button.pack()\n",
    "\n",
    "window.mainloop()"
   ]
  },
  {
   "cell_type": "code",
   "execution_count": 6,
   "metadata": {},
   "outputs": [
    {
     "name": "stdout",
     "output_type": "stream",
     "text": [
      "Hello 버튼이 클릭 되었음!\n",
      "Quit 버튼이 클릭 되었음!\n"
     ]
    },
    {
     "data": {
      "text/plain": [
       "<__main__.App at 0x1c9446199d0>"
      ]
     },
     "execution_count": 6,
     "metadata": {},
     "output_type": "execute_result"
    }
   ],
   "source": [
    "from tkinter import *\n",
    "\n",
    "class App:\n",
    "    def __init__(self):\n",
    "        window = Tk()\n",
    "        helloB = Button(window, text=\"Hello\", command=self.hello, fg=\"red\")\n",
    "        helloB.pack(side=LEFT)\n",
    "        \n",
    "        quitB = Button(window, text=\"Quit\", command=self.quit1)\n",
    "        quitB.pack(side=LEFT)\n",
    "        \n",
    "        window.mainloop()\n",
    "        \n",
    "    def hello(self):\n",
    "        print(\"Hello 버튼이 클릭 되었음!\")\n",
    "    \n",
    "    def quit1(self):\n",
    "        print(\"Quit 버튼이 클릭 되었음!\")\n",
    "        \n",
    "App()"
   ]
  },
  {
   "cell_type": "markdown",
   "metadata": {},
   "source": [
    "================================================================="
   ]
  },
  {
   "cell_type": "markdown",
   "metadata": {},
   "source": [
    "## Chapter10\n",
    "## 내장 함수와 모듈 \n",
    "## : 자주쓰는 것 위주로 기억해두면 좋다."
   ]
  },
  {
   "cell_type": "markdown",
   "metadata": {},
   "source": [
    "================================================================="
   ]
  },
  {
   "cell_type": "markdown",
   "metadata": {},
   "source": [
    "## Chapter11"
   ]
  },
  {
   "cell_type": "code",
   "execution_count": 8,
   "metadata": {},
   "outputs": [
    {
     "name": "stdout",
     "output_type": "stream",
     "text": [
      "차량 = (Tesla, Model S, white, 10000)\n"
     ]
    }
   ],
   "source": [
    "class Vehicle:\n",
    "    def __init__(self, make, model, color, price):\n",
    "        self.make = make\n",
    "        self.model = model\n",
    "        self.color = color\n",
    "        self.price = price\n",
    "        \n",
    "    def setMake(self, make):\n",
    "        self.make = make\n",
    "    \n",
    "    def getMake(self):\n",
    "        return self.make\n",
    "    \n",
    "    def getDesc(self):\n",
    "        return \"차량 = ({0}, {1}, {2}, {3})\".format(self.make, self.model, self.color, self.price)\n",
    "    \n",
    "class Truck(Vehicle):\n",
    "    def __init__(self, make, model, color, price, payload):\n",
    "        super().__init__(make, model, color, price)\n",
    "        self.payload = payload\n",
    "        \n",
    "    def setPayload(self, payload):\n",
    "        self.payload = payload\n",
    "    \n",
    "    def getPayload(self):\n",
    "        return self.payload\n",
    "\n",
    "def main():\n",
    "    my = Truck(\"Tisla\", \"Model S\", \"white\", 10000, 2000)\n",
    "    my.setMake(\"Tesla\")\n",
    "    my.setPayload(2000)\n",
    "    print(my.getDesc())\n",
    "    \n",
    "main()"
   ]
  },
  {
   "cell_type": "markdown",
   "metadata": {},
   "source": [
    "================================================================="
   ]
  },
  {
   "cell_type": "markdown",
   "metadata": {},
   "source": [
    "## Chapter12\n",
    "## 예제를 따라해보면 좋다.\n",
    "\n",
    "## Chapter13\n",
    "## 알고리즘 문제로 예전에 풀어봤던 것들이다."
   ]
  }
 ],
 "metadata": {
  "kernelspec": {
   "display_name": "Python 3",
   "language": "python",
   "name": "python3"
  },
  "language_info": {
   "codemirror_mode": {
    "name": "ipython",
    "version": 3
   },
   "file_extension": ".py",
   "mimetype": "text/x-python",
   "name": "python",
   "nbconvert_exporter": "python",
   "pygments_lexer": "ipython3",
   "version": "3.8.3"
  }
 },
 "nbformat": 4,
 "nbformat_minor": 4
}
