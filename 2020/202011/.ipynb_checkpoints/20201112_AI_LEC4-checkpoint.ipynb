{
 "cells": [
  {
   "cell_type": "markdown",
   "metadata": {},
   "source": [
    "# 2020.11.12\n",
    "\n",
    "# 인공지능 강의 4일차\n"
   ]
  },
  {
   "cell_type": "markdown",
   "metadata": {},
   "source": [
    "================================================================="
   ]
  },
  {
   "cell_type": "markdown",
   "metadata": {},
   "source": [
    "복습\n",
    "\n",
    " - 지식 습득 vs 데이터 습득\n",
    "\n",
    " - 추론/지식 공학 vs 데이터 사이언스\n"
   ]
  },
  {
   "cell_type": "markdown",
   "metadata": {},
   "source": [
    "================================================================="
   ]
  },
  {
   "cell_type": "markdown",
   "metadata": {},
   "source": [
    "## 기호주의 vs 연결주의\n",
    "\n",
    "예를 들면\n",
    "기호주의는 외국인이 제 2 외국어를 배우는 것. 추론/지식 공학\n",
    "연결주의는 어릴 때 외국어를 배우는 것. 딥러닝\n",
    "\n",
    "### 인지와 추론\n",
    "### 딥블루(설명) vs 알파고(학습)\n",
    "***이 세상의 정보는 설명을 통해 완벽하게 표현이 안 된다.\n",
    "언어의 해상도가 인식의 해상도보다 더 낮다.***\n",
    "\n",
    "|기호주의(Symbolism)||연결주의(Connectionism)|\n",
    "|:------:||:------:|\n",
    "|규칙기반 지식표현||신경망 기반 지식표현|\n",
    "|설명||학습|\n",
    "|기호와 논리||빅데이터와 경험|\n",
    "|딥블루||알파고|\n",
    "\n",
    "#### 기호주의\n",
    " - 규칙 기반 지식 표현, 규칙은 관계, 추천, 지시, 전략, 휴리스틱(경험)을 표현할 수 있다.\n",
    "#### 연결주의(신경망)\n",
    " - 신경망 : 신경 세포가 신경절로 연결되어 정보전달\n",
    " - 신경회로망 : 노드 또는 처리요소(processing element)를 연결\n",
    " - 인공 신경회로망의 뉴런(처리요소)의 구조\n",
    " - 2층 퍼셉트론\n",
    " \n",
    "#### 기호주의는 다음을 예상할 수 있으나 연결주의는 예상할 수 없다."
   ]
  },
  {
   "cell_type": "markdown",
   "metadata": {},
   "source": [
    "========================================================================="
   ]
  },
  {
   "cell_type": "markdown",
   "metadata": {},
   "source": [
    "### Numpy ndarray 개요"
   ]
  },
  {
   "cell_type": "code",
   "execution_count": 12,
   "metadata": {},
   "outputs": [],
   "source": [
    "import numpy as np"
   ]
  },
  {
   "cell_type": "markdown",
   "metadata": {},
   "source": [
    "#### shape : (row, column)형태로 알려준다.\n",
    "#### ndim : 차원을 알려준다."
   ]
  },
  {
   "cell_type": "code",
   "execution_count": 17,
   "metadata": {},
   "outputs": [
    {
     "name": "stdout",
     "output_type": "stream",
     "text": [
      "(3, 1)\n",
      "2 차원\n"
     ]
    }
   ],
   "source": [
    "# shape\n",
    "# ndim\n",
    "array1 = np.array([[1], [2], [3]])\n",
    "\n",
    "print(array1.shape)\n",
    "print(array1.ndim, \"차원\")"
   ]
  },
  {
   "cell_type": "markdown",
   "metadata": {},
   "source": [
    "#### dtype : 타입을 알려준다."
   ]
  },
  {
   "cell_type": "code",
   "execution_count": 19,
   "metadata": {},
   "outputs": [
    {
     "name": "stdout",
     "output_type": "stream",
     "text": [
      "[1 2 3] int32\n",
      "--------------------\n",
      "['1' '2' 'test'] <U11\n",
      "--------------------\n",
      "[1. 2. 3.] float64\n",
      "--------------------\n"
     ]
    }
   ],
   "source": [
    "# dtype\n",
    "list1 = [1, 2, 3]\n",
    "array1 = np.array(list1)\n",
    "print(array1, array1.dtype)\n",
    "print('--------------------')\n",
    "list2 = [1, 2, 'test']\n",
    "array2 = np.array(list2)\n",
    "print(array2, array2.dtype)\n",
    "print('--------------------')\n",
    "list3 = [1, 2, 3.0]\n",
    "array3 = np.array(list3)\n",
    "print(array3, array3.dtype)\n",
    "print('--------------------')"
   ]
  },
  {
   "cell_type": "markdown",
   "metadata": {},
   "source": [
    "#### astype() : type 변환시켜준다."
   ]
  },
  {
   "cell_type": "code",
   "execution_count": 20,
   "metadata": {},
   "outputs": [
    {
     "name": "stdout",
     "output_type": "stream",
     "text": [
      "[1. 2. 3.] float64\n",
      "--------------------\n",
      "[1 2 3] int32\n",
      "--------------------\n",
      "[1 2 3] int32\n",
      "--------------------\n"
     ]
    }
   ],
   "source": [
    "# astype()\n",
    "\n",
    "# int -> float\n",
    "array_int = np.array([1, 2, 3])\n",
    "array_float = array_int.astype('float64')\n",
    "print(array_float, array_float.dtype)\n",
    "print('--------------------')\n",
    "# float -> int\n",
    "array_int1= array_float.astype('int32')\n",
    "print(array_int1, array_int1.dtype)\n",
    "print('--------------------')\n",
    "array_float1 = np.array([1.1, 2.1, 3.1])\n",
    "array_int2= array_float1.astype('int32')\n",
    "print(array_int2, array_int2.dtype)\n",
    "print('--------------------')"
   ]
  },
  {
   "cell_type": "markdown",
   "metadata": {},
   "source": [
    "#### arange(n) : 0~n-1까지 생성한다.\n",
    "#### zeros((row, column), dtype='설정가능') : row, column값들을 0으로 초기화한다.\n",
    "#### ones((row, column)): row, column값들을 1로 초기화한다."
   ]
  },
  {
   "cell_type": "code",
   "execution_count": 21,
   "metadata": {},
   "outputs": [
    {
     "name": "stdout",
     "output_type": "stream",
     "text": [
      "[0 1 2 3 4 5 6 7 8 9]\n",
      "int32 (10,)\n",
      "--------------------\n",
      "[[0 0]\n",
      " [0 0]\n",
      " [0 0]]\n",
      "int32 (3, 2)\n",
      "--------------------\n",
      "[[1. 1.]\n",
      " [1. 1.]\n",
      " [1. 1.]]\n",
      "float64 (3, 2)\n",
      "--------------------\n"
     ]
    }
   ],
   "source": [
    "sequence_array = np.arange(10)\n",
    "print(sequence_array)\n",
    "print(sequence_array.dtype, sequence_array.shape)\n",
    "print('--------------------')\n",
    "zero_array = np.zeros((3,2),dtype='int32')\n",
    "print(zero_array)\n",
    "print(zero_array.dtype, zero_array.shape)\n",
    "print('--------------------')\n",
    "one_array = np.ones((3,2))\n",
    "print(one_array)\n",
    "print(one_array.dtype, one_array.shape)\n",
    "print('--------------------')"
   ]
  },
  {
   "cell_type": "markdown",
   "metadata": {},
   "source": [
    "#### reshape(row, column) : 배열을 새롭게 정의한다. 불가능할 경우 에러가 발생한다. row나 column 중 한 개를 -1로 할 경우 가능한 수치로 맞춰준다. 둘다 -1일 경우나 가능한 수치를 찾을 수 없을 경우 에러가 발생한다."
   ]
  },
  {
   "cell_type": "code",
   "execution_count": 25,
   "metadata": {},
   "outputs": [
    {
     "name": "stdout",
     "output_type": "stream",
     "text": [
      "array1:\n",
      " [0 1 2 3 4 5 6 7 8 9]\n",
      "--------------------\n",
      "array2:\n",
      " [[0 1 2 3 4]\n",
      " [5 6 7 8 9]]\n",
      "--------------------\n",
      "array3:\n",
      " [[0 1]\n",
      " [2 3]\n",
      " [4 5]\n",
      " [6 7]\n",
      " [8 9]]\n",
      "--------------------\n",
      "array4:\n",
      " [[0 1 2 3 4]\n",
      " [5 6 7 8 9]]\n",
      "--------------------\n"
     ]
    }
   ],
   "source": [
    "array1 = np.arange(10)\n",
    "print('array1:\\n', array1)\n",
    "print('--------------------')\n",
    "array2 = array1.reshape(2,5)\n",
    "print('array2:\\n',array2)\n",
    "print('--------------------')\n",
    "array3 = array1.reshape(5,2)\n",
    "print('array3:\\n',array3)\n",
    "print('--------------------')\n",
    "\n",
    "# error\n",
    "# array1.reshape(4, 3)\n",
    "# array4 = array1.reshape(-1, -1)\n",
    "# array4 = array1.reshape(-4 -1)\n",
    "\n",
    "array4 = array1.reshape(2, -1)\n",
    "print('array4:\\n', array4)\n",
    "print('--------------------')"
   ]
  },
  {
   "cell_type": "markdown",
   "metadata": {},
   "source": [
    "#### reshape()로 차원변경도 가능하다.\n",
    "#### tolist() : ndarray를 list로 변환한다."
   ]
  },
  {
   "cell_type": "code",
   "execution_count": 27,
   "metadata": {},
   "outputs": [
    {
     "name": "stdout",
     "output_type": "stream",
     "text": [
      "array3d:\n",
      " [[[0, 1], [2, 3]], [[4, 5], [6, 7]]]\n",
      "--------------------\n",
      "array5:\n",
      " [[0], [1], [2], [3], [4], [5], [6], [7]]\n",
      "array5 shape: (8, 1)\n",
      "--------------------\n",
      "array6:\n",
      " [[0], [1], [2], [3], [4], [5], [6], [7]]\n",
      "array6 shape: (8, 1)\n",
      "--------------------\n"
     ]
    }
   ],
   "source": [
    "array1 = np.arange(8)\n",
    "array3d = array1.reshape((2,2,2))\n",
    "print('array3d:\\n',array3d.tolist())\n",
    "print('--------------------')\n",
    "\n",
    "\n",
    "# 3차원 ndarray를 2차원 ndarray로 변환\n",
    "array5 = array3d.reshape(-1,1)\n",
    "print('array5:\\n',array5.tolist())\n",
    "print('array5 shape:',array5.shape)\n",
    "print('--------------------')\n",
    "\n",
    "\n",
    "# 1차원 ndarray를 2차원 ndarray로 변환\n",
    "array6 = array1.reshape(-1,1)\n",
    "print('array6:\\n',array6.tolist())\n",
    "print('array6 shape:',array6.shape)\n",
    "print('--------------------')"
   ]
  },
  {
   "cell_type": "markdown",
   "metadata": {},
   "source": [
    "#### indexing : list에서 하던대로 하면 된다,"
   ]
  },
  {
   "cell_type": "code",
   "execution_count": 28,
   "metadata": {},
   "outputs": [
    {
     "name": "stdout",
     "output_type": "stream",
     "text": [
      "array1: [1 2 3 4 5 6 7 8 9]\n",
      "--------------------\n",
      "value: 3\n",
      "--------------------\n",
      "[[1 2 3]\n",
      " [4 5 6]\n",
      " [7 8 9]]\n",
      "(row=0,col=0) index 가리키는 값: 1\n",
      "(row=0,col=1) index 가리키는 값: 2\n",
      "(row=1,col=0) index 가리키는 값: 4\n",
      "(row=2,col=2) index 가리키는 값: 9\n",
      "--------------------\n"
     ]
    }
   ],
   "source": [
    "# 1에서 부터 9 까지의 1차원 ndarray 생성 \n",
    "array1 = np.arange(start=1, stop=10)\n",
    "print('array1:',array1)\n",
    "print('--------------------')\n",
    "\n",
    "# index는 0 부터 시작하므로 array1[2]는 3번째 index 위치의 데이터 값을 의미\n",
    "value = array1[2]\n",
    "print('value:',value)\n",
    "print('--------------------')\n",
    "\n",
    "array1d = np.arange(start=1, stop=10)\n",
    "array2d = array1d.reshape(3,3)\n",
    "print(array2d)\n",
    "\n",
    "print('(row=0,col=0) index 가리키는 값:', array2d[0,0] )\n",
    "print('(row=0,col=1) index 가리키는 값:', array2d[0,1] )\n",
    "print('(row=1,col=0) index 가리키는 값:', array2d[1,0] )\n",
    "print('(row=2,col=2) index 가리키는 값:', array2d[2,2] )\n",
    "print('--------------------')"
   ]
  },
  {
   "cell_type": "markdown",
   "metadata": {},
   "source": [
    "#### slicing : 부분 추출 가능하다."
   ]
  },
  {
   "cell_type": "code",
   "execution_count": 35,
   "metadata": {},
   "outputs": [
    {
     "name": "stdout",
     "output_type": "stream",
     "text": [
      "[0:3] -> [1 2 3]\n",
      "--------------------\n",
      "[:3] -> [1 2 3]\n",
      "--------------------\n",
      "[3:] -> [4 5 6 7 8 9]\n",
      "--------------------\n",
      "[:] -> [1 2 3 4 5 6 7 8 9]\n",
      "--------------------\n",
      "-----------------2 ARRAY-----------------\n",
      "ORIGINAL\n",
      "array2d:\n",
      " [[1 2 3]\n",
      " [4 5 6]\n",
      " [7 8 9]]\n",
      "--------------------\n",
      "array2d[0:2, 0:2] \n",
      " [[1 2]\n",
      " [4 5]]\n",
      "--------------------\n",
      "array2d[1:3, 0:3] \n",
      " [[4 5 6]\n",
      " [7 8 9]]\n",
      "--------------------\n",
      "array2d[1:3, :] \n",
      " [[4 5 6]\n",
      " [7 8 9]]\n",
      "--------------------\n",
      "array2d[:, :] \n",
      " [[1 2 3]\n",
      " [4 5 6]\n",
      " [7 8 9]]\n",
      "--------------------\n",
      "array2d[:2, 1:] \n",
      " [[2 3]\n",
      " [5 6]]\n",
      "--------------------\n",
      "array2d[:2, 0] \n",
      " [1 4]\n",
      "--------------------\n"
     ]
    }
   ],
   "source": [
    "array1 = np.arange(start=1, stop=10)\n",
    "array3 = array1[0:3]\n",
    "print(\"[0:3] ->\", array3)\n",
    "print('--------------------')\n",
    "\n",
    "array1 = np.arange(start=1, stop=10)\n",
    "array4 = array1[:3]\n",
    "print(\"[:3] ->\", array4)\n",
    "print('--------------------')\n",
    "\n",
    "array5 = array1[3:]\n",
    "print(\"[3:] ->\", array5)\n",
    "print('--------------------')\n",
    "\n",
    "array6 = array1[:]\n",
    "print(\"[:] ->\", array6)\n",
    "print('--------------------')\n",
    "\n",
    "# 2차원은 주목하자!!!\n",
    "array1d = np.arange(start=1, stop=10)\n",
    "array2d = array1d.reshape(3,3)\n",
    "print(\"-----------------2 ARRAY-----------------\")\n",
    "print(\"ORIGINAL\")\n",
    "print('array2d:\\n',array2d)\n",
    "print('--------------------')\n",
    "\n",
    "print('array2d[0:2, 0:2] \\n', array2d[0:2, 0:2])\n",
    "print('--------------------')\n",
    "print('array2d[1:3, 0:3] \\n', array2d[1:3, 0:3])\n",
    "print('--------------------')\n",
    "print('array2d[1:3, :] \\n', array2d[1:3, :])\n",
    "print('--------------------')\n",
    "print('array2d[:, :] \\n', array2d[:, :])\n",
    "print('--------------------')\n",
    "print('array2d[:2, 1:] \\n', array2d[:2, 1:])\n",
    "print('--------------------')\n",
    "print('array2d[:2, 0] \\n', array2d[:2, 0])\n",
    "print('--------------------')"
   ]
  },
  {
   "cell_type": "markdown",
   "metadata": {},
   "source": [
    "#### Fancy Indexing"
   ]
  },
  {
   "cell_type": "code",
   "execution_count": 36,
   "metadata": {},
   "outputs": [
    {
     "name": "stdout",
     "output_type": "stream",
     "text": [
      "ORIGINAL\n",
      "[[1 2 3]\n",
      " [4 5 6]\n",
      " [7 8 9]]\n",
      "--------------------\n",
      "array2d[[0,1], 2] =>  [3, 6]\n",
      "--------------------\n",
      "array2d[[0,1], 0:2] =>  [[1, 2], [4, 5]]\n",
      "--------------------\n",
      "array2d[[0,1]] =>  [[1, 2, 3], [4, 5, 6]]\n",
      "--------------------\n"
     ]
    }
   ],
   "source": [
    "# indexing & tolist\n",
    "\n",
    "array1d = np.arange(start=1, stop=10)\n",
    "array2d = array1d.reshape(3,3)\n",
    "print('ORIGINAL')\n",
    "print(array2d)\n",
    "print('--------------------')\n",
    "\n",
    "array3 = array2d[[0,1], 2]\n",
    "print('array2d[[0,1], 2] => ',array3.tolist())\n",
    "print('--------------------')\n",
    "\n",
    "array4 = array2d[[0,1], 0:2]\n",
    "print('array2d[[0,1], 0:2] => ',array4.tolist())\n",
    "print('--------------------')\n",
    "\n",
    "array5 = array2d[[0,1]]\n",
    "print('array2d[[0,1]] => ',array5.tolist())\n",
    "print('--------------------')"
   ]
  },
  {
   "cell_type": "markdown",
   "metadata": {},
   "source": [
    "#### Boolean Indexing"
   ]
  },
  {
   "cell_type": "code",
   "execution_count": 42,
   "metadata": {},
   "outputs": [
    {
     "name": "stdout",
     "output_type": "stream",
     "text": [
      "ORIGINAL\n",
      "[1 2 3 4 5 6 7 8 9]\n",
      "--------------------\n",
      "array1d[array1d > 5 ]불린 인덱싱 결과 값 : [6 7 8 9]\n",
      "--------------------\n",
      "[False False False False False  True  True  True  True]\n",
      "--------------------\n",
      "불린 인덱스로 필터링 결과 : [1 6 7 8 9]\n",
      "--------------------\n",
      "일반 인덱스로 필터링 결과 : [6 7 8 9]\n",
      "--------------------\n"
     ]
    }
   ],
   "source": [
    "array1d = np.arange(start=1, stop=10)\n",
    "print(\"ORIGINAL\")\n",
    "print(array1d)\n",
    "print('--------------------')\n",
    "\n",
    "# [ ] 안에 array1d > 5 Boolean indexing을 적용 \n",
    "array3 = array1d[array1d > 5]\n",
    "print('array1d[array1d > 5 ]불린 인덱싱 결과 값 :', array3)\n",
    "print('--------------------')\n",
    "\n",
    "print(array1d > 5)\n",
    "print('--------------------')\n",
    "\n",
    "boolean_indexes = np.array([True, False, False, False, False,  True,  True,  True,  True])\n",
    "array3 = array1d[boolean_indexes]\n",
    "print('불린 인덱스로 필터링 결과 :', array3)\n",
    "print('--------------------')\n",
    "\n",
    "indexes = np.array([5,6,7,8])\n",
    "array4 = array1d[ indexes ]\n",
    "print('일반 인덱스로 필터링 결과 :',array4)\n",
    "print('--------------------')"
   ]
  },
  {
   "cell_type": "markdown",
   "metadata": {},
   "source": [
    "### 행렬의 정렬 - sort()와 argsort()\n",
    "#### sort() 사용이 list의 sort()와 비슷하다.\n",
    "#### np.sort(A)하면 정렬된 A의 리턴값이 있고, A.sort()하면 리턴값은 없고 정렬되어 있다.\n",
    "#### 내림차순은 np.sort(A)[::-1] 이것 또한 list와 비슷하다."
   ]
  },
  {
   "cell_type": "code",
   "execution_count": 43,
   "metadata": {},
   "outputs": [
    {
     "name": "stdout",
     "output_type": "stream",
     "text": [
      "원본 행렬: [3 1 9 5]\n",
      "--------------------\n",
      "np.sort( ) 호출 후 반환된 정렬 행렬: [1 3 5 9]\n",
      "np.sort( ) 호출 후 원본 행렬: [3 1 9 5]\n",
      "--------------------\n",
      "org_array.sort( ) 호출 후 반환된 행렬: None\n",
      "org_array.sort( ) 호출 후 원본 행렬: [1 3 5 9]\n",
      "--------------------\n",
      "내림차순으로 정렬: [9 5 3 1]\n",
      "--------------------\n"
     ]
    }
   ],
   "source": [
    "org_array = np.array([ 3, 1, 9, 5]) \n",
    "print('원본 행렬:', org_array)\n",
    "print('--------------------')\n",
    "\n",
    "\n",
    "# np.sort( )로 정렬 \n",
    "sort_array1 = np.sort(org_array)         \n",
    "print ('np.sort( ) 호출 후 반환된 정렬 행렬:', sort_array1) \n",
    "print('np.sort( ) 호출 후 원본 행렬:', org_array)\n",
    "print('--------------------')\n",
    "\n",
    "\n",
    "# ndarray.sort( )로 정렬\n",
    "sort_array2 = org_array.sort()\n",
    "print('org_array.sort( ) 호출 후 반환된 행렬:', sort_array2)\n",
    "print('org_array.sort( ) 호출 후 원본 행렬:', org_array)\n",
    "print('--------------------')\n",
    "\n",
    "sort_array1_desc = np.sort(org_array)[::-1]\n",
    "print ('내림차순으로 정렬:', sort_array1_desc) \n",
    "print('--------------------')"
   ]
  },
  {
   "cell_type": "markdown",
   "metadata": {},
   "source": [
    "#### sort는 2차원으로 정렬하는데도 유용하다.\n",
    "#### row : axis=0\n",
    "#### column : axis=1"
   ]
  },
  {
   "cell_type": "code",
   "execution_count": 44,
   "metadata": {},
   "outputs": [
    {
     "name": "stdout",
     "output_type": "stream",
     "text": [
      "로우 방향으로 정렬:\n",
      " [[ 7  1]\n",
      " [ 8 12]]\n",
      "--------------------\n",
      "컬럼 방향으로 정렬:\n",
      " [[ 8 12]\n",
      " [ 1  7]]\n",
      "--------------------\n"
     ]
    }
   ],
   "source": [
    "array2d = np.array([[8, 12], \n",
    "                   [7, 1 ]])\n",
    "\n",
    "sort_array2d_axis0 = np.sort(array2d, axis=0)\n",
    "print('로우 방향으로 정렬:\\n', sort_array2d_axis0)\n",
    "print('--------------------')\n",
    "\n",
    "sort_array2d_axis1 = np.sort(array2d, axis=1)\n",
    "print('컬럼 방향으로 정렬:\\n', sort_array2d_axis1)\n",
    "print('--------------------')"
   ]
  },
  {
   "cell_type": "markdown",
   "metadata": {},
   "source": [
    "#### argsort() : 정렬된 값의 인덱스를 얻을 수 있다. 내림차순도 가능하다."
   ]
  },
  {
   "cell_type": "code",
   "execution_count": 45,
   "metadata": {},
   "outputs": [
    {
     "name": "stdout",
     "output_type": "stream",
     "text": [
      "행렬 정렬 시 원본 행렬의 인덱스: [1 0 3 2]\n",
      "--------------------\n",
      "행렬 내림차순 정렬 시 원본 행렬의 인덱스: [2 3 0 1]\n"
     ]
    }
   ],
   "source": [
    "org_array = np.array([ 3, 1, 9, 5]) \n",
    "sort_indices = np.argsort(org_array)\n",
    "print('행렬 정렬 시 원본 행렬의 인덱스:', sort_indices)\n",
    "print('--------------------')\n",
    "\n",
    "org_array = np.array([ 3, 1, 9, 5]) \n",
    "sort_indices_desc = np.argsort(org_array)[::-1]\n",
    "print('행렬 내림차순 정렬 시 원본 행렬의 인덱스:', sort_indices_desc)"
   ]
  },
  {
   "cell_type": "markdown",
   "metadata": {},
   "source": [
    "#### 응용 : 두개를 연결해서 사용할 수 있다."
   ]
  },
  {
   "cell_type": "code",
   "execution_count": 46,
   "metadata": {},
   "outputs": [
    {
     "name": "stdout",
     "output_type": "stream",
     "text": [
      "성적 오름차순 정렬 시 score_array의 인덱스: [0 2 4 1 3]\n",
      "성적 오름차순으로 name_array의 이름 출력: ['John' 'Sarah' 'Samuel' 'Mike' 'Kate']\n"
     ]
    }
   ],
   "source": [
    "name_array = np.array(['John', 'Mike', 'Sarah', 'Kate', 'Samuel'])\n",
    "score_array= np.array([78, 95, 84, 98, 88])\n",
    "\n",
    "sort_indices_asc = np.argsort(score_array)\n",
    "print('성적 오름차순 정렬 시 score_array의 인덱스:', sort_indices_asc)\n",
    "print('성적 오름차순으로 name_array의 이름 출력:', name_array[sort_indices_asc])"
   ]
  },
  {
   "cell_type": "markdown",
   "metadata": {},
   "source": [
    "### 선형대수 연산 - 행렬 내적과 전치 행렬 구하기\n",
    "#### dot과 transpose"
   ]
  },
  {
   "cell_type": "markdown",
   "metadata": {},
   "source": [
    "#### dot : 행렬의 내적"
   ]
  },
  {
   "cell_type": "code",
   "execution_count": 47,
   "metadata": {},
   "outputs": [
    {
     "name": "stdout",
     "output_type": "stream",
     "text": [
      "행렬 내적 결과:\n",
      " [[ 58  64]\n",
      " [139 154]]\n"
     ]
    }
   ],
   "source": [
    "A = np.array([[1, 2, 3],\n",
    "              [4, 5, 6]])\n",
    "B = np.array([[7, 8],\n",
    "              [9, 10],\n",
    "              [11, 12]])\n",
    "\n",
    "dot_product = np.dot(A, B)\n",
    "print('행렬 내적 결과:\\n', dot_product)"
   ]
  },
  {
   "cell_type": "markdown",
   "metadata": {},
   "source": [
    "#### transpose : 전치 행렬, row와 column 값을 바꾼다."
   ]
  },
  {
   "cell_type": "code",
   "execution_count": 48,
   "metadata": {},
   "outputs": [
    {
     "name": "stdout",
     "output_type": "stream",
     "text": [
      "A의 전치 행렬:\n",
      " [[1 3]\n",
      " [2 4]]\n"
     ]
    }
   ],
   "source": [
    "A = np.array([[1, 2],\n",
    "              [3, 4]])\n",
    "transpose_mat = np.transpose(A)\n",
    "print('A의 전치 행렬:\\n', transpose_mat)"
   ]
  },
  {
   "cell_type": "markdown",
   "metadata": {},
   "source": [
    "================================================================="
   ]
  },
  {
   "cell_type": "markdown",
   "metadata": {},
   "source": [
    "## Numpy 문제"
   ]
  },
  {
   "cell_type": "markdown",
   "metadata": {},
   "source": [
    "1. 요소 10개 index 4가 7이 되도록\n",
    "2. 10~24까지 만들기\n",
    "3. 7~16까지 reshape 사용 2줄로\n",
    "4. 3x3 0~9 중 숫자를 사용하여 랜덤으로 만들기 np.random.randint(0, 9, (3,3))\n",
    "5. np.random.random(3, 3, 3)\n",
    "6. random.randint(10, size=12) 하고 정렬\n",
    "7. 30개 random 0에서 100사이의 값이 되도록"
   ]
  },
  {
   "cell_type": "code",
   "execution_count": 73,
   "metadata": {},
   "outputs": [
    {
     "name": "stdout",
     "output_type": "stream",
     "text": [
      "[0. 0. 0. 0. 7. 0. 0. 0. 0. 0.]\n"
     ]
    }
   ],
   "source": [
    "# 1. 요소 10개 다섯번째 인덱스가 7이 되도록\n",
    "n = 10\n",
    "n1_array = np.zeros(n)\n",
    "n1_array[n//2-1] = 7\n",
    "print(n1_array)"
   ]
  },
  {
   "cell_type": "code",
   "execution_count": 54,
   "metadata": {},
   "outputs": [
    {
     "name": "stdout",
     "output_type": "stream",
     "text": [
      "[10 11 12 13 14 15 16 17 18 19 20 21 22 23 24]\n"
     ]
    }
   ],
   "source": [
    "# 2. 10~24까지 만들기\n",
    "print(np.arange(start=10, stop=25))"
   ]
  },
  {
   "cell_type": "code",
   "execution_count": 55,
   "metadata": {},
   "outputs": [
    {
     "name": "stdout",
     "output_type": "stream",
     "text": [
      "[[ 7  8  9 10 11]\n",
      " [12 13 14 15 16]]\n"
     ]
    }
   ],
   "source": [
    "# 3. 7~16까지 만들고 reshape -> row =2\n",
    "n3_array = np.arange(start=7, stop=17)\n",
    "print(n3_array.reshape(2, -1))"
   ]
  },
  {
   "cell_type": "code",
   "execution_count": 56,
   "metadata": {},
   "outputs": [
    {
     "name": "stdout",
     "output_type": "stream",
     "text": [
      "[[8 5 8]\n",
      " [8 1 4]\n",
      " [0 6 5]]\n"
     ]
    }
   ],
   "source": [
    "# 4. np.random.randint(0, 9, (3, 3))\n",
    "print(np.random.randint(0, 9, (3, 3)))"
   ]
  },
  {
   "cell_type": "code",
   "execution_count": 72,
   "metadata": {},
   "outputs": [
    {
     "name": "stdout",
     "output_type": "stream",
     "text": [
      "[[[0.16306284 0.88341297 0.76693302]\n",
      "  [0.72664479 0.8011613  0.5480456 ]\n",
      "  [0.83931211 0.09283323 0.75477464]]\n",
      "\n",
      " [[0.81890607 0.03731829 0.27236669]\n",
      "  [0.51132959 0.91724359 0.87506188]\n",
      "  [0.72249059 0.23607445 0.23623688]]\n",
      "\n",
      " [[0.90646651 0.02782987 0.3715619 ]\n",
      "  [0.58287848 0.47462422 0.09858839]\n",
      "  [0.17698138 0.76123266 0.64733079]]]\n"
     ]
    }
   ],
   "source": [
    "# 5. np.random.random((3, 3, 3))\n",
    "# 0.0 ~ 1.0 사이의 실수를 반환한다.\n",
    "print(np.random.random((3, 3, 3)))"
   ]
  },
  {
   "cell_type": "code",
   "execution_count": 70,
   "metadata": {},
   "outputs": [
    {
     "name": "stdout",
     "output_type": "stream",
     "text": [
      "=========ORIGINAL=========\n",
      "[8 6 2 4 7 9 3 0 2 8 6 6]\n",
      "==========================\n",
      "===========SORT===========\n",
      "[0 2 2 3 4 6 6 6 7 8 8 9]\n"
     ]
    }
   ],
   "source": [
    "# 6. random.randint(10, size=12) 하고 정렬\n",
    "n6_array = np.random.randint(10, size=12)\n",
    "print(\"=========ORIGINAL=========\")\n",
    "print(n6_array)\n",
    "print(\"==========================\")\n",
    "print(\"===========SORT===========\")\n",
    "print(np.sort(n6_array))"
   ]
  },
  {
   "cell_type": "code",
   "execution_count": 71,
   "metadata": {},
   "outputs": [
    {
     "name": "stdout",
     "output_type": "stream",
     "text": [
      "=========ORIGINAL=========\n",
      "[ 19  50  98  65   7  10   2  84  49   9  93  60  99   6  20  64  52  97\n",
      "   2  20  61  51  41  91 100  94  26  98  19  68]\n",
      "==========================\n",
      "===========SORT===========\n",
      "[  2   2   6   7   9  10  19  19  20  20  26  41  49  50  51  52  60  61\n",
      "  64  65  68  84  91  93  94  97  98  98  99 100]\n"
     ]
    }
   ],
   "source": [
    "# 7. 30개 random 0에서 100사이의 값이 되도록\n",
    "n7_array = np.random.randint(101, size=30)\n",
    "print(\"=========ORIGINAL=========\")\n",
    "print(n7_array)\n",
    "print(\"==========================\")\n",
    "print(\"===========SORT===========\")\n",
    "print(np.sort(n7_array))"
   ]
  }
 ],
 "metadata": {
  "kernelspec": {
   "display_name": "Python 3",
   "language": "python",
   "name": "python3"
  },
  "language_info": {
   "codemirror_mode": {
    "name": "ipython",
    "version": 3
   },
   "file_extension": ".py",
   "mimetype": "text/x-python",
   "name": "python",
   "nbconvert_exporter": "python",
   "pygments_lexer": "ipython3",
   "version": "3.7.3"
  }
 },
 "nbformat": 4,
 "nbformat_minor": 4
}
