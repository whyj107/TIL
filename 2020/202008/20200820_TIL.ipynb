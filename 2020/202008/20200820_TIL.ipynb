{
 "cells": [
  {
   "cell_type": "markdown",
   "metadata": {},
   "source": [
    "20200820\n",
    "\n",
    "# 컴퓨터\n",
    "\n",
    " - 알고리즘(코드워) : Basic Calculator\n",
    " - LeetCode Explore : \n",
    " - Spring : 연결(커넥션풀)\n",
    " \n",
    "#### 인프런에 신청했던 Spring 강의를 전부다 봤다... 근데 뭔가 습득한건지는 잘 모르겠다. 내가 띄엄듸엄 본 것도 있고 앞의 강의를 안듣고 바로 Spring 강의를 들어서 그런지도 모르겠다....\n",
    "#### 회사에서는 윈도우 응용프로그램 보랬다가 갑자기 이번달 안으로 안드로이드 앱 만들 수 있을 정도로 공부를 하라고 한다... 회사의 입장은 이해가 가지만...\n",
    "#### 점점 코딩이 정말 좋은건지 내가 하고 싶은 것은 무엇인지 "
   ]
  }
 ],
 "metadata": {
  "kernelspec": {
   "display_name": "Python 3",
   "language": "python",
   "name": "python3"
  },
  "language_info": {
   "codemirror_mode": {
    "name": "ipython",
    "version": 3
   },
   "file_extension": ".py",
   "mimetype": "text/x-python",
   "name": "python",
   "nbconvert_exporter": "python",
   "pygments_lexer": "ipython3",
   "version": "3.7.3"
  }
 },
 "nbformat": 4,
 "nbformat_minor": 2
}
