{
 "cells": [
  {
   "cell_type": "markdown",
   "metadata": {},
   "source": [
    "20200818\n",
    "\n",
    "# 컴퓨터\n",
    "\n",
    " - 알고리즘(코드워) : Pascal's Triangle #2\n",
    " - 알고리즘(프로그래머스) :전화번호 목록\n",
    " - LeetCode Explore : Array and String(Find Pivot, Largest Number At Least Twice of Others, Plus One, Diagonal Traverse, Spiral Matrix, Pascal's Triangle, Add Binary, Implement strStr(), Longest Common Prefix)\n",
    " - Spring : 연결(JDBC)\n",
    " \n",
    "# 영어\n",
    " \n",
    "  - 야나두 강의"
   ]
  }
 ],
 "metadata": {
  "kernelspec": {
   "display_name": "Python 3",
   "language": "python",
   "name": "python3"
  },
  "language_info": {
   "codemirror_mode": {
    "name": "ipython",
    "version": 3
   },
   "file_extension": ".py",
   "mimetype": "text/x-python",
   "name": "python",
   "nbconvert_exporter": "python",
   "pygments_lexer": "ipython3",
   "version": "3.7.3"
  }
 },
 "nbformat": 4,
 "nbformat_minor": 2
}
