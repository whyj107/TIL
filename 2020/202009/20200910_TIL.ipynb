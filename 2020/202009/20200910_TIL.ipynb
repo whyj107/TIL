{
 "cells": [
  {
   "cell_type": "markdown",
   "metadata": {},
   "source": [
    "20200910\n",
    "\n",
    "프로그래머스 문제를 풀었는데 4문제 중에 2문제를 풀었다. 많은 발전이라고 생각하기로 했다.\n",
    "코딩 테스트를 목표로 삼지 말고 지나가는 길에 한번 해본다고 생각하고 더욱 정진해야겠다."
   ]
  }
 ],
 "metadata": {
  "kernelspec": {
   "display_name": "Python 3",
   "language": "python",
   "name": "python3"
  },
  "language_info": {
   "codemirror_mode": {
    "name": "ipython",
    "version": 3
   },
   "file_extension": ".py",
   "mimetype": "text/x-python",
   "name": "python",
   "nbconvert_exporter": "python",
   "pygments_lexer": "ipython3",
   "version": "3.7.4"
  }
 },
 "nbformat": 4,
 "nbformat_minor": 2
}
