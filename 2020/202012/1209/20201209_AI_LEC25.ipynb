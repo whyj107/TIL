{
 "cells": [
  {
   "cell_type": "markdown",
   "metadata": {},
   "source": [
    "# 2020.12.09\n",
    "\n",
    "- Twitter Sentiment Analysis.ppt\n",
    "- Simple LSTM with Dropout and Low Dimensionality\n",
    "\n",
    "## 실습 - LSTM Layer Stacking"
   ]
  },
  {
   "cell_type": "code",
   "execution_count": 2,
   "metadata": {},
   "outputs": [],
   "source": [
    "import pandas as pd\n",
    "import numpy as np\n",
    "import matplotlib.pyplot as plt\n",
    "import os\n",
    "from sklearn.model_selection import train_test_split\n",
    "from tensorflow.keras.utils import to_categorical\n",
    "import math\n",
    "%matplotlib inline"
   ]
  },
  {
   "cell_type": "code",
   "execution_count": 5,
   "metadata": {},
   "outputs": [],
   "source": [
    "df = pd.read_csv(\"Tweets.csv\", sep=',')\n",
    "\n",
    "df['airline_sentiment'].value_counts()\n",
    "\n",
    "df['airline_sentiment'] = df['airline_sentiment'].replace('neutral', 1)\n",
    "df['airline_sentiment'] = df['airline_sentiment'].replace('negative', 0)\n",
    "df['airline_sentiment'] = df['airline_sentiment'].replace('positive', 2)\n",
    "\n",
    "x = df['text']\n",
    "y = df['airline_sentiment']\n",
    "\n",
    "# print(x.head(3))\n",
    "# print(y.head(3))"
   ]
  },
  {
   "cell_type": "code",
   "execution_count": 7,
   "metadata": {},
   "outputs": [
    {
     "data": {
      "text/plain": [
       "30"
      ]
     },
     "execution_count": 7,
     "metadata": {},
     "output_type": "execute_result"
    }
   ],
   "source": [
    "from tensorflow.keras.preprocessing.text import Tokenizer\n",
    "from tensorflow.keras.preprocessing.text import text_to_word_sequence\n",
    "\n",
    "def max_tweet(sequences):\n",
    "    for i in range(1, len(sequences)):\n",
    "        max_length = len(sequences[0])\n",
    "        if len(sequences[i]) > max_length:\n",
    "            max_length = len(sequences[i])\n",
    "    return max_length\n",
    "\n",
    "t = Tokenizer()\n",
    "t.fit_on_texts(x)\n",
    "\n",
    "vocab_size = len(t.word_index) + 1\n",
    "sequences = t.texts_to_sequences(x)\n",
    "\n",
    "tweet_num = max_tweet(sequences)\n",
    "tweet_num"
   ]
  },
  {
   "cell_type": "code",
   "execution_count": 10,
   "metadata": {},
   "outputs": [],
   "source": [
    "from tensorflow.keras.preprocessing.sequence import pad_sequences\n",
    "maxlen = tweet_num\n",
    "padded_x = pad_sequences(sequences, padding='post', maxlen=maxlen)\n",
    "\n",
    "labels = to_categorical(np.asarray(y))\n",
    "#labels"
   ]
  },
  {
   "cell_type": "code",
   "execution_count": 11,
   "metadata": {},
   "outputs": [
    {
     "name": "stdout",
     "output_type": "stream",
     "text": [
      "x_train : (11712, 30)\n",
      "y_train : (11712, 3)\n",
      "x_test : (2928, 30)\n",
      "y_test : (2928, 3)\n"
     ]
    }
   ],
   "source": [
    "x_train, x_test, y_train, y_test = train_test_split(padded_x, labels, test_size=0.2, random_state=10)\n",
    "print('x_train :', x_train.shape)\n",
    "print('y_train :', y_train.shape)\n",
    "print('x_test :', x_test.shape)\n",
    "print('y_test :', y_test.shape)"
   ]
  },
  {
   "cell_type": "code",
   "execution_count": 12,
   "metadata": {},
   "outputs": [
    {
     "name": "stdout",
     "output_type": "stream",
     "text": [
      "Loaded 400000 word vectors.\n"
     ]
    }
   ],
   "source": [
    "embeddings_index = dict()\n",
    "f = open('glove.6B.100d.txt',encoding='UTF-8')\n",
    "for line in f:\n",
    "    values = line.split()\n",
    "    word = values[0]\n",
    "    coefs = np.asarray(values[1:], dtype='float32')\n",
    "    embeddings_index[word] = coefs\n",
    "f.close()\n",
    "print('Loaded %s word vectors.' % len(embeddings_index))"
   ]
  },
  {
   "cell_type": "code",
   "execution_count": 13,
   "metadata": {},
   "outputs": [],
   "source": [
    "embedding_matrix = np.zeros((vocab_size, 100))\n",
    "\n",
    "for word, i in t.word_index.items():\n",
    "    embedding_vector = embeddings_index.get(word)\n",
    "    if embedding_vector is not None:\n",
    "        embedding_matrix[i] = embedding_vector\n",
    "\n",
    "from tensorflow.keras.layers import Embedding\n",
    "embedding_layer = Embedding(input_dim=vocab_size, output_dim=100, weights=[embedding_matrix],\n",
    "                           input_length = tweet_num, trainable=False)"
   ]
  },
  {
   "cell_type": "code",
   "execution_count": 16,
   "metadata": {},
   "outputs": [
    {
     "name": "stdout",
     "output_type": "stream",
     "text": [
      "Epoch 1/30\n",
      "37/37 [==============================] - 12s 334ms/step - loss: 0.8282 - acc: 0.6445 - val_loss: 0.7146 - val_acc: 0.7204\n",
      "Epoch 2/30\n",
      "37/37 [==============================] - 16s 426ms/step - loss: 0.6902 - acc: 0.7227 - val_loss: 0.6268 - val_acc: 0.7443\n",
      "Epoch 3/30\n",
      "37/37 [==============================] - 19s 511ms/step - loss: 0.6469 - acc: 0.7386 - val_loss: 0.6158 - val_acc: 0.7503\n",
      "Epoch 4/30\n",
      "37/37 [==============================] - 19s 521ms/step - loss: 0.6126 - acc: 0.7543 - val_loss: 0.5749 - val_acc: 0.7674\n",
      "Epoch 5/30\n",
      "37/37 [==============================] - 19s 525ms/step - loss: 0.6018 - acc: 0.7595 - val_loss: 0.5855 - val_acc: 0.7589\n",
      "Epoch 6/30\n",
      "37/37 [==============================] - 20s 529ms/step - loss: 0.5669 - acc: 0.7716 - val_loss: 0.5690 - val_acc: 0.7759\n",
      "Epoch 7/30\n",
      "37/37 [==============================] - 20s 535ms/step - loss: 0.5634 - acc: 0.7745 - val_loss: 0.5587 - val_acc: 0.7764\n",
      "Epoch 8/30\n",
      "37/37 [==============================] - 20s 536ms/step - loss: 0.5493 - acc: 0.7786 - val_loss: 0.5507 - val_acc: 0.7734\n",
      "Epoch 9/30\n",
      "37/37 [==============================] - 20s 533ms/step - loss: 0.5320 - acc: 0.7862 - val_loss: 0.5316 - val_acc: 0.7857\n",
      "Epoch 10/30\n",
      "37/37 [==============================] - 20s 528ms/step - loss: 0.5106 - acc: 0.7931 - val_loss: 0.5680 - val_acc: 0.7764\n",
      "Epoch 11/30\n",
      "37/37 [==============================] - 19s 519ms/step - loss: 0.5111 - acc: 0.7951 - val_loss: 0.5479 - val_acc: 0.7840\n",
      "Epoch 12/30\n",
      "37/37 [==============================] - 16s 427ms/step - loss: 0.4898 - acc: 0.8028 - val_loss: 0.5223 - val_acc: 0.7960\n",
      "Epoch 13/30\n",
      "37/37 [==============================] - 13s 363ms/step - loss: 0.4732 - acc: 0.8105 - val_loss: 0.5319 - val_acc: 0.7921\n",
      "Epoch 14/30\n",
      "37/37 [==============================] - 13s 357ms/step - loss: 0.4652 - acc: 0.8158 - val_loss: 0.5336 - val_acc: 0.8015\n",
      "Epoch 15/30\n",
      "37/37 [==============================] - 13s 352ms/step - loss: 0.4550 - acc: 0.8195 - val_loss: 0.5271 - val_acc: 0.7943\n",
      "Epoch 16/30\n",
      "37/37 [==============================] - 13s 353ms/step - loss: 0.4489 - acc: 0.8207 - val_loss: 0.5333 - val_acc: 0.7960\n",
      "Epoch 17/30\n",
      "37/37 [==============================] - 13s 351ms/step - loss: 0.4344 - acc: 0.8275 - val_loss: 0.5354 - val_acc: 0.8114\n",
      "Epoch 18/30\n",
      "37/37 [==============================] - 13s 352ms/step - loss: 0.4265 - acc: 0.8308 - val_loss: 0.5420 - val_acc: 0.8015\n",
      "Epoch 19/30\n",
      "37/37 [==============================] - 13s 355ms/step - loss: 0.4313 - acc: 0.8277 - val_loss: 0.5202 - val_acc: 0.8092\n",
      "Epoch 20/30\n",
      "37/37 [==============================] - 13s 356ms/step - loss: 0.4049 - acc: 0.8367 - val_loss: 0.5300 - val_acc: 0.8024\n",
      "Epoch 21/30\n",
      "37/37 [==============================] - 13s 356ms/step - loss: 0.3849 - acc: 0.8458 - val_loss: 0.5621 - val_acc: 0.8054\n",
      "Epoch 22/30\n",
      "37/37 [==============================] - 13s 356ms/step - loss: 0.3813 - acc: 0.8478 - val_loss: 0.5553 - val_acc: 0.7977\n",
      "Epoch 23/30\n",
      "37/37 [==============================] - 13s 355ms/step - loss: 0.3684 - acc: 0.8559 - val_loss: 0.5710 - val_acc: 0.8075\n",
      "Epoch 24/30\n",
      "37/37 [==============================] - 13s 357ms/step - loss: 0.3577 - acc: 0.8589 - val_loss: 0.5577 - val_acc: 0.8011\n",
      "Epoch 25/30\n",
      "37/37 [==============================] - 13s 355ms/step - loss: 0.3434 - acc: 0.8681 - val_loss: 0.5686 - val_acc: 0.8050\n",
      "Epoch 26/30\n",
      "37/37 [==============================] - 13s 357ms/step - loss: 0.3333 - acc: 0.8716 - val_loss: 0.5764 - val_acc: 0.8024\n",
      "Epoch 27/30\n",
      "37/37 [==============================] - 13s 358ms/step - loss: 0.3297 - acc: 0.8655 - val_loss: 0.5684 - val_acc: 0.8088\n",
      "Epoch 28/30\n",
      "37/37 [==============================] - 13s 358ms/step - loss: 0.3258 - acc: 0.8706 - val_loss: 0.5723 - val_acc: 0.8148\n",
      "Epoch 29/30\n",
      "37/37 [==============================] - 13s 358ms/step - loss: 0.3129 - acc: 0.8800 - val_loss: 0.5945 - val_acc: 0.7990\n",
      "Epoch 30/30\n",
      "37/37 [==============================] - 13s 357ms/step - loss: 0.3004 - acc: 0.8815 - val_loss: 0.5910 - val_acc: 0.7832\n",
      "Training Accuracy: 0.8946\n",
      "Testing Accuracy:  0.7763\n"
     ]
    },
    {
     "data": {
      "image/png": "[encoded data removed]",
      "text/plain": [
       "<Figure size 432x288 with 1 Axes>"
      ]
     },
     "metadata": {
      "needs_background": "light"
     },
     "output_type": "display_data"
    },
    {
     "data": {
      "image/png": "[encoded data removed]",
      "text/plain": [
       "<Figure size 432x288 with 1 Axes>"
      ]
     },
     "metadata": {
      "needs_background": "light"
     },
     "output_type": "display_data"
    }
   ],
   "source": [
    "from tensorflow.keras.models import Sequential\n",
    "from tensorflow.keras.layers import Dense\n",
    "from tensorflow.keras.layers import Flatten\n",
    "from tensorflow.keras.layers import LSTM\n",
    "from tensorflow.keras.layers import GRU\n",
    "from tensorflow.keras.layers import BatchNormalization\n",
    "\n",
    "# LSTM Model\n",
    "model_3 = Sequential()\n",
    "model_3.add(embedding_layer)\n",
    "model_3.add(LSTM(256, dropout = 0.2, recurrent_dropout = 0.5, return_sequences = True))\n",
    "model_3.add(LSTM(128, dropout = 0.2, recurrent_dropout = 0.5))\n",
    "model_3.add(Dense(3, activation='softmax'))\n",
    "model_3.compile(optimizer='adam', loss='categorical_crossentropy', metrics=['acc'])\n",
    "\n",
    "history_3 = model_3.fit(x_train, y_train, validation_split = 0.2, epochs=30, batch_size=256)\n",
    "\n",
    "loss, accuracy = model_3.evaluate(x_train, y_train, verbose=False)\n",
    "print(\"Training Accuracy: {:.4f}\".format(accuracy))\n",
    "loss, accuracy = model_3.evaluate(x_test, y_test, verbose=False)\n",
    "print(\"Testing Accuracy:  {:.4f}\".format(accuracy))\n",
    "\n",
    "acc = history_3.history['acc']\n",
    "val_acc = history_3.history['val_acc']\n",
    "loss = history_3.history['loss']\n",
    "val_loss = history_3.history['val_loss']\n",
    "\n",
    "epochs = range(len(acc))\n",
    "\n",
    "plt.plot(epochs, acc, 'g', label='Training acc')\n",
    "plt.plot(epochs, val_acc, 'b', label='Validation acc')\n",
    "plt.title('Training and validation accuracy')\n",
    "plt.legend()\n",
    "\n",
    "plt.figure()\n",
    "\n",
    "plt.plot(epochs, loss, 'g', label='Training loss')\n",
    "plt.plot(epochs, val_loss, 'b', label='Validation loss')\n",
    "plt.title('Training and validation loss')\n",
    "plt.legend()\n",
    "\n",
    "plt.show()"
   ]
  },
  {
   "cell_type": "markdown",
   "metadata": {},
   "source": [
    "## 임베딩.ppt"
   ]
  }
 ],
 "metadata": {
  "kernelspec": {
   "display_name": "Python 3",
   "language": "python",
   "name": "python3"
  },
  "language_info": {
   "codemirror_mode": {
    "name": "ipython",
    "version": 3
   },
   "file_extension": ".py",
   "mimetype": "text/x-python",
   "name": "python",
   "nbconvert_exporter": "python",
   "pygments_lexer": "ipython3",
   "version": "3.8.5"
  }
 },
 "nbformat": 4,
 "nbformat_minor": 4
}
