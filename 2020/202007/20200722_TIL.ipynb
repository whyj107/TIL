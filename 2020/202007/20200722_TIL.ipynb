{
 "cells": [
  {
   "cell_type": "markdown",
   "metadata": {},
   "source": [
    "20200722\n",
    "\n",
    "# 컴퓨터\n",
    " \n",
    " - 알고리즘(코드워) : Return a sorted list of objects\n",
    " - 알고리즘(프로그래머스) : 핸드폰 번호 가리기\n",
    " - Spring : 설정 및 구현(스프링 MVC 웹서비스-2)\n",
    " \n",
    "# 영어\n",
    "\n",
    " - 야나두 강의\n",
    "\n",
    "# 오늘의 도서\n",
    " - 인연 : 피천득\n",
    " \n",
    "#### 어제 오늘 몸 컨디션이 좋지 않아서(가벼운 장염에 걸린 듯 하다.) 오늘은 알고리즘 문제만 풀고 쉬려고 했으나 무언가 핑계 같아서 늦게 나마 공부를 했다.\n",
    "#### 알고리즘 문제가 오늘은 쉬운 편이였기에 더더욱 양심에 찔렸다.\n",
    "#### Spring 강의가 본격적으로 무언가를 만들기 시작하므로 재미가 있다. 매번 새로운 것을 하기보다는 한가지를 깊게 파야한다고 했는데...\n",
    "#### 고민이 깊어진다."
   ]
  }
 ],
 "metadata": {
  "kernelspec": {
   "display_name": "Python 3",
   "language": "python",
   "name": "python3"
  },
  "language_info": {
   "codemirror_mode": {
    "name": "ipython",
    "version": 3
   },
   "file_extension": ".py",
   "mimetype": "text/x-python",
   "name": "python",
   "nbconvert_exporter": "python",
   "pygments_lexer": "ipython3",
   "version": "3.7.4"
  }
 },
 "nbformat": 4,
 "nbformat_minor": 2
}
