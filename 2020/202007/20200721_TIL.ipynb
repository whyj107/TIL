{
 "cells": [
  {
   "cell_type": "markdown",
   "metadata": {},
   "source": [
    "20200721\n",
    "\n",
    "# 컴퓨터\n",
    "\n",
    " - 알고리즘(코드워) : Vector class\n",
    " - 알고리즘(프로그래머스) : 하샤드 수\n",
    " - Spring : 설정 및 구현(스프링 MVC 웹서비스 - 1) 복습 및 실습\n",
    " \n",
    "# 영어\n",
    "\n",
    " - 야나두 강의\n",
    " - 토익 공부\n",
    " \n",
    "# 독서\n",
    " \n",
    " - 인연 : 피천득\n"
   ]
  }
 ],
 "metadata": {
  "kernelspec": {
   "display_name": "Python 3",
   "language": "python",
   "name": "python3"
  },
  "language_info": {
   "codemirror_mode": {
    "name": "ipython",
    "version": 3
   },
   "file_extension": ".py",
   "mimetype": "text/x-python",
   "name": "python",
   "nbconvert_exporter": "python",
   "pygments_lexer": "ipython3",
   "version": "3.7.4"
  }
 },
 "nbformat": 4,
 "nbformat_minor": 2
}
