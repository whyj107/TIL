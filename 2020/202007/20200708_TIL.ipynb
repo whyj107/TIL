{
 "cells": [
  {
   "cell_type": "markdown",
   "metadata": {},
   "source": [
    "20200708\n",
    "\n",
    "# 컴퓨터\n",
    "\n",
    " - 알고리즘(코드워) : Pete, the baker (part 2)\n",
    " - 알고리즘(프로그래머스) : 시저 암호\n",
    " - Spring : 의존객체(다양한 의존 객체 주입, 스프링 설정 파일 분리, 의존객체 자동 주입)"
   ]
  },
  {
   "cell_type": "markdown",
   "metadata": {},
   "source": [
    "Spring\n",
    "@Autowired : 주입하려고 하는 객체의 타입이 일치하는 객체를 자동으로 주입한다.\n",
    "xml : <context:annotation-config /> \n",
    "java : @Autowired\n",
    "\n",
    "@Inject\n",
    "xml : <'bean id=\"name1\" class=\"com.~.~.Name\" />\n",
    "java :\n",
    "@Named(value=\"name1\")\n",
    "private Name name;\n",
    "\n",
    "@Resource : 주입하려고 하는 객체의 이름이 일치하는 객체를 자동으로 주입힌다.(id)\n",
    "java : @Resource"
   ]
  }
 ],
 "metadata": {
  "kernelspec": {
   "display_name": "Python 3",
   "language": "python",
   "name": "python3"
  },
  "language_info": {
   "codemirror_mode": {
    "name": "ipython",
    "version": 3
   },
   "file_extension": ".py",
   "mimetype": "text/x-python",
   "name": "python",
   "nbconvert_exporter": "python",
   "pygments_lexer": "ipython3",
   "version": "3.7.4"
  }
 },
 "nbformat": 4,
 "nbformat_minor": 2
}
