{
 "cells": [
  {
   "cell_type": "markdown",
   "metadata": {},
   "source": [
    "20200706\n",
    "\n",
    "# 컴퓨터\n",
    "\n",
    " - 알고리즘(코드워) : Metric Units -1\n",
    " - 알고리즘(프로그래머스) : 수박수박수박수박수박수?\n",
    " - Spring : 프로젝트 생성(처음해 보는 스프링 프로젝트, 또 다른 프로젝트 생성 방법)\n",
    " - 오늘의 도서 : 세상에, 세상에! - 야크 리베\n",
    " \n",
    "#### 오늘 월요병이 다른날보다 심했다... 왜이러지....\n",
    "#### NAS의 CHAT, DRIVE, CALENDAR, MAILPLUS 관해서 좀 찾아봤었는데, 네트워크가 생각보다 재미있었다. 예전에 KH 교육원 다닐때 좋지 않았던 기억 때문에 네트워크에 대한 인식이 안 좋았었는데... 기회가 된다면 차근차근 공부해 봐야겠다.\n",
    "#### 우선은 스프링부터.... 스프링은 오늘 xml에서 java 파일을 메모리에 올리는 작업(?)이라 해야하나? 여튼 Bean에 대해서 배웠는데(아주 가볍게) 쉽고 재미있었다.\n",
    "#### 나의 인생에 좀 더 풍요로워지기 위해 오늘부터 1시간 동안 책을 읽기로 했다. 나의 수준에 어울릴꺼라면서 엄마가 추천해준건데... 내가 태어나기도 전에 나온 책이다..."
   ]
  }
 ],
 "metadata": {
  "kernelspec": {
   "display_name": "Python 3",
   "language": "python",
   "name": "python3"
  },
  "language_info": {
   "codemirror_mode": {
    "name": "ipython",
    "version": 3
   },
   "file_extension": ".py",
   "mimetype": "text/x-python",
   "name": "python",
   "nbconvert_exporter": "python",
   "pygments_lexer": "ipython3",
   "version": "3.7.4"
  }
 },
 "nbformat": 4,
 "nbformat_minor": 2
}
