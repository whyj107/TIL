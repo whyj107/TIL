{
 "cells": [
  {
   "cell_type": "markdown",
   "metadata": {},
   "source": [
    "20200717\n",
    "\n",
    "# 컴퓨터\n",
    "\n",
    " - 알고리즘(코드워) : Design a Simple Automaton (Finite State Machine)\n",
    " - 알고리즘(프로그래머스) : 짝수와 홀수\n",
    " - Spring : 설정 및 구현(어노테이션을 이용한 스프링 설정, 웹 프로그래밍 설계 모델)\n",
    "\n",
    "#### 이제 짝수와 홀수 문제는 간단히 풀 수 있다고 생각했는데 푸는 방법이 다양하여 놀랐다.\n",
    "#### 찰스페졸드의 WPF 라는 책을 빌렸는데 오늘 안에는 읽기 힘들 것 같고... 새벽에 읽다가 자야겠다."
   ]
  }
 ],
 "metadata": {
  "kernelspec": {
   "display_name": "Python 3",
   "language": "python",
   "name": "python3"
  },
  "language_info": {
   "codemirror_mode": {
    "name": "ipython",
    "version": 3
   },
   "file_extension": ".py",
   "mimetype": "text/x-python",
   "name": "python",
   "nbconvert_exporter": "python",
   "pygments_lexer": "ipython3",
   "version": "3.7.4"
  }
 },
 "nbformat": 4,
 "nbformat_minor": 2
}
