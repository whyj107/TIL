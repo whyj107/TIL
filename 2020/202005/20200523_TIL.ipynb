{
 "cells": [
  {
   "cell_type": "markdown",
   "metadata": {},
   "source": [
    "20200523\n",
    "\n",
    "# 컴퓨터\n",
    " \n",
    " - 알고리즘(백준) : 가장 긴 바이토닉 부분 수열\n",
    " - 알고리즘(코드워) : Basic Training: Add item to an Array, Person Class Bug, Pyramid Array, Roman Numerals Helper"
   ]
  }
 ],
 "metadata": {
  "kernelspec": {
   "display_name": "Python 3",
   "language": "python",
   "name": "python3"
  },
  "language_info": {
   "codemirror_mode": {
    "name": "ipython",
    "version": 3
   },
   "file_extension": ".py",
   "mimetype": "text/x-python",
   "name": "python",
   "nbconvert_exporter": "python",
   "pygments_lexer": "ipython3",
   "version": "3.7.4"
  }
 },
 "nbformat": 4,
 "nbformat_minor": 2
}
