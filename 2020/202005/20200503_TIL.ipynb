{
 "cells": [
  {
   "cell_type": "markdown",
   "metadata": {},
   "source": [
    "20200503\n",
    "\n",
    "# 컴퓨터\n",
    "\n",
    " - 한 눈에 끝내는 HTML5/CSS3 : 시작하기에 앞서, 개발 환경 설정, HTML 기초\n",
    "\n",
    "#### 오늘은 알고리즘 문제를 풀지 않고 HTML과 CSS 새로운 강의를 들었다. 원래 듣던 노드&리액트 강의는 주말에 마져 들어야겠다. 노트북에 환경설정을 다시 하는게 귀찮기도 하고.... 난 HTML, CSS과 Javascript를 모르니까 이번 주중에 공부해야겠다.\n",
    "#### 알고리즘 책을 새로 사고 싶은데 돈이 없다... 도서관에 누가 안빌려가면 좋겠는데..."
   ]
  }
 ],
 "metadata": {
  "kernelspec": {
   "display_name": "Python 3",
   "language": "python",
   "name": "python3"
  },
  "language_info": {
   "codemirror_mode": {
    "name": "ipython",
    "version": 3
   },
   "file_extension": ".py",
   "mimetype": "text/x-python",
   "name": "python",
   "nbconvert_exporter": "python",
   "pygments_lexer": "ipython3",
   "version": "3.7.4"
  }
 },
 "nbformat": 4,
 "nbformat_minor": 2
}
