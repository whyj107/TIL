{
 "cells": [
  {
   "cell_type": "markdown",
   "metadata": {},
   "source": [
    "20200501\n",
    "\n",
    "# 컴퓨터\n",
    "\n",
    " - 알고리즘(코드워) : Binomial Expansion\n",
    " - 알고리즘(코딩의 수학적 기초를 다지는 알고리즘 68) : 합성 저항으로 만드는 황금비율\n",
    " - [따라하며 배우는 노드&리액트] Boiler-Plate 만들기 : Intro, 설치 및 세팅\n",
    "\n",
    "#### 어제 풀던 코드워 문제를 마무리 지었다. kata가 낮아질수록 문제가 어려워져서 생각하는 시간이 길어진다... 사실 연휴 핑계대고 하루종일 예능을 봤다.ㅎㅎㅎㅎ\n",
    "#### 새로이 클론 코딩 교육을 들었다."
   ]
  }
 ],
 "metadata": {
  "kernelspec": {
   "display_name": "Python 3",
   "language": "python",
   "name": "python3"
  },
  "language_info": {
   "codemirror_mode": {
    "name": "ipython",
    "version": 3
   },
   "file_extension": ".py",
   "mimetype": "text/x-python",
   "name": "python",
   "nbconvert_exporter": "python",
   "pygments_lexer": "ipython3",
   "version": "3.7.3"
  }
 },
 "nbformat": 4,
 "nbformat_minor": 2
}
