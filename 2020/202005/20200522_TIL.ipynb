{
 "cells": [
  {
   "cell_type": "markdown",
   "metadata": {},
   "source": [
    "20200522\n",
    "\n",
    "# 컴퓨터\n",
    "\n",
    " - 알고리즘(코드워) : Volume of a Cuboid, Roman Numerals Decoder, Roman Numerals Encoder\n",
    "\n",
    "#### 오늘 퇴근을 8시 반에 해서 좀 늦게 올렸다. Roman Numerals Encoder는 노가다로 풀었는데 다른 사람들 답을 보니 내가 참 멍청했구나 싶다."
   ]
  }
 ],
 "metadata": {
  "kernelspec": {
   "display_name": "Python 3",
   "language": "python",
   "name": "python3"
  },
  "language_info": {
   "codemirror_mode": {
    "name": "ipython",
    "version": 3
   },
   "file_extension": ".py",
   "mimetype": "text/x-python",
   "name": "python",
   "nbconvert_exporter": "python",
   "pygments_lexer": "ipython3",
   "version": "3.7.4"
  }
 },
 "nbformat": 4,
 "nbformat_minor": 2
}
