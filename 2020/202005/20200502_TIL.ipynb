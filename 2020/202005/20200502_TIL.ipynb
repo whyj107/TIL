{
 "cells": [
  {
   "cell_type": "markdown",
   "metadata": {},
   "source": [
    "20200502\n",
    "\n",
    "# 컴퓨터\n",
    "\n",
    " - 알고리즘(코딩의 수학적 기초를 다지는 알고리즘 68) : 멀티 탭으로 만든 문어 다리 배선\n",
    " - 알고리즘(백준) : 가장 긴 증가하는 부분 수열 복습\n",
    " - [따라하며 배우는 노드&리액트] Boiler-Plate 만들기 : BodyParser & PostMan & 회원가입, Nodemon 설치, 비밀 설정 정보 관리\n",
    " \n",
    "#### 코딩의 수학적 기초를 다지는 알고리즘 책의 초급 부분이 다끝났다. 중급으로 넘어가기 전에 한번더 복습해야 겠다.\n",
    "#### javascript 말고 python으로 할껄 그랬나... 진도가 더디가 나가진다."
   ]
  }
 ],
 "metadata": {
  "kernelspec": {
   "display_name": "Python 3",
   "language": "python",
   "name": "python3"
  },
  "language_info": {
   "codemirror_mode": {
    "name": "ipython",
    "version": 3
   },
   "file_extension": ".py",
   "mimetype": "text/x-python",
   "name": "python",
   "nbconvert_exporter": "python",
   "pygments_lexer": "ipython3",
   "version": "3.7.3"
  }
 },
 "nbformat": 4,
 "nbformat_minor": 2
}
