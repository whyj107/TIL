{
 "cells": [
  {
   "cell_type": "markdown",
   "metadata": {},
   "source": [
    "20200428\n",
    "\n",
    "# 컴퓨터\n",
    "\n",
    " - 알고리즘(필수 알고리즘 with 파이썬) : 재귀 호출을 사용하여 피보나치 수 구하기, 동적계획법을 사용하여 피보나치 수 구하기, 동적계획법을 사용하여 1부터 N까지의 합 구하기(재귀 호출 사용), 반복문(상향식 설계)를 사용하여 1부터 N까지의 합 구하기\n",
    " - 알고리즘(코드워) : SpeedCode #2 - Array Madness\n",
    " - 생활코딩 - JAVA 객체 지향 프로그래밍\n",
    " \n",
    "#### 코드워의 단계가 제일 쉬운 단계였는데 문제를 이해 못해서 오래 걸렸다. 영어를 좀 더 열심히 공부해야겠다...."
   ]
  }
 ],
 "metadata": {
  "kernelspec": {
   "display_name": "Python 3",
   "language": "python",
   "name": "python3"
  },
  "language_info": {
   "codemirror_mode": {
    "name": "ipython",
    "version": 3
   },
   "file_extension": ".py",
   "mimetype": "text/x-python",
   "name": "python",
   "nbconvert_exporter": "python",
   "pygments_lexer": "ipython3",
   "version": "3.7.4"
  }
 },
 "nbformat": 4,
 "nbformat_minor": 2
}
