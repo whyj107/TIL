{
 "cells": [
  {
   "cell_type": "markdown",
   "metadata": {},
   "source": [
    "20200422\n",
    "\n",
    "# 컴퓨터\n",
    "\n",
    " - 알고리즘(필수 알고리즘 with 파이썬) : 만들 수 있는 삼각형의 개수 구하기(재귀 호출)\n",
    " - 알고리즘(코드워) : Total amount of points\n",
    " - Class101 키워드 정리 : Chapter4-5 간단히 정리\n",
    " \n",
    "#### Class101 키워드 정리가 끝났다. 강의는 7월까지 볼 수 있는데 뭔가 도움이 되는 듯 안되는 듯 애매하다. 웹 개발에 대한 설명이 많기 때문에 뭔가 애매하다.\n",
    "#### 새삼 아두이노와 라즈베리파이의 정의를 되새기는 계기가 되었다. 애증의 아이들...."
   ]
  },
  {
   "cell_type": "markdown",
   "metadata": {},
   "source": [
    "# --------------------------------------------------------"
   ]
  },
  {
   "cell_type": "markdown",
   "metadata": {},
   "source": [
    "Class101 키워드 정리"
   ]
  },
  {
   "cell_type": "markdown",
   "metadata": {},
   "source": [
    "*Chapter4-5*"
   ]
  },
  {
   "cell_type": "markdown",
   "metadata": {},
   "source": [
    "IoT\n",
    " - 각종 사물에 센서와 통신 기능을 내장하여 인터넷에 연결하는 기술이다.\n",
    " - 무선 통신을 통해 각종 사물을 연결하는 기술을 의미한다.\n",
    " \n",
    "임베디드\n",
    " - 기계나 기타 제어가 필요한 시스템에 대해, 제어를 위한 특정 기능을 수행하는 컴퓨터 시스템으로 장치 내에 존재하는 전자 시스템이다.\n",
    "\n",
    "리눅스 OS\n",
    " - 리누스 토르발스가 커뮤니티 주체로 개발한 컴퓨터 운영 체제이다.\n",
    " - 자유 소프트웨어와 오픈 소스 개발의 가장 유명한 표본으로 들 수 있다.\n",
    " - 다중 사용자, 다중작업(멀티태스킹), 다중 스레드를 지원하는 네트워크 운영체제이다.\n",
    " \n",
    "아두이노\n",
    " - 오픈 소스를 기반으로 한 단일 보드 마이크로컨트롤러로 완성된 보드와 관련 개발 도구 및 환경을 말한다.\n",
    " \n",
    "라즈베리파이\n",
    " - 영국 잉글랜드의 라즈베리 파이 재단이 학교와 개발도상국에서 기초 컴퓨터 과학의 교육을 증진시키기 위해 개발한 시용카드 크기의 싱글 보드 컴퓨터이다.\n"
   ]
  },
  {
   "cell_type": "markdown",
   "metadata": {},
   "source": [
    "출처\n",
    "\n",
    "https://ko.wikipedia.org/wiki/%EC%82%AC%EB%AC%BC%EC%9D%B8%ED%84%B0%EB%84%B7\n",
    "https://ko.wikipedia.org/wiki/%EC%9E%84%EB%B2%A0%EB%94%94%EB%93%9C_%EC%8B%9C%EC%8A%A4%ED%85%9C\n",
    "https://ko.wikipedia.org/wiki/%EB%A6%AC%EB%88%85%EC%8A%A4\n",
    "https://ko.wikipedia.org/wiki/%EC%95%84%EB%91%90%EC%9D%B4%EB%85%B8\n",
    "https://ko.wikipedia.org/wiki/%EB%9D%BC%EC%A6%88%EB%B2%A0%EB%A6%AC_%ED%8C%8C%EC%9D%B4"
   ]
  }
 ],
 "metadata": {
  "kernelspec": {
   "display_name": "Python 3",
   "language": "python",
   "name": "python3"
  },
  "language_info": {
   "codemirror_mode": {
    "name": "ipython",
    "version": 3
   },
   "file_extension": ".py",
   "mimetype": "text/x-python",
   "name": "python",
   "nbconvert_exporter": "python",
   "pygments_lexer": "ipython3",
   "version": "3.7.4"
  }
 },
 "nbformat": 4,
 "nbformat_minor": 2
}
