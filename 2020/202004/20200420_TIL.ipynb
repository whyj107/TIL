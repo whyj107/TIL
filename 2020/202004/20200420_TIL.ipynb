{
 "cells": [
  {
   "cell_type": "markdown",
   "metadata": {},
   "source": [
    "20200420\n",
    "\n",
    "# 컴퓨터\n",
    "\n",
    " - 알고리즘(필수 알고리즘 with 파이썬) : 3x3 행렬 중 합이 최소가 되는 항목 선택하기\n",
    " - 알고리즘(코드워) : Expressions Matter\n",
    " - Class101 키워드 정리 : Chapter4-3 간단히 정리\n",
    " \n",
    "#### Class101 키워드 정리를 요새 안한 것 같아서 오늘 해보았다. 매일 알고리즘 문제를 풀어서 어느 정도 안정화에 들어온 것 같다. 이제 새로운 프로젝트나 공부를 병행해야겠다.\n",
    "#### 내가 어떤 진로를 가고 싶은지 잘 모르겠다. "
   ]
  },
  {
   "cell_type": "markdown",
   "metadata": {},
   "source": [
    "# --------------------------------------------------------"
   ]
  },
  {
   "cell_type": "markdown",
   "metadata": {},
   "source": [
    "Class101 키워드 정리"
   ]
  },
  {
   "cell_type": "markdown",
   "metadata": {},
   "source": [
    "*Chapter4-3*"
   ]
  },
  {
   "cell_type": "markdown",
   "metadata": {},
   "source": [
    "데이터 사이언티스트\n",
    " - 복잡한 비즈니스 문제를 모델링하고, 인사이트를 도출하며, 통계학, 알고리즘, 데이터 마이닝 그리고 시각화 기법 등을 통해 그 속에서 기회를 찾아내는 사람이다.\n",
    "\n",
    "머신러닝 엔지니어\n",
    " - 인공지능의 세부 분야의 머신 러닝을 통해 컴퓨터가 스스로 학습할 수 있도록 알고리즘을 이용해 학습 프로그램을 개발하는 일을 수행한다.\n",
    " \n",
    "데이터 엔지니어\n",
    " - 데이터를 수집하고 관리하며 유지하는 일을 하는 사람이다.\n",
    " \n",
    "머신러닝\n",
    " - 인공 지능의 한 분야로, 컴퓨터가 학습할 수 있도록 하는 알고리즘과 기술을 개발하는 분야를 말한다.\n",
    " \n",
    "딥러닝\n",
    " - 여러 비선형 변환기법의 조합을 통해 높은 수준의 추상화를 시도하는 기계 학습 알고리즘의 집합으로 정의되며, 큰 틀에서 사람의 사고방식을 컴퓨터에게 가르치는 기계학습의 한 분야라고 이야기할 수 있다.\n",
    " \n",
    "통계학\n",
    " - 산술적 방법을 기초로 하여, 주로 다량의 데이터를 관찰하고 정리 및 분석하는 방법을 연구하는 수학의 한 분야이다.\n",
    " \n",
    "Tensorflow\n",
    " - 다양한 작업에 대해 데이터 흐름 프로그래밍을 위한 오픈소스 소프트웨어 라이브러리이다.\n",
    "\n",
    "Google Analytics\n",
    " - 현재 Google 마케팅 플랫폼 브랜드 내부의 플랫폼 인 웹 사이트 트래픽을 추적하고 보고하는 Google이 제공하는 웹 분석 서비스이다.\n",
    " \n",
    "Facebook Pixel\n",
    " - 광고 측정, 최적화, 타깃 구축을 위한 코드이다. 타깃 유입을 유도해 구매로 이어지는 행동 패턴을 기대할 때 꼭 필요한 광고 상품이다.\n"
   ]
  },
  {
   "cell_type": "markdown",
   "metadata": {},
   "source": [
    "출처\n",
    "\n",
    "https://blog.lgcns.com/539\n",
    "https://m.blog.naver.com/PostView.nhn?blogId=kimglobal&logNo=221348918913&proxyReferer=https:%2F%2Fwww.google.com%2F\n",
    "https://velog.io/@decody/%EB%8D%B0%EC%9D%B4%ED%84%B0-%EC%97%94%EC%A7%80%EB%8B%88%EC%96%B4\n",
    "https://ko.wikipedia.org/wiki/%EA%B8%B0%EA%B3%84_%ED%95%99%EC%8A%B5\n",
    "https://ko.wikipedia.org/wiki/%EC%8B%AC%EC%B8%B5_%ED%95%99%EC%8A%B5\n",
    "https://ko.wikipedia.org/wiki/%ED%86%B5%EA%B3%84%ED%95%99\n",
    "https://ko.wikipedia.org/wiki/%ED%85%90%EC%84%9C%ED%94%8C%EB%A1%9C\n",
    "https://en.wikipedia.org/wiki/Google_Analytics\n",
    "http://edgerank.co.kr/facebookpixcel/\n"
   ]
  }
 ],
 "metadata": {
  "kernelspec": {
   "display_name": "Python 3",
   "language": "python",
   "name": "python3"
  },
  "language_info": {
   "codemirror_mode": {
    "name": "ipython",
    "version": 3
   },
   "file_extension": ".py",
   "mimetype": "text/x-python",
   "name": "python",
   "nbconvert_exporter": "python",
   "pygments_lexer": "ipython3",
   "version": "3.7.4"
  }
 },
 "nbformat": 4,
 "nbformat_minor": 2
}
