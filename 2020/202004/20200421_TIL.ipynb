{
 "cells": [
  {
   "cell_type": "markdown",
   "metadata": {},
   "source": [
    "20200421\n",
    "\n",
    "# 컴퓨터\n",
    " - 알고리즘(필수 알고리즘 with 파이썬) : 회문(palindrome) 확인하기\n",
    " - 알고리즘(백준) : 1로 만들기\n",
    " - Class101 키워드 정리 : Chapter4-4 간단히 정리\n",
    "\n",
    "#### 어제 java 강의를 듣고 TIL를 올려야 했는데 까먹고 올리지 않아서 오늘 다시 올렸다. 방금 올렸는데 생각해보니 java 강의 들은거 적지도 않았네...\n",
    "#### 주중에는 알고리즘이나 여러 컴퓨터 관련된 강의를 듣고 주말에는 unity 관련해서 프로젝트를 만들어볼까 싶다. 원래 나는 게임을 좋아했으니까\n",
    "#### 오늘은 토익 강의를 듣느라 시간이 많이 늦었으니 java 강의는 내일 마무리를 해야겠다.\n",
    "#### 김영하님의 신간 오래 준비해온 대답을 읽고싶다."
   ]
  },
  {
   "cell_type": "markdown",
   "metadata": {},
   "source": [
    "# --------------------------------------------------------"
   ]
  },
  {
   "cell_type": "markdown",
   "metadata": {},
   "source": [
    "Class101 키워드 정리"
   ]
  },
  {
   "cell_type": "markdown",
   "metadata": {},
   "source": [
    "*Chapter4-4*"
   ]
  },
  {
   "cell_type": "markdown",
   "metadata": {},
   "source": [
    "블록체인\n",
    " - 관리 대상 데이터를 '블록'이라고 하는 소규모 데이터들이 P2P 방식을 기반으로 생성된 체인 형태의 연결고리 기반 분산 데이터 저장 환경에 저장하여 누구라도 임의로 수정할 수 없고 누구나 변경의 결과를 열람할 수 있는 분산 컴퓨팅 기술 기반의 원장 관리 기술이다.\n",
    " \n",
    "P2P\n",
    " - 동등 계층간 통신망\n",
    " - 비교적 소수의 서버에 집중하기보다는 망구성에 참여하는 기계들의 계산과 대역폭 성능에 의존하여 구성되는 통신망이다.\n",
    " \n",
    "블록체인 코어\n",
    " - 블록체인을 돌아가게 하는 '기반 기술'을 뜻한다.\n",
    " - 블록체인의 원리를 만드는 기술에는 '네트워크', '합의 알고리즘', '암호학', '가상머신' 등의 개념이 필요하다.\n",
    " \n",
    "스마트컨트랙트\n",
    " - 서면으로 이루어지던 계약을 코드로 구현하고 특정 조건이 충족되었을 때 해당 계약이 이행되게 하는 스크립트이다.\n",
    " \n",
    "DAPP\n",
    " - Decentralized Application\n",
    " - 탈중앙화 어플리케이션\n",
    " - 구글 플레이나 애플 앱스토어 앱에서는 구글과 애플이 사용 정보들을 소유한다. 그러나 디앱은 블록체인 기술을 활용하여 중앙 서버 없이 네트워크상에 정보를 분산하여 저장 및 구동하는 앱이다.\n",
    " \n",
    "Solidity\n",
    " - 계약 지향 프로그래밍 언어로 다양한 블록체인 플랫폼의 스마트계약 작성 및 구현에 사용된다."
   ]
  },
  {
   "cell_type": "markdown",
   "metadata": {},
   "source": [
    "출처\n",
    "\n",
    "https://ko.wikipedia.org/wiki/%EB%B8%94%EB%A1%9D%EC%B2%B4%EC%9D%B8#cite_note-6\n",
    "https://ko.wikipedia.org/wiki/P2P\n",
    "https://ko.wikipedia.org/wiki/%EB%B8%94%EB%A1%9D%EC%B2%B4%EC%9D%B8#cite_note-6\n",
    "https://medium.com/haechi-audit-kr/smart-contract-a-to-z-79ebc04d6c86\n",
    "https://news.kotra.or.kr/user/globalBbs/kotranews/782/globalBbsDataView.do?setIdx=243&dataIdx=175027\n",
    "https://ko.wikipedia.org/wiki/%EC%86%94%EB%A6%AC%EB%94%94%ED%8B%B0"
   ]
  }
 ],
 "metadata": {
  "kernelspec": {
   "display_name": "Python 3",
   "language": "python",
   "name": "python3"
  },
  "language_info": {
   "codemirror_mode": {
    "name": "ipython",
    "version": 3
   },
   "file_extension": ".py",
   "mimetype": "text/x-python",
   "name": "python",
   "nbconvert_exporter": "python",
   "pygments_lexer": "ipython3",
   "version": "3.7.4"
  }
 },
 "nbformat": 4,
 "nbformat_minor": 2
}
