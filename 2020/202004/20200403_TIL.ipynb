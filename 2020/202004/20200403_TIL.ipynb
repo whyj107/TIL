{
 "cells": [
  {
   "cell_type": "markdown",
   "metadata": {},
   "source": [
    "20200403\n",
    "\n",
    "# 컴퓨터\n",
    "\n",
    " - 알고리즘(코딩의 수학적 기초를 다지는 알고리즘 68) : 끈 세 개로 만드는 사각형\n",
    " - 알고리즘(코드워) : What's a Perfect Power anyway?, Human readable duration format\n",
    " - Python GUI(PyQt) : 8\n",
    " \n",
    " \n",
    "#### 전에 풀지 못했던 Human readable duration format 문제를 풀었다. "
   ]
  }
 ],
 "metadata": {
  "kernelspec": {
   "display_name": "Python 3",
   "language": "python",
   "name": "python3"
  },
  "language_info": {
   "codemirror_mode": {
    "name": "ipython",
    "version": 3
   },
   "file_extension": ".py",
   "mimetype": "text/x-python",
   "name": "python",
   "nbconvert_exporter": "python",
   "pygments_lexer": "ipython3",
   "version": "3.7.3"
  }
 },
 "nbformat": 4,
 "nbformat_minor": 2
}
