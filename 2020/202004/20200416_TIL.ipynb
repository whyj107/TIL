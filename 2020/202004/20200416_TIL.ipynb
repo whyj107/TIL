{
 "cells": [
  {
   "cell_type": "markdown",
   "metadata": {},
   "source": [
    "20200416\n",
    "\n",
    "# 컴퓨터\n",
    "\n",
    " - 알고리즘(필수 알고리즘 with 파이썬) : 알파벳 순서대로 하나씩 줄여가며 출력하기(반복문 사용)\n",
    " - 알고리즘(코드워) : How do I compare numbers?\n",
    " - 알고리즘(백준) : 정수 삼각형\n",
    "\n",
    "#### 오늘 코드워 푸는 날인 줄 알고 sudoku 관련 문제를 풀었는데 잘 풀리지 않아서 다른 문제를 풀었다. 그런데 알고보니 백준 문제를 푸는 날이여서 급하게 백준 문제도 하나 풀었다."
   ]
  }
 ],
 "metadata": {
  "kernelspec": {
   "display_name": "Python 3",
   "language": "python",
   "name": "python3"
  },
  "language_info": {
   "codemirror_mode": {
    "name": "ipython",
    "version": 3
   },
   "file_extension": ".py",
   "mimetype": "text/x-python",
   "name": "python",
   "nbconvert_exporter": "python",
   "pygments_lexer": "ipython3",
   "version": "3.7.4"
  }
 },
 "nbformat": 4,
 "nbformat_minor": 2
}
