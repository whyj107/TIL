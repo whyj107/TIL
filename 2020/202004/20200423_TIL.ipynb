{
 "cells": [
  {
   "cell_type": "markdown",
   "metadata": {},
   "source": [
    "20200423\n",
    "\n",
    "# 컴퓨터\n",
    "\n",
    " - 알고리즘(필수 알고리즘 with 파이썬) : 파스칼의 삼각형\n",
    " - 알고리즘(백준) : 쉬운 계단 수\n",
    "\n",
    "#### 이번 백준 문제는 문제 이해하기도 힘들었고 블로그에 설명을 적는 것도 힘들었다. 어쩌면 내가 잘 이해하지 못하고 풀어서 그런 것일 수도 있다."
   ]
  }
 ],
 "metadata": {
  "kernelspec": {
   "display_name": "Python 3",
   "language": "python",
   "name": "python3"
  },
  "language_info": {
   "codemirror_mode": {
    "name": "ipython",
    "version": 3
   },
   "file_extension": ".py",
   "mimetype": "text/x-python",
   "name": "python",
   "nbconvert_exporter": "python",
   "pygments_lexer": "ipython3",
   "version": "3.7.4"
  }
 },
 "nbformat": 4,
 "nbformat_minor": 2
}
