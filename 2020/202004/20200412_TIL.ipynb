{
 "cells": [
  {
   "cell_type": "markdown",
   "metadata": {},
   "source": [
    "20200412\n",
    "\n",
    "# 컴퓨터\n",
    "\n",
    " - 알고리즘(코딩의 수학적 기초를 다지는 알고리즘 68) : 수난의 파사드 마방진\n",
    " - 알고리즘(코드워) : Is the string uppercase?\n",
    " - Class101 키워드 정리 : Chapter3-5 간단히 정리\n",
    " "
   ]
  },
  {
   "cell_type": "markdown",
   "metadata": {},
   "source": [
    "# --------------------------------------------------------"
   ]
  },
  {
   "cell_type": "markdown",
   "metadata": {},
   "source": [
    "Class101 키워드 정리"
   ]
  },
  {
   "cell_type": "markdown",
   "metadata": {},
   "source": [
    "*Chapter3-5*"
   ]
  },
  {
   "cell_type": "markdown",
   "metadata": {},
   "source": [
    "클라우드 컴퓨팅\n",
    " - 클라우드(인터넷)을 통해 가상화된 컴퓨터의 시스템리소스(IT 리소스)를 요구하는 즉시 제공(on-demand availability)하는 것이다.\n",
    " - 인터넷 기반 컴퓨팅의 일종으로 정보를 자신의 컴퓨터가 아닌 클라우드(인터넷)에 연결된 다른 컴퓨터로 처리하는 기술을 의미한다.\n",
    " \n",
    "DevOps\n",
    " - 애플리케이션과 서비스를 빠른 속도로 제공할 수 있도록 조직의 역량을 향상시키는 문화 철학, 방식 및 도구의 조합입니다.\n",
    " \n",
    "통합개발(Integrated Development) 환경\n",
    " - 코딩, 디버ㅣ그, 컴파일, 배포 등 프로그램 개발에 관련된 모든 작업을 하나의 프로그램 안에서 처리하는 환경을 제공하는 소프트웨어이다.\n",
    " \n",
    "CI/CD\n",
    " - 애플리케이션 개발 단계를 자동화하여 애플리케이션을 보다 짧은 주기로 고객에게 제공하는 방법입니다.\n",
    " \n",
    "Docker\n",
    " - 애플리케이션을 신속하게 구축, 테스트 및 배포할 수 잇는 소프트웨어 플랫폼입니다.\n",
    " "
   ]
  },
  {
   "cell_type": "markdown",
   "metadata": {},
   "source": [
    "출처\n",
    "\n",
    "https://ko.wikipedia.org/wiki/%ED%81%B4%EB%9D%BC%EC%9A%B0%EB%93%9C_%EC%BB%B4%ED%93%A8%ED%8C%85\n",
    "https://aws.amazon.com/ko/devops/what-is-devops/\n",
    "https://ko.wikipedia.org/wiki/%ED%86%B5%ED%95%A9_%EA%B0%9C%EB%B0%9C_%ED%99%98%EA%B2%BD\n",
    "https://www.redhat.com/ko/topics/devops/what-is-ci-cd\n",
    "https://aws.amazon.com/ko/docker/"
   ]
  }
 ],
 "metadata": {
  "kernelspec": {
   "display_name": "Python 3",
   "language": "python",
   "name": "python3"
  },
  "language_info": {
   "codemirror_mode": {
    "name": "ipython",
    "version": 3
   },
   "file_extension": ".py",
   "mimetype": "text/x-python",
   "name": "python",
   "nbconvert_exporter": "python",
   "pygments_lexer": "ipython3",
   "version": "3.7.3"
  }
 },
 "nbformat": 4,
 "nbformat_minor": 2
}
