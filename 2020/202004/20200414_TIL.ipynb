{
 "cells": [
  {
   "cell_type": "markdown",
   "metadata": {},
   "source": [
    "20200414\n",
    "\n",
    "# 컴퓨터\n",
    "\n",
    " - 알고리즘(코딩의 수학적 기초를 다지는 알고리즘 68) : 엉키지 않는 실 전화\n",
    " - 알고리즘(백준) : RGB 거리\n",
    " - Class101 키워드 정리 : Chapter4-2 간단히 정리\n",
    " "
   ]
  },
  {
   "cell_type": "markdown",
   "metadata": {},
   "source": [
    "# --------------------------------------------------------"
   ]
  },
  {
   "cell_type": "markdown",
   "metadata": {},
   "source": [
    "Class101 키워드 정리"
   ]
  },
  {
   "cell_type": "markdown",
   "metadata": {},
   "source": [
    "*Chapter4-2*"
   ]
  },
  {
   "cell_type": "markdown",
   "metadata": {},
   "source": [
    "Spring\n",
    " - 자바 플랫폼을 위한 오픈 소스 애플리케이션 프레임워크로서 간단히 스프링이라고도 한다.\n",
    " - 동적인 웹 사이트를 개발하기 위한 여러 가지 서비스를 제공하고 있다.\n",
    " - 대한민국 공공기관의 웹 서비스 개발 시 사용을 권장하고 있는 전자정부 표준프레임워크의 기반 기술로서 쓰이고 있다.\n",
    " \n",
    "Node.js\n",
    " - 확장성 있는 네트워크 애플리케이션(특히 서버 사이드) 개발에 사용되는 소프트웨어 플랫폼이다.\n",
    " - 작성 언어로 자바스크립트를 활용하며 Non-blocking I/O와 단일 스레드 이벤트 루프를 통한 높은 처리 성능을 가지고 있다.\n",
    " - 내장 HTTP 서버 라이브러리를 포함하고 있어 웹 서버에서 아파치 등의 별도의 소프트웨어 없이 동작하는 것이 가능하며 이를 통해 웹 서버의 동작에 있어 더 많은 통제를 가능케 한다.\n",
    " \n",
    "데이터베이스\n",
    " - 여러 사람이 공유하여 사용할 목적으로 체계화해 통합, 관리하는 데이터의 집합이다.\n",
    " - 작성된 목록으로써 여러 응용 시스템들의 통합된 정보들을 저장하여 운영할 수 있는 공용 데이터들의 묶음이다.\n",
    " \n",
    "Restful\n",
    " - REST는 Representational State Transfer라는 용어의 약자\n",
    " - 웹의 장점을 최대한 활용할 수 있는 아키텍처이다.\n",
    " - 최근의 서버 프로그램은 다양한 브라우저와 안드로이드폰, 아이폰과 같은 모바일 디바이스에서도 통신을 할 수 있어야 한다.\n",
    " - REST 아키텍처는 Hypermedia API의 기본을 충실히 지키면서 범용성을 보장한다.\n",
    " \n",
    "Graphql\n",
    " - 페이스북이 2012년에 개발하여 2015년에 공개적으로 발표된 데이터 질의어이다.\n",
    " - REST 및 부속 웹서비스 아키텍쳐를 대체할 수 있다.\n",
    " - 클라이언트는 필요한 데이터의 구조를 지정할 수 있으며, 서버는 정확히 동일한 구조로 데이터를 반환하다.\n",
    " - 사용자가 어떤 데이터가 필요한 지 명시할 수 있게 해 주는 강타입 언어이다.\n",
    " "
   ]
  },
  {
   "cell_type": "markdown",
   "metadata": {},
   "source": [
    "출처\n",
    "\n",
    "https://ko.wikipedia.org/wiki/%EC%8A%A4%ED%94%84%EB%A7%81_%ED%94%84%EB%A0%88%EC%9E%84%EC%9B%8C%ED%81%AC\n",
    "https://ko.wikipedia.org/wiki/Node.js\n",
    "https://ko.wikipedia.org/wiki/%EB%8D%B0%EC%9D%B4%ED%84%B0%EB%B2%A0%EC%9D%B4%EC%8A%A4\n",
    "https://nesoy.github.io/articles/2017-02/REST\n",
    "https://ko.wikipedia.org/wiki/%EA%B7%B8%EB%9E%98%ED%94%84QL"
   ]
  }
 ],
 "metadata": {
  "kernelspec": {
   "display_name": "Python 3",
   "language": "python",
   "name": "python3"
  },
  "language_info": {
   "codemirror_mode": {
    "name": "ipython",
    "version": 3
   },
   "file_extension": ".py",
   "mimetype": "text/x-python",
   "name": "python",
   "nbconvert_exporter": "python",
   "pygments_lexer": "ipython3",
   "version": "3.7.3"
  }
 },
 "nbformat": 4,
 "nbformat_minor": 2
}
