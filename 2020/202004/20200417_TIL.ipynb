{
 "cells": [
  {
   "cell_type": "markdown",
   "metadata": {},
   "source": [
    "20200417\n",
    "\n",
    "# 컴퓨터\n",
    "\n",
    " - 알고리즘(코딩의 수학적 기초를 다지는 알고리즘 68) : 블랙잭으로 대박?!\n",
    " - 알고리즘(코드워) : Sudoku Solver\n",
    "\n",
    "#### 백준에서 풀었던 스도쿠 문제를 응용해서 풀어보았다. 코드워 문제를 다 풀고 백준 문제를 다시 풀고 있는데 왜 자꾸 틀리는 것인가... 맞았던 문제인데 도대체 왜...."
   ]
  }
 ],
 "metadata": {
  "kernelspec": {
   "display_name": "Python 3",
   "language": "python",
   "name": "python3"
  },
  "language_info": {
   "codemirror_mode": {
    "name": "ipython",
    "version": 3
   },
   "file_extension": ".py",
   "mimetype": "text/x-python",
   "name": "python",
   "nbconvert_exporter": "python",
   "pygments_lexer": "ipython3",
   "version": "3.7.3"
  }
 },
 "nbformat": 4,
 "nbformat_minor": 2
}
