{
 "cells": [
  {
   "cell_type": "markdown",
   "metadata": {},
   "source": [
    "20200307\n",
    "\n",
    "# 컴퓨터\n",
    " - 알고리즘(코딩의 수학적 기초를 다지는 알고리즘 퍼즐 68) :날짜의 2진수 변환\n",
    " - 알고리즘(코드워) : List Filtering, Name Your Python, Take a Ten Minute Walk, Complementary DNA, Mumbling\n",
    " - 자료구조론 : 배열, C언어와 자료구조론 1회독\n",
    " \n",
    "#### Code War에서 처음 알고리즘 문제를 풀어보았는데 재미있었다. \n",
    "#### 영어를 더 열심히 공부해야겠다."
   ]
  }
 ],
 "metadata": {
  "kernelspec": {
   "display_name": "Python 3",
   "language": "python",
   "name": "python3"
  },
  "language_info": {
   "codemirror_mode": {
    "name": "ipython",
    "version": 3
   },
   "file_extension": ".py",
   "mimetype": "text/x-python",
   "name": "python",
   "nbconvert_exporter": "python",
   "pygments_lexer": "ipython3",
   "version": "3.7.3"
  }
 },
 "nbformat": 4,
 "nbformat_minor": 2
}
