{
 "cells": [
  {
   "cell_type": "markdown",
   "metadata": {},
   "source": [
    "20200306\n",
    "\n",
    "# 컴퓨터\n",
    "  - 알고리즘(코딩의 수학적 기초를 다지는 알고리즘 퍼즐 68) : 콜라츠 추측\n",
    "  - 자료구조론 : 순서 리스트 1회독\n",
    "\n",
    "#### 본가에 왔기에 기존에 학습하던 책 대신 본가에 존재하는 책으로 알고리즘 학습을 진행했다.\n",
    "#### 콜라츠 추측은 백준문제로 예전에 풀어본 적이 있었는데 이번 책을 통해서 if 문을 한줄로 표현하는 법을 배웠다.\n"
   ]
  }
 ],
 "metadata": {
  "kernelspec": {
   "display_name": "Python 3",
   "language": "python",
   "name": "python3"
  },
  "language_info": {
   "codemirror_mode": {
    "name": "ipython",
    "version": 3
   },
   "file_extension": ".py",
   "mimetype": "text/x-python",
   "name": "python",
   "nbconvert_exporter": "python",
   "pygments_lexer": "ipython3",
   "version": "3.7.3"
  }
 },
 "nbformat": 4,
 "nbformat_minor": 2
}
