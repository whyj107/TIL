{
 "cells": [
  {
   "cell_type": "markdown",
   "metadata": {},
   "source": [
    "20200330\n",
    "\n",
    "# 컴퓨터\n",
    "\n",
    " - 알고리즘(필수 알고리즘 with 파이썬) : 대리석 채우기\n",
    " - 알고리즘(코드워) : Is it even?\n",
    " - Python GUI(PyQt) : 5-11 ~ 5-14\n",
    " - Class101 키워드 정리 : Chapter1-1 간단하게 정리\n",
    " \n",
    "#### 이번 필수 알고리즘 책은 불친절했다.\n",
    "#### 원래라면 kata5를 풀어야하지만... 몇분만에 생각해서 풀기에는 시간이 오래 걸려서 아직까지 kata8을 풀고 있다. 천천히 올라가는게 좋지 않을까...ㅋㅋㅋㅋㅋ"
   ]
  },
  {
   "cell_type": "markdown",
   "metadata": {},
   "source": [
    "# --------------------------------------------------------"
   ]
  },
  {
   "cell_type": "markdown",
   "metadata": {},
   "source": [
    "Class101 키워드 정리"
   ]
  },
  {
   "cell_type": "markdown",
   "metadata": {},
   "source": [
    "*Chapter1-1*"
   ]
  },
  {
   "cell_type": "markdown",
   "metadata": {},
   "source": [
    "OS\n",
    " - 운영 체제 또는 오퍼레이팅 시스템(operating system, OS)\n",
    " - 시스템 하드웨어를 관리할 뿐 아니라 응용 소프트웨어를 실행하기 위하여 하드웨어 추상화 플랫폼과 공통 시스템 서비스를 제공하는 시스템 소프트웨어이다.\n",
    " - 입출력과 메모리 할당과 같은 하드웨어 기능의 경우 운영 체제는 응용 프로그램과 컴퓨터 하드웨어 사이의 중재 역할을 한다. 그러나 응용프로그램 코드는 일반적으로 하드웨어에서 직접 실행한다.\n",
    " - 실행되는 응용 프로그램들이 메모리와 CPU, 입출력 장치 등의 자원들을 사용할 수 있도록 만들어 주고, 이들을 추상화하여 파일 시스템 등의 서비스를 제공한다.\n",
    " - 멀티태스킹을 지원하는 경우, 여러 개의 응용 프로그램을 실행하고 있는 동안, 운영체제는 이러한 모든 프로세스들을 스케줄링하여 마치 그들이 동시에 수행되는 것처럼 보이는 효과를 낸다.\n",
    "\n",
    "CPU\n",
    " - 컴퓨터에서 구성 단위 중 기억, 해석, 연산, 제어라는 4대 기능을 종합하는 장치인 Central Processing Unit(중앙 처리 장치)의 줄임말\n",
    " - 프로그램의 명령어를 해석하여 데이터를 연산/처리를 하고 그렇게 돌아가도록 제어하는 부분 혹은 그 기능을 내장한 칩을 의미한다.\n",
    "\n",
    "메모리\n",
    " - 사용자가 자유롭게 읽고 쓰고 지울 수 있는 기억장치이다.\n",
    " - 컴퓨터가 켜지는 순간부터 CPU는 연산을 하고 동작에 필요한 모든 내용이 전원이 유지되는 내내 이 기억장치에 저장된다.\n",
    " - ROM과 함께 컴퓨터의 주 기억 장치로, 롬과는 달리 자유롭게 읽고 쓸 수 있다.\n",
    "\n",
    "디스크\n",
    " - 비휘발성, 순차접근이 가능한 컴퓨터의 보조 기억 장치이다.\n",
    " - 보호 케이스 안에 있는 플래터를 회전시켜, 이것에 자기 패턴으로 정보를 기록한다.\n",
    " - 데이터는 플래터 표면에 코팅된 자성체에 기록되며, 회전하는 플래터 위에 부상하는 입출력 헤드에 의해 자기적으로 데이터를 쓰고 읽을 수 있다.\n",
    " \n",
    "\n",
    "프로세스\n",
    " - 컴퓨터에서 연속적으로 실행되고 있는 컴퓨터 프로그램이다.\n",
    " - 스케줄링의 대상이 되는 작업(task)이라는 용어와 거의 같은 의미로 쓰인다.\n",
    " - 여러 개의 프로세서를 사용하는 것을 멀티프로세싱이라고 하며 같은 시간에 여러 개의 프로그램을 띄우는 시분할 방식을 멀티태스킹이라고 한다.\n",
    " \n",
    "\n",
    "도커\n",
    " - 리눅스의 응용 프로그램들을 소프트웨어 컨테이너 안에 배치시키는 일을 자동화하는 오픈 소스 프로젝트이다.\n",
    " - 리눅스에서 운영 체제 수준 가상화의 추상화 및 자동화 계층을 추가적으로 제공한다."
   ]
  },
  {
   "cell_type": "markdown",
   "metadata": {},
   "source": [
    "출처\n",
    "https://ko.wikipedia.org/wiki/%EC%9A%B4%EC%98%81_%EC%B2%B4%EC%A0%9C\n",
    "https://namu.wiki/w/CPU\n",
    "https://namu.wiki/w/RAM\n",
    "https://ko.wikipedia.org/wiki/%ED%95%98%EB%93%9C_%EB%94%94%EC%8A%A4%ED%81%AC_%EB%93%9C%EB%9D%BC%EC%9D%B4%EB%B8%8C\n",
    "https://ko.wikipedia.org/wiki/%ED%94%84%EB%A1%9C%EC%84%B8%EC%8A%A4\n",
    "https://ko.wikipedia.org/wiki/%EB%8F%84%EC%BB%A4_(%EC%86%8C%ED%94%84%ED%8A%B8%EC%9B%A8%EC%96%B4)"
   ]
  }
 ],
 "metadata": {
  "kernelspec": {
   "display_name": "Python 3",
   "language": "python",
   "name": "python3"
  },
  "language_info": {
   "codemirror_mode": {
    "name": "ipython",
    "version": 3
   },
   "file_extension": ".py",
   "mimetype": "text/x-python",
   "name": "python",
   "nbconvert_exporter": "python",
   "pygments_lexer": "ipython3",
   "version": "3.7.4"
  }
 },
 "nbformat": 4,
 "nbformat_minor": 2
}
