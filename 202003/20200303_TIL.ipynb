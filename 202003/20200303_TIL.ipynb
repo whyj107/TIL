{
 "cells": [
  {
   "cell_type": "markdown",
   "metadata": {},
   "source": [
    "20200303\n",
    "\n",
    "# 컴퓨터\n",
    " - 알고리즘(백준) : 소트인사이드, 좌표 정렬하기\n",
    " - 알고리즘(필수 알고리즘 with 파이썬) : 선택/삽입 정렬 알고리즘, 숫자 뒤집기\n",
    " - 소프트웨어공학 : 소프트웨어 프로젝트 관리(일정계획, 조직계획, 위험 분석 및 관리, 개발 계획서) 1회독\n",
    " \n",
    "#### 백준 문제에서 sort의 key와 reverse 기능에 대해서 알게 되었다.\n",
    "#### 아직까지 필수 알고리즘의 문제는 크게 어렵지 않다."
   ]
  },
  {
   "cell_type": "code",
   "execution_count": null,
   "metadata": {},
   "outputs": [],
   "source": []
  }
 ],
 "metadata": {
  "kernelspec": {
   "display_name": "Python 3",
   "language": "python",
   "name": "python3"
  },
  "language_info": {
   "codemirror_mode": {
    "name": "ipython",
    "version": 3
   },
   "file_extension": ".py",
   "mimetype": "text/x-python",
   "name": "python",
   "nbconvert_exporter": "python",
   "pygments_lexer": "ipython3",
   "version": "3.7.4"
  }
 },
 "nbformat": 4,
 "nbformat_minor": 2
}
