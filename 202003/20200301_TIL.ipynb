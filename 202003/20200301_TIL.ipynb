{
 "cells": [
  {
   "cell_type": "markdown",
   "metadata": {},
   "source": [
    "20200301\n",
    "\n",
    "# 컴퓨터\n",
    " - 알고리즘(백준) : 수 정렬하기1, 수 정렬하기2, 수 정렬하기3\n",
    "\n",
    "#### 백준 알고리즘 수 정렬하기1과 2를 수정하고 3을 작성하였다.\n",
    "#### AWS 강의를 듣지 못했다."
   ]
  },
  {
   "cell_type": "code",
   "execution_count": null,
   "metadata": {},
   "outputs": [],
   "source": []
  }
 ],
 "metadata": {
  "kernelspec": {
   "display_name": "Python 3",
   "language": "python",
   "name": "python3"
  },
  "language_info": {
   "codemirror_mode": {
    "name": "ipython",
    "version": 3
   },
   "file_extension": ".py",
   "mimetype": "text/x-python",
   "name": "python",
   "nbconvert_exporter": "python",
   "pygments_lexer": "ipython3",
   "version": "3.7.4"
  }
 },
 "nbformat": 4,
 "nbformat_minor": 2
}
