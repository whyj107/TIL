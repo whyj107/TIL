{
 "cells": [
  {
   "cell_type": "markdown",
   "metadata": {},
   "source": [
    "20200314\n",
    "\n",
    "# 컴퓨터\n",
    "\n",
    " - 알고리즘(코딩의 수학적 기초를 다지는 알고리즘 퍼즐 68) : 룰렛의 최댓값\n",
    " - 알고리즘(코드워) : Bouncing Balls\n",
    " - Class101 : Chapter3 IT 서비스의 핵심 - 프론트엔드와 백엔드에 대해\n",
    " \n",
    "#### Class101의 강의 자체는 짧은데 많은 내용을 담고 있어서 모든 것을 소화하는데는 시간이 걸릴 것 같다. 일단 모든 강의를 들은 후 처음부터 복습을 하면서 깊이있게 공부를 해야겠다.\n",
    "#### 퍼즐 입문 문제가 다끝났다. 나에게는 쉽지 않았는데 이 문제들이 입문이였다는게 놀라웠다.\n"
   ]
  }
 ],
 "metadata": {
  "kernelspec": {
   "display_name": "Python 3",
   "language": "python",
   "name": "python3"
  },
  "language_info": {
   "codemirror_mode": {
    "name": "ipython",
    "version": 3
   },
   "file_extension": ".py",
   "mimetype": "text/x-python",
   "name": "python",
   "nbconvert_exporter": "python",
   "pygments_lexer": "ipython3",
   "version": "3.7.3"
  }
 },
 "nbformat": 4,
 "nbformat_minor": 2
}
