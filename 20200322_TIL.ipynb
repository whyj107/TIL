{
 "cells": [
  {
   "cell_type": "markdown",
   "metadata": {},
   "source": [
    "20200322\n",
    "\n",
    "# 컴퓨터\n",
    "\n",
    " - python GUI : 창 띄우기, 어플리케이션 아이콘 넣기, 창 닫기, 툴팁 나타내기, 상태바 만들기, 메뉴바 만들기, 툴바 만들기, 창을 화면의 가운데로, 날짜와 시간 표시하기, 스타일 꾸미기\n",
    " http://codetorial.net/pyqt5/basics/index.html \n",
    "\n",
    "#### PyQt5 기초(Basics) 예제들을 따라 해보았다."
   ]
  }
 ],
 "metadata": {
  "kernelspec": {
   "display_name": "Python 3",
   "language": "python",
   "name": "python3"
  },
  "language_info": {
   "codemirror_mode": {
    "name": "ipython",
    "version": 3
   },
   "file_extension": ".py",
   "mimetype": "text/x-python",
   "name": "python",
   "nbconvert_exporter": "python",
   "pygments_lexer": "ipython3",
   "version": "3.7.4"
  }
 },
 "nbformat": 4,
 "nbformat_minor": 2
}
