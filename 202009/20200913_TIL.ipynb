{
 "cells": [
  {
   "cell_type": "markdown",
   "metadata": {},
   "source": [
    "20200913\n",
    "\n",
    "오늘 라인 시험을 봤다 6문제 중 4문제를 풀었는데 전보다 성장한 느낌이 들어서 기분이 좋았다."
   ]
  }
 ],
 "metadata": {
  "kernelspec": {
   "display_name": "Python 3",
   "language": "python",
   "name": "python3"
  },
  "language_info": {
   "codemirror_mode": {
    "name": "ipython",
    "version": 3
   },
   "file_extension": ".py",
   "mimetype": "text/x-python",
   "name": "python",
   "nbconvert_exporter": "python",
   "pygments_lexer": "ipython3",
   "version": "3.7.3"
  }
 },
 "nbformat": 4,
 "nbformat_minor": 2
}
