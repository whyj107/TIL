{
 "cells": [
  {
   "cell_type": "markdown",
   "metadata": {},
   "source": [
    "20200912\n",
    "\n",
    "KAKAO 시험을 쳤다 7 문제 중 정확히 문제를 푼 것은 1 문제이다.\n",
    "2 문제는 효율성 통과에 실패했다."
   ]
  }
 ],
 "metadata": {
  "kernelspec": {
   "display_name": "Python 3",
   "language": "python",
   "name": "python3"
  },
  "language_info": {
   "codemirror_mode": {
    "name": "ipython",
    "version": 3
   },
   "file_extension": ".py",
   "mimetype": "text/x-python",
   "name": "python",
   "nbconvert_exporter": "python",
   "pygments_lexer": "ipython3",
   "version": "3.7.3"
  }
 },
 "nbformat": 4,
 "nbformat_minor": 2
}
