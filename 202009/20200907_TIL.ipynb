{
 "cells": [
  {
   "cell_type": "markdown",
   "metadata": {},
   "source": [
    "20200907\n",
    "\n",
    "# 컴퓨터\n",
    " - 저번주 내내 알고리즘 출제 유형이 강한 문제와 카카오 전년도 문제를 풀었었다. \n",
    " - 오늘부터는 복습이다.\n",
    " - 복습 1일차"
   ]
  }
 ],
 "metadata": {
  "kernelspec": {
   "display_name": "Python 3",
   "language": "python",
   "name": "python3"
  },
  "language_info": {
   "codemirror_mode": {
    "name": "ipython",
    "version": 3
   },
   "file_extension": ".py",
   "mimetype": "text/x-python",
   "name": "python",
   "nbconvert_exporter": "python",
   "pygments_lexer": "ipython3",
   "version": "3.7.4"
  }
 },
 "nbformat": 4,
 "nbformat_minor": 2
}
