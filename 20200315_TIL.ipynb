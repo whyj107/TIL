{
 "cells": [
  {
   "cell_type": "markdown",
   "metadata": {},
   "source": [
    "20200315\n",
    "\n",
    "# 컴퓨터\n",
    "\n",
    " - 알고리즘(코딩의 수학적 기초를 다지는 알고리즘 퍼즐 68): 피보나치 수열\n",
    " - 알고리즘(코드워) : CamelCase Method\n",
    " - Class101 : Chapter4\n",
    "\n",
    "#### 일반적인 피보나치 수열을 구한 뒤 출력하는 문제가 아니고 피보나치 수열을 구한 뒤에 각 자리의 숫자를 더한 수로 나누어서 나누어 떨어지는 수를 구하는 문제였다.\n",
    "#### CamelCase Method는 어렵지 않게 풀었다."
   ]
  }
 ],
 "metadata": {
  "kernelspec": {
   "display_name": "Python 3",
   "language": "python",
   "name": "python3"
  },
  "language_info": {
   "codemirror_mode": {
    "name": "ipython",
    "version": 3
   },
   "file_extension": ".py",
   "mimetype": "text/x-python",
   "name": "python",
   "nbconvert_exporter": "python",
   "pygments_lexer": "ipython3",
   "version": "3.7.4"
  }
 },
 "nbformat": 4,
 "nbformat_minor": 2
}
