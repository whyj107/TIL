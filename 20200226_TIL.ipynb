{
 "cells": [
  {
   "cell_type": "markdown",
   "metadata": {},
   "source": [
    "20200226\n",
    "\n",
    "# 컴퓨터\n",
    " - 알고리즘(필수 알고리즘 with 파이썬) : 스택(Stack)과 큐(Queue), 반복문을 사용하여 1부터 n까지 출력하기\n",
    " - 알고리즘(백준) : 덩치, 체스판 다시 칠하기\n",
    " - 소프트웨어공학 : 소프트웨어공학의 개념 1회독\n",
    " \n",
    "#### 백준 알고리즘 문제를 다시 풀어보았다. 손코딩을 하면서 이해를 하였다."
   ]
  },
  {
   "cell_type": "code",
   "execution_count": null,
   "metadata": {},
   "outputs": [],
   "source": []
  }
 ],
 "metadata": {
  "kernelspec": {
   "display_name": "Python 3",
   "language": "python",
   "name": "python3"
  },
  "language_info": {
   "codemirror_mode": {
    "name": "ipython",
    "version": 3
   },
   "file_extension": ".py",
   "mimetype": "text/x-python",
   "name": "python",
   "nbconvert_exporter": "python",
   "pygments_lexer": "ipython3",
   "version": "3.7.4"
  }
 },
 "nbformat": 4,
 "nbformat_minor": 2
}
