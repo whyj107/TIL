{
 "cells": [
  {
   "cell_type": "markdown",
   "metadata": {},
   "source": [
    "20200327\n",
    "\n",
    "# 컴퓨터\n",
    "\n",
    " - 알고리즘(코딩의 수학적 기초를 다지는 알고리즘 퍼즐 68) : 월드컵 출전국 끝말잇기\n",
    " - 알고리즘(코드워) : Find the Difference in Age between Oldest and Youngest Family Members\n",
    " - Class101 : Chapter 7\n",
    " \n",
    "#### Class101에 있는 모든 강의를 다들었다. 내일 복습의 시간을 갖고 다음주부터 인프런에서 강의를 신청해야겠다.\n",
    "#### 내일 공부 후 시간이 남는다면 블로그에 파이썬과 라즈베리파이에 관해서 정리를 해야겠다.(마음이 바뀔 가능성이 아주 크지만)\n",
    "#### 내일은 이번주에 풀지 못했던 백준 문제 1개와 코드워 문제 1개와 DSSchool에서 받은 문제를 공부해야겠다."
   ]
  }
 ],
 "metadata": {
  "kernelspec": {
   "display_name": "Python 3",
   "language": "python",
   "name": "python3"
  },
  "language_info": {
   "codemirror_mode": {
    "name": "ipython",
    "version": 3
   },
   "file_extension": ".py",
   "mimetype": "text/x-python",
   "name": "python",
   "nbconvert_exporter": "python",
   "pygments_lexer": "ipython3",
   "version": "3.7.3"
  }
 },
 "nbformat": 4,
 "nbformat_minor": 2
}
