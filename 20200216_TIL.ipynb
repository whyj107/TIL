{
 "cells": [
  {
   "cell_type": "markdown",
   "metadata": {},
   "source": [
    "잔재미코딩\n",
    "\n",
    "https://www.fun-coding.org/crawl_basic2.html\n",
    "\n",
    "크롤링(crawling) 이해 및 기본\n",
    "연습문제"
   ]
  },
  {
   "cell_type": "code",
   "execution_count": 83,
   "metadata": {},
   "outputs": [],
   "source": [
    "# pip install bs4"
   ]
  },
  {
   "cell_type": "code",
   "execution_count": 84,
   "metadata": {},
   "outputs": [],
   "source": [
    "import requests\n",
    "from bs4 import BeautifulSoup"
   ]
  },
  {
   "cell_type": "raw",
   "metadata": {},
   "source": [
    "기사가 너무 많아서 메인기사만 뽑아보자!"
   ]
  },
  {
   "cell_type": "code",
   "execution_count": 85,
   "metadata": {},
   "outputs": [],
   "source": [
    "res = requests.get('http://media.daum.net/digital')\n",
    "soup = BeautifulSoup(res.content, 'html.parser')\n",
    "\n",
    "# find_all() 메서드를 사용해서 태그와 클래스이름으로 링크가 걸려있는 \n",
    "# 기사 타이틀 가져오기\n",
    "\n",
    "#print(soup)\n",
    "\n",
    "link_title = soup.find_all('a', class_='link_txt #article_main')\n",
    "#print(link_title)\n",
    "\n",
    "#link_title = soup.find('a', class_='link_txt')\n",
    "#print(link_title.text)\n",
    "#print(link_title.get('href'))\n",
    "\n",
    "#for i in soup.find_all('a', class_='link_txt'):\n",
    "#    print(i.text)\n"
   ]
  },
  {
   "cell_type": "code",
   "execution_count": 86,
   "metadata": {},
   "outputs": [
    {
     "name": "stdout",
     "output_type": "stream",
     "text": [
      "'갤럭시 Z플립' 본격 판매.. 통신 3사 프로모션 경쟁\n",
      "이재용·이상훈 빠진 삼성전자 이사회, 후임 의장은 누구?\n",
      "재반박 나선 화웨이 \"美 법무부 추가 기소.. 정치적 박해다\" 발끈\n",
      "美·獨·日 외산 연구장비 독식 막는다..국산화 추진\n",
      "갤Z플립 온라인선 '완판'이라는데..\"매장엔 제품도 안들어와요\"\n"
     ]
    }
   ],
   "source": [
    "for num in range(len(link_title)):\n",
    "    print(link_title[num].get_text().strip())"
   ]
  },
  {
   "cell_type": "code",
   "execution_count": null,
   "metadata": {},
   "outputs": [],
   "source": []
  }
 ],
 "metadata": {
  "kernelspec": {
   "display_name": "Python 3",
   "language": "python",
   "name": "python3"
  },
  "language_info": {
   "codemirror_mode": {
    "name": "ipython",
    "version": 3
   },
   "file_extension": ".py",
   "mimetype": "text/x-python",
   "name": "python",
   "nbconvert_exporter": "python",
   "pygments_lexer": "ipython3",
   "version": "3.7.4"
  }
 },
 "nbformat": 4,
 "nbformat_minor": 2
}
