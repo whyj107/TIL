{
 "cells": [
  {
   "cell_type": "markdown",
   "metadata": {},
   "source": [
    "20200317\n",
    "\n",
    "# 컴퓨터\n",
    " - 알고리즘(필수 알고리즘 with 파이썬) : 소인수분해 구하기\n",
    " - 알고리즘(백준) : N-Queen 복습\n",
    " - 알고리즘(코드워) : Snail\n",
    "\n",
    "#### 살면서 여러가지 변수를 만나게 되지만... \n",
    "#### 퇴근을 9시 넘어서 했다.\n",
    "#### 퇴근 후의 공부보다 새벽공부를 해야하나 진지하게 고민이 된다."
   ]
  }
 ],
 "metadata": {
  "kernelspec": {
   "display_name": "Python 3",
   "language": "python",
   "name": "python3"
  },
  "language_info": {
   "codemirror_mode": {
    "name": "ipython",
    "version": 3
   },
   "file_extension": ".py",
   "mimetype": "text/x-python",
   "name": "python",
   "nbconvert_exporter": "python",
   "pygments_lexer": "ipython3",
   "version": "3.7.4"
  }
 },
 "nbformat": 4,
 "nbformat_minor": 2
}
