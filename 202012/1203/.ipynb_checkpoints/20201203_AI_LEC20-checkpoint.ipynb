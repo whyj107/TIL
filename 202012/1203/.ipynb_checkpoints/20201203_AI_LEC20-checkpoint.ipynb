{
 "cells": [
  {
   "cell_type": "markdown",
   "metadata": {},
   "source": [
    "# 2020.12.03\n",
    "# 인공지능 강의 20일차\n",
    "\n",
    "===========================================\n",
    "- iris data 복습\n",
    "- pocketmon data 복습 : iris data 와 비슷하게 진행된다.\n",
    "    - categorical_crossentropy : 원핫인코딩\n",
    "    - SMOTE : 데이터가 한쪽만 많이 있을 경우 작은 부분을 불려준다.\n",
    "\n",
    "***원핫인코딩 : 피처 값의 유형에 따라 새로운 피처를 추가해 고유 값에 해당하는 칼럼에만 1을 표시하고 나머지 칼럼에는 0을 표시하는 방법***\n",
    "\n",
    "===========================================\n",
    "\n",
    "## CNN : Convolutional Neural Network\n",
    "#### CNN 정리 문서\n",
    " - Feature extraction(신호처리) : (Convolution + Poll) 반복\n",
    " - Classification(기계학습)\n",
    " \n",
    "     ★☆ 주요 용어 정리 ☆★\n",
    "     - Convolution(합성곱)\n",
    "     - Channel(채널)\n",
    "     - Filter(필터)\n",
    "     - Kernel(커널)\n",
    "     - Strid(스트라이드)\n",
    "     - Padding(패딩)\n",
    "     - Feature Map(피처 맵)\n",
    "     - Activation Map(액티베이션 맵)\n",
    "     - Polling Layer(풀링 레이어) : 옛날에는 Average polling을 썼지만 최근에는 Max polling을 쓴다.\n",
    " \n",
    " - 전이학습\n",
    " \n",
    "***MNIST DATABASE***\n",
    "#### 09-MNIST_Data CNN\n"
   ]
  },
  {
   "cell_type": "code",
   "execution_count": null,
   "metadata": {},
   "outputs": [],
   "source": []
  }
 ],
 "metadata": {
  "kernelspec": {
   "display_name": "Python 3",
   "language": "python",
   "name": "python3"
  },
  "language_info": {
   "codemirror_mode": {
    "name": "ipython",
    "version": 3
   },
   "file_extension": ".py",
   "mimetype": "text/x-python",
   "name": "python",
   "nbconvert_exporter": "python",
   "pygments_lexer": "ipython3",
   "version": "3.7.3"
  }
 },
 "nbformat": 4,
 "nbformat_minor": 4
}
