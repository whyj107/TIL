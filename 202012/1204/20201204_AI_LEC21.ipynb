{
 "cells": [
  {
   "cell_type": "markdown",
   "metadata": {},
   "source": [
    "# 2020.12.04\n",
    "# 인공지능 강의 21일차\n",
    "\n",
    "===========================================\n",
    "#### Fashion MNIST Code \n",
    "#### Transfer Learning\n",
    "\n",
    "#### Google Colab : 아주 잘된다.\n",
    "#### 내 드라이브 -> Colab 드라이브 -> Colab"
   ]
  }
 ],
 "metadata": {
  "kernelspec": {
   "display_name": "Python 3",
   "language": "python",
   "name": "python3"
  },
  "language_info": {
   "codemirror_mode": {
    "name": "ipython",
    "version": 3
   },
   "file_extension": ".py",
   "mimetype": "text/x-python",
   "name": "python",
   "nbconvert_exporter": "python",
   "pygments_lexer": "ipython3",
   "version": "3.7.3"
  }
 },
 "nbformat": 4,
 "nbformat_minor": 2
}
