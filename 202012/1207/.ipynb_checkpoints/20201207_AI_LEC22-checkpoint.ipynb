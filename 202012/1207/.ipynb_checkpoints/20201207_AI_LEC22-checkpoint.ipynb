{
 "cells": [
  {
   "cell_type": "markdown",
   "metadata": {},
   "source": [
    "# 2020.12.07\n",
    "# 인공지능 강의 22일차\n",
    "\n",
    "===========================================\n",
    "\n",
    " - 전이학습\n",
    " - ***Data Augmentation***\n",
    " - Driver_Transfer_learning.ipynb\n",
    " - Co_Vi_51\n",
    "\n",
    "===========================================\n",
    " "
   ]
  },
  {
   "cell_type": "code",
   "execution_count": null,
   "metadata": {},
   "outputs": [],
   "source": []
  }
 ],
 "metadata": {
  "kernelspec": {
   "display_name": "Python 3",
   "language": "python",
   "name": "python3"
  },
  "language_info": {
   "codemirror_mode": {
    "name": "ipython",
    "version": 3
   },
   "file_extension": ".py",
   "mimetype": "text/x-python",
   "name": "python",
   "nbconvert_exporter": "python",
   "pygments_lexer": "ipython3",
   "version": "3.7.4"
  }
 },
 "nbformat": 4,
 "nbformat_minor": 2
}
