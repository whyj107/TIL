{
 "cells": [
  {
   "cell_type": "markdown",
   "metadata": {},
   "source": [
    "20200319\n",
    "\n",
    "# 컴퓨터\n",
    "\n",
    " - 알고리즘(필수 알고리즘 with 파이썬) : 배열 채우기(1)\n",
    " - 알고리즘(백준) : 평균 점수\n",
    " - 알고리즘(코드워) : Human readable duration format\n",
    "\n",
    "#### 코드워 문제가 생각처럼 잘 풀리지 않아서 주말에 다시 풀어야겠다."
   ]
  }
 ],
 "metadata": {
  "kernelspec": {
   "display_name": "Python 3",
   "language": "python",
   "name": "python3"
  },
  "language_info": {
   "codemirror_mode": {
    "name": "ipython",
    "version": 3
   },
   "file_extension": ".py",
   "mimetype": "text/x-python",
   "name": "python",
   "nbconvert_exporter": "python",
   "pygments_lexer": "ipython3",
   "version": "3.7.4"
  }
 },
 "nbformat": 4,
 "nbformat_minor": 2
}
