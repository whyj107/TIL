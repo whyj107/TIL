{
 "cells": [
  {
   "cell_type": "markdown",
   "metadata": {},
   "source": [
    "20200326\n",
    "\n",
    "# 컴퓨터\n",
    "\n",
    " - 알고리즘(필수 알고리즘 with 파이썬) : 최적화한 조합\n",
    " - 알고리즘(코드워) : All Star Code Challenge # 18\n",
    "\n",
    "#### 회사에서 매 시간마다 뭐했는지에 대한 보고와 야근으로 인해 요새 공부할 기분이 들지 않았다. 그래도 매일 한개라도 해보자는 의지로 하고는 있는데 이렇게 공부하는게 의미가 있는지 의문이 들었다."
   ]
  }
 ],
 "metadata": {
  "kernelspec": {
   "display_name": "Python 3",
   "language": "python",
   "name": "python3"
  },
  "language_info": {
   "codemirror_mode": {
    "name": "ipython",
    "version": 3
   },
   "file_extension": ".py",
   "mimetype": "text/x-python",
   "name": "python",
   "nbconvert_exporter": "python",
   "pygments_lexer": "ipython3",
   "version": "3.7.4"
  }
 },
 "nbformat": 4,
 "nbformat_minor": 2
}
