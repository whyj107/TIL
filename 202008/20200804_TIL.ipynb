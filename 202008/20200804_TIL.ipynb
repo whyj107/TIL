{
 "cells": [
  {
   "cell_type": "markdown",
   "metadata": {},
   "source": [
    "20200804\n",
    "\n",
    "# 컴퓨터\n",
    "\n",
    " - 알고리즘(코드워) : Valid Braces\n",
    " - 알고리즘(프로그래머스) : 124 나라의 숫자\n",
    " - Spring : 연결(세션, 쿠키)\n",
    " \n",
    "# 영어\n",
    "\n",
    " - 야나두 강의\n",
    " - 토익4 풀기 및 오답\n",
    " \n",
    "# 오늘의 도서\n",
    "\n",
    " - 인연 : 피천득"
   ]
  }
 ],
 "metadata": {
  "kernelspec": {
   "display_name": "Python 3",
   "language": "python",
   "name": "python3"
  },
  "language_info": {
   "codemirror_mode": {
    "name": "ipython",
    "version": 3
   },
   "file_extension": ".py",
   "mimetype": "text/x-python",
   "name": "python",
   "nbconvert_exporter": "python",
   "pygments_lexer": "ipython3",
   "version": "3.7.4"
  }
 },
 "nbformat": 4,
 "nbformat_minor": 2
}
