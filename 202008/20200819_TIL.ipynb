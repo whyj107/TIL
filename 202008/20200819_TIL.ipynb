{
 "cells": [
  {
   "cell_type": "markdown",
   "metadata": {},
   "source": [
    "20200819\n",
    "\n",
    "# 컴퓨터\n",
    "\n",
    " - 알고리즘(코드워) : Basic Calculator\n",
    " - LeetCode Explore : Reverse String, Array Partition I, Two Sum II, Remove Element, Max Consecutive Ones, Minimum Size Subarray Sum, Rotate Array, Pascal's Triangle II, Reverse Words in a String, Reverse Words in a String II, Remove Duplicates from Sorted Array, Move Zeroes\n",
    " - Spring : 연결(JdbcTemplate)\n",
    " \n",
    "# 영어\n",
    "\n",
    " - 야나두 강의\n",
    " \n",
    "#### LeetCode Explore 라는 곳에서 어제부터 문제를 풀기 시작했다. 친구가 추천해서 문제를 풀기로 마음 먹었는데... 솔직히 코드워보다 문제 보기가 어려웠다. 내가 코드워에 익숙해져서 그런거 일 수도 있다\n",
    "#### LeetCode의 장점은... 문제가 관련별로 모여있고 풀이가 잘되어 있다는 점 같은데.... 단점은 python 풀이 보다는 c++과 java에 관련된 풀이가 많았다. 물론 둘다 나에게 필요한 언어이지만 최근에는 python으로만 작업을 했어서 어려웠다.\n",
    "#### 사실 무엇보다도... 영어 문제를 이해하는 것이 어려웠다. 내일은 푼 문제를 블로그에 정리해야지..."
   ]
  }
 ],
 "metadata": {
  "kernelspec": {
   "display_name": "Python 3",
   "language": "python",
   "name": "python3"
  },
  "language_info": {
   "codemirror_mode": {
    "name": "ipython",
    "version": 3
   },
   "file_extension": ".py",
   "mimetype": "text/x-python",
   "name": "python",
   "nbconvert_exporter": "python",
   "pygments_lexer": "ipython3",
   "version": "3.7.3"
  }
 },
 "nbformat": 4,
 "nbformat_minor": 2
}
