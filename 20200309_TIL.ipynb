{
 "cells": [
  {
   "cell_type": "markdown",
   "metadata": {},
   "source": [
    "20200309\n",
    "\n",
    "# 컴퓨터\n",
    "\n",
    " - 알고리즘(필수 알고리즘 with 파이썬) : 병합/힙 정렬 알고리즘, 2 ~ N 사이의 모든 소수를 추출하기\n",
    " - 알고리즘(백준) : N과 M(1), N과 M(3), N과 M(4)\n",
    " - 알고리즘(코드워) : Number of People in the Bus\n",
    " \n",
    "#### 늦게 퇴근해서 소프트웨어공학 학습은 못했다.\n",
    "#### N과 M(1)이 잘못되어 있어서 수정했다.\n",
    "#### 코드워의 문제는 영어인 점만 빼면 아직까지는 할만하다.\n",
    "#### 오늘 푼 백준 문제들은 한번더 복습할 필요가 있다."
   ]
  }
 ],
 "metadata": {
  "kernelspec": {
   "display_name": "Python 3",
   "language": "python",
   "name": "python3"
  },
  "language_info": {
   "codemirror_mode": {
    "name": "ipython",
    "version": 3
   },
   "file_extension": ".py",
   "mimetype": "text/x-python",
   "name": "python",
   "nbconvert_exporter": "python",
   "pygments_lexer": "ipython3",
   "version": "3.7.4"
  }
 },
 "nbformat": 4,
 "nbformat_minor": 2
}
