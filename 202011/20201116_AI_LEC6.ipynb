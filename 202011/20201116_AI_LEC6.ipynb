{
 "cells": [
  {
   "cell_type": "markdown",
   "metadata": {},
   "source": [
    "# 2020.11.16\n",
    "\n",
    "# 인공지능 강의 6일차\n"
   ]
  },
  {
   "cell_type": "markdown",
   "metadata": {},
   "source": [
    "==============================================================="
   ]
  },
  {
   "cell_type": "code",
   "execution_count": 23,
   "metadata": {},
   "outputs": [],
   "source": [
    "import pandas as pd\n",
    "\n",
    "# read excel file\n",
    "titanic_df = pd.read_csv('titanic_train.csv')"
   ]
  },
  {
   "cell_type": "markdown",
   "metadata": {},
   "source": [
    "## 정렬, Aggregation함수, GroupBy 적용"
   ]
  },
  {
   "cell_type": "markdown",
   "metadata": {},
   "source": [
    "### DataFrame, Series의 정렬 - sort_values()"
   ]
  },
  {
   "cell_type": "code",
   "execution_count": 28,
   "metadata": {},
   "outputs": [
    {
     "name": "stdout",
     "output_type": "stream",
     "text": [
      "     PassengerId  Survived  Pclass                              Name     Sex  \\\n",
      "845          846         0       3               Abbing, Mr. Anthony    male   \n",
      "746          747         0       3       Abbott, Mr. Rossmore Edward    male   \n",
      "279          280         1       3  Abbott, Mrs. Stanton (Rosa Hunt)  female   \n",
      "\n",
      "      Age  SibSp  Parch     Ticket   Fare Cabin Embarked  \n",
      "845  42.0      0      0  C.A. 5547   7.55   NaN        S  \n",
      "746  16.0      1      1  C.A. 2673  20.25   NaN        S  \n",
      "279  35.0      1      1  C.A. 2673  20.25   NaN        S  \n",
      "------------------------------------------------------------\n",
      "     PassengerId  Survived  Pclass                             Name   Sex  \\\n",
      "868          869         0       3      van Melkebeke, Mr. Philemon  male   \n",
      "153          154         0       3  van Billiard, Mr. Austin Blyler  male   \n",
      "282          283         0       3        de Pelsmaeker, Mr. Alfons  male   \n",
      "\n",
      "      Age  SibSp  Parch    Ticket  Fare Cabin Embarked  \n",
      "868   NaN      0      0    345777   9.5   NaN        S  \n",
      "153  40.5      0      2  A/5. 851  14.5   NaN        S  \n",
      "282  16.0      0      0    345778   9.5   NaN        S  \n"
     ]
    }
   ],
   "source": [
    "titanic_sorted = titanic_df.sort_values(by=['Name'])\n",
    "print(titanic_sorted.head(3))\n",
    "\n",
    "print('------------------------------------------------------------')\n",
    "\n",
    "titanic_sorted = titanic_df.sort_values(by=['Pclass', 'Name'], ascending=False)\n",
    "print(titanic_sorted.head(3))"
   ]
  },
  {
   "cell_type": "markdown",
   "metadata": {},
   "source": [
    "### Aggregation 함수 적용"
   ]
  },
  {
   "cell_type": "code",
   "execution_count": 9,
   "metadata": {},
   "outputs": [
    {
     "name": "stdout",
     "output_type": "stream",
     "text": [
      "PassengerId    891\n",
      "Survived       891\n",
      "Pclass         891\n",
      "Name           891\n",
      "Sex            891\n",
      "Age            714\n",
      "SibSp          891\n",
      "Parch          891\n",
      "Ticket         891\n",
      "Fare           891\n",
      "Cabin          204\n",
      "Embarked       889\n",
      "dtype: int64\n",
      "------------------------------------------------------------\n",
      "Age     29.699118\n",
      "Fare    32.204208\n",
      "dtype: float64\n"
     ]
    }
   ],
   "source": [
    "# Missing data가 아닌 것을 센다.\n",
    "print(titanic_df.count())\n",
    "\n",
    "print('------------------------------------------------------------')\n",
    "\n",
    "# 'Age'와 'Fare'의 평균값을 구한다.\n",
    "print(titanic_df[['Age', 'Fare']].mean())"
   ]
  },
  {
   "cell_type": "markdown",
   "metadata": {},
   "source": [
    "### groupby() 이용하기"
   ]
  },
  {
   "cell_type": "code",
   "execution_count": 17,
   "metadata": {},
   "outputs": [
    {
     "name": "stdout",
     "output_type": "stream",
     "text": [
      "<class 'pandas.core.groupby.generic.DataFrameGroupBy'>\n",
      "------------------------------------------------------------\n",
      "        PassengerId  Survived  Name  Sex  Age  SibSp  Parch  Ticket  Fare  \\\n",
      "Pclass                                                                      \n",
      "1               216       216   216  216  186    216    216     216   216   \n",
      "2               184       184   184  184  173    184    184     184   184   \n",
      "3               491       491   491  491  355    491    491     491   491   \n",
      "\n",
      "        Cabin  Embarked  \n",
      "Pclass                   \n",
      "1         176       214  \n",
      "2          16       184  \n",
      "3          12       491  \n",
      "------------------------------------------------------------\n",
      "        PassengerId  Survived\n",
      "Pclass                       \n",
      "1               216       216\n",
      "2               184       184\n",
      "3               491       491\n",
      "------------------------------------------------------------\n",
      "         max   min\n",
      "Pclass            \n",
      "1       80.0  0.92\n",
      "2       70.0  0.67\n",
      "3       74.0  0.42\n",
      "------------------------------------------------------------\n"
     ]
    },
    {
     "data": {
      "text/html": [
       "<div>\n",
       "<style scoped>\n",
       "    .dataframe tbody tr th:only-of-type {\n",
       "        vertical-align: middle;\n",
       "    }\n",
       "\n",
       "    .dataframe tbody tr th {\n",
       "        vertical-align: top;\n",
       "    }\n",
       "\n",
       "    .dataframe thead th {\n",
       "        text-align: right;\n",
       "    }\n",
       "</style>\n",
       "<table border=\"1\" class=\"dataframe\">\n",
       "  <thead>\n",
       "    <tr style=\"text-align: right;\">\n",
       "      <th></th>\n",
       "      <th>Age</th>\n",
       "      <th>SibSp</th>\n",
       "      <th>Fare</th>\n",
       "    </tr>\n",
       "    <tr>\n",
       "      <th>Pclass</th>\n",
       "      <th></th>\n",
       "      <th></th>\n",
       "      <th></th>\n",
       "    </tr>\n",
       "  </thead>\n",
       "  <tbody>\n",
       "    <tr>\n",
       "      <th>1</th>\n",
       "      <td>80.0</td>\n",
       "      <td>90</td>\n",
       "      <td>84.154687</td>\n",
       "    </tr>\n",
       "    <tr>\n",
       "      <th>2</th>\n",
       "      <td>70.0</td>\n",
       "      <td>74</td>\n",
       "      <td>20.662183</td>\n",
       "    </tr>\n",
       "    <tr>\n",
       "      <th>3</th>\n",
       "      <td>74.0</td>\n",
       "      <td>302</td>\n",
       "      <td>13.675550</td>\n",
       "    </tr>\n",
       "  </tbody>\n",
       "</table>\n",
       "</div>"
      ],
      "text/plain": [
       "         Age  SibSp       Fare\n",
       "Pclass                        \n",
       "1       80.0     90  84.154687\n",
       "2       70.0     74  20.662183\n",
       "3       74.0    302  13.675550"
      ]
     },
     "execution_count": 17,
     "metadata": {},
     "output_type": "execute_result"
    }
   ],
   "source": [
    "titanic_groupby = titanic_df.groupby(by='Pclass')\n",
    "print(type(titanic_groupby))\n",
    "\n",
    "print('------------------------------------------------------------')\n",
    "\n",
    "titanic_groupby = titanic_df.groupby('Pclass').count()\n",
    "print(titanic_groupby)\n",
    "\n",
    "print('------------------------------------------------------------')\n",
    "\n",
    "titanic_groupby = titanic_df.groupby('Pclass')[['PassengerId', 'Survived']].count()\n",
    "print(titanic_groupby)\n",
    "\n",
    "print('------------------------------------------------------------')\n",
    "\n",
    "# Pclass안의 Age max값과 min값\n",
    "print(titanic_df.groupby('Pclass')['Age'].agg([max, min]))\n",
    "\n",
    "print('------------------------------------------------------------')\n",
    "\n",
    "# 동시에 여러가지 요소로 볼 수 있다.\n",
    "agg_format={'Age':'max', 'SibSp':'sum', 'Fare':'mean'}\n",
    "titanic_df.groupby('Pclass').agg(agg_format)\n",
    "# 당연히 이렇게도 사용가능하다.\n",
    "titanic_df.groupby('Pclass').agg({'Age':'max', 'SibSp':'sum', 'Fare':'mean'})"
   ]
  },
  {
   "cell_type": "markdown",
   "metadata": {},
   "source": [
    "==============================================================="
   ]
  },
  {
   "cell_type": "markdown",
   "metadata": {},
   "source": [
    "## 결손 데이터 처리하기"
   ]
  },
  {
   "cell_type": "markdown",
   "metadata": {},
   "source": [
    "### isna()로 결손 데이터 여부 확인"
   ]
  },
  {
   "cell_type": "code",
   "execution_count": 21,
   "metadata": {},
   "outputs": [
    {
     "name": "stdout",
     "output_type": "stream",
     "text": [
      "   PassengerId  Survived  Pclass   Name    Sex    Age  SibSp  Parch  Ticket  \\\n",
      "0        False     False   False  False  False  False  False  False   False   \n",
      "1        False     False   False  False  False  False  False  False   False   \n",
      "2        False     False   False  False  False  False  False  False   False   \n",
      "\n",
      "    Fare  Cabin  Embarked  \n",
      "0  False   True     False  \n",
      "1  False  False     False  \n",
      "2  False   True     False  \n",
      "------------------------------------------------------------\n",
      "PassengerId      0\n",
      "Survived         0\n",
      "Pclass           0\n",
      "Name             0\n",
      "Sex              0\n",
      "Age            177\n",
      "SibSp            0\n",
      "Parch            0\n",
      "Ticket           0\n",
      "Fare             0\n",
      "Cabin          687\n",
      "Embarked         2\n",
      "dtype: int64\n"
     ]
    }
   ],
   "source": [
    "print(titanic_df.isna().head(3))\n",
    "\n",
    "print('------------------------------------------------------------')\n",
    "\n",
    "print(titanic_df.isna().sum())"
   ]
  },
  {
   "cell_type": "markdown",
   "metadata": {},
   "source": [
    "### fillna()로 Missing 데이터 대체하기"
   ]
  },
  {
   "cell_type": "code",
   "execution_count": 29,
   "metadata": {},
   "outputs": [
    {
     "name": "stdout",
     "output_type": "stream",
     "text": [
      "   PassengerId  Survived  Pclass  \\\n",
      "0            1         0       3   \n",
      "1            2         1       1   \n",
      "2            3         1       3   \n",
      "\n",
      "                                                Name     Sex   Age  SibSp  \\\n",
      "0                            Braund, Mr. Owen Harris    male  22.0      1   \n",
      "1  Cumings, Mrs. John Bradley (Florence Briggs Th...  female  38.0      1   \n",
      "2                             Heikkinen, Miss. Laina  female  26.0      0   \n",
      "\n",
      "   Parch            Ticket     Fare Cabin Embarked  \n",
      "0      0         A/5 21171   7.2500  C000        S  \n",
      "1      0          PC 17599  71.2833   C85        C  \n",
      "2      0  STON/O2. 3101282   7.9250  C000        S  \n",
      "------------------------------------------------------------\n"
     ]
    },
    {
     "data": {
      "text/plain": [
       "PassengerId    0\n",
       "Survived       0\n",
       "Pclass         0\n",
       "Name           0\n",
       "Sex            0\n",
       "Age            0\n",
       "SibSp          0\n",
       "Parch          0\n",
       "Ticket         0\n",
       "Fare           0\n",
       "Cabin          0\n",
       "Embarked       0\n",
       "dtype: int64"
      ]
     },
     "execution_count": 29,
     "metadata": {},
     "output_type": "execute_result"
    }
   ],
   "source": [
    "titanic_df['Cabin'] = titanic_df['Cabin'].fillna('C000')\n",
    "print(titanic_df.head(3))\n",
    "\n",
    "\n",
    "print('------------------------------------------------------------')\n",
    "\n",
    "titanic_df['Age'] = titanic_df['Age'].fillna(titanic_df['Age'].mean())\n",
    "titanic_df['Embarked'] = titanic_df['Embarked'].fillna('S')\n",
    "titanic_df.isna().sum()"
   ]
  },
  {
   "cell_type": "markdown",
   "metadata": {},
   "source": [
    "## apply lambda 식으로 데이터 가공"
   ]
  },
  {
   "cell_type": "code",
   "execution_count": 34,
   "metadata": {},
   "outputs": [
    {
     "name": "stdout",
     "output_type": "stream",
     "text": [
      "3의 제곱은(def 사용) : 9\n",
      "------------------------------------------------------------\n",
      "3의 제곱은(lambda 사용) : 9\n",
      "------------------------------------------------------------\n",
      "[1, 4, 9]\n"
     ]
    }
   ],
   "source": [
    "def get_square(a):\n",
    "    return a**2\n",
    "\n",
    "print('3의 제곱은(def 사용) :', get_square(3))\n",
    "\n",
    "print('------------------------------------------------------------')\n",
    "\n",
    "lambda_square = lambda x : x**2\n",
    "print('3의 제곱은(lambda 사용) :', lambda_square(3))\n",
    "\n",
    "print('------------------------------------------------------------')\n",
    "\n",
    "a=[1,2,3]\n",
    "squares = map(lambda x : x**2, a)\n",
    "print(list(squares))"
   ]
  },
  {
   "cell_type": "code",
   "execution_count": 39,
   "metadata": {},
   "outputs": [
    {
     "name": "stdout",
     "output_type": "stream",
     "text": [
      "                                                Name  Name_len\n",
      "0                            Braund, Mr. Owen Harris        23\n",
      "1  Cumings, Mrs. John Bradley (Florence Briggs Th...        51\n",
      "2                             Heikkinen, Miss. Laina        22\n",
      "------------------------------------------------------------\n",
      "         Age Child_Adult\n",
      "0  22.000000       Adult\n",
      "1  38.000000       Adult\n",
      "2  26.000000       Adult\n",
      "3  35.000000       Adult\n",
      "4  35.000000       Adult\n",
      "5  29.699118       Adult\n",
      "6  54.000000       Adult\n",
      "7   2.000000       Child\n",
      "------------------------------------------------------------\n",
      "Adult      786\n",
      "Child       83\n",
      "Elderly     22\n",
      "Name: Age_cat, dtype: int64\n"
     ]
    },
    {
     "data": {
      "text/plain": [
       "<bound method DataFrame.info of      PassengerId  Survived  Pclass  \\\n",
       "0              1         0       3   \n",
       "1              2         1       1   \n",
       "2              3         1       3   \n",
       "3              4         1       1   \n",
       "4              5         0       3   \n",
       "..           ...       ...     ...   \n",
       "886          887         0       2   \n",
       "887          888         1       1   \n",
       "888          889         0       3   \n",
       "889          890         1       1   \n",
       "890          891         0       3   \n",
       "\n",
       "                                                  Name     Sex        Age  \\\n",
       "0                              Braund, Mr. Owen Harris    male  22.000000   \n",
       "1    Cumings, Mrs. John Bradley (Florence Briggs Th...  female  38.000000   \n",
       "2                               Heikkinen, Miss. Laina  female  26.000000   \n",
       "3         Futrelle, Mrs. Jacques Heath (Lily May Peel)  female  35.000000   \n",
       "4                             Allen, Mr. William Henry    male  35.000000   \n",
       "..                                                 ...     ...        ...   \n",
       "886                              Montvila, Rev. Juozas    male  27.000000   \n",
       "887                       Graham, Miss. Margaret Edith  female  19.000000   \n",
       "888           Johnston, Miss. Catherine Helen \"Carrie\"  female  29.699118   \n",
       "889                              Behr, Mr. Karl Howell    male  26.000000   \n",
       "890                                Dooley, Mr. Patrick    male  32.000000   \n",
       "\n",
       "     SibSp  Parch            Ticket     Fare Cabin Embarked  \n",
       "0        1      0         A/5 21171   7.2500  C000        S  \n",
       "1        1      0          PC 17599  71.2833   C85        C  \n",
       "2        0      0  STON/O2. 3101282   7.9250  C000        S  \n",
       "3        1      0            113803  53.1000  C123        S  \n",
       "4        0      0            373450   8.0500  C000        S  \n",
       "..     ...    ...               ...      ...   ...      ...  \n",
       "886      0      0            211536  13.0000  C000        S  \n",
       "887      0      0            112053  30.0000   B42        S  \n",
       "888      1      2        W./C. 6607  23.4500  C000        S  \n",
       "889      0      0            111369  30.0000  C148        C  \n",
       "890      0      0            370376   7.7500  C000        Q  \n",
       "\n",
       "[891 rows x 12 columns]>"
      ]
     },
     "execution_count": 39,
     "metadata": {},
     "output_type": "execute_result"
    }
   ],
   "source": [
    "titanic_df['Name_len']= titanic_df['Name'].apply(lambda x : len(x))\n",
    "print(titanic_df[['Name','Name_len']].head(3))\n",
    "\n",
    "print('------------------------------------------------------------')\n",
    "\n",
    "titanic_df['Child_Adult'] = titanic_df['Age'].apply(lambda x : 'Child' if x <=15 else 'Adult' )\n",
    "print(titanic_df[['Age','Child_Adult']].head(8))\n",
    "\n",
    "print('------------------------------------------------------------')\n",
    "\n",
    "titanic_df['Age_cat'] = titanic_df['Age'].apply(lambda x : 'Child' if x<=15 else ('Adult' if x <= 60 else 'Elderly'))\n",
    "print(titanic_df['Age_cat'].value_counts())\n",
    "\n",
    "titanic_df = titanic_df.drop(['Name_len', 'Child_Adult', 'Age_cat'], axis=1)\n",
    "titanic_df.info"
   ]
  },
  {
   "cell_type": "code",
   "execution_count": 36,
   "metadata": {},
   "outputs": [
    {
     "data": {
      "text/html": [
       "<div>\n",
       "<style scoped>\n",
       "    .dataframe tbody tr th:only-of-type {\n",
       "        vertical-align: middle;\n",
       "    }\n",
       "\n",
       "    .dataframe tbody tr th {\n",
       "        vertical-align: top;\n",
       "    }\n",
       "\n",
       "    .dataframe thead th {\n",
       "        text-align: right;\n",
       "    }\n",
       "</style>\n",
       "<table border=\"1\" class=\"dataframe\">\n",
       "  <thead>\n",
       "    <tr style=\"text-align: right;\">\n",
       "      <th></th>\n",
       "      <th>Age</th>\n",
       "      <th>Age_cat</th>\n",
       "    </tr>\n",
       "  </thead>\n",
       "  <tbody>\n",
       "    <tr>\n",
       "      <th>0</th>\n",
       "      <td>22.0</td>\n",
       "      <td>Student</td>\n",
       "    </tr>\n",
       "    <tr>\n",
       "      <th>1</th>\n",
       "      <td>38.0</td>\n",
       "      <td>Adult</td>\n",
       "    </tr>\n",
       "    <tr>\n",
       "      <th>2</th>\n",
       "      <td>26.0</td>\n",
       "      <td>Young Adult</td>\n",
       "    </tr>\n",
       "    <tr>\n",
       "      <th>3</th>\n",
       "      <td>35.0</td>\n",
       "      <td>Young Adult</td>\n",
       "    </tr>\n",
       "    <tr>\n",
       "      <th>4</th>\n",
       "      <td>35.0</td>\n",
       "      <td>Young Adult</td>\n",
       "    </tr>\n",
       "  </tbody>\n",
       "</table>\n",
       "</div>"
      ],
      "text/plain": [
       "    Age      Age_cat\n",
       "0  22.0      Student\n",
       "1  38.0        Adult\n",
       "2  26.0  Young Adult\n",
       "3  35.0  Young Adult\n",
       "4  35.0  Young Adult"
      ]
     },
     "execution_count": 36,
     "metadata": {},
     "output_type": "execute_result"
    }
   ],
   "source": [
    "# 나이에 따라 세분화된 분류를 수행하는 함수 생성. \n",
    "def get_category(age):\n",
    "    cat = ''\n",
    "    if age <= 5: cat = 'Baby'\n",
    "    elif age <= 12: cat = 'Child'\n",
    "    elif age <= 18: cat = 'Teenager'\n",
    "    elif age <= 25: cat = 'Student'\n",
    "    elif age <= 35: cat = 'Young Adult'\n",
    "    elif age <= 60: cat = 'Adult'\n",
    "    else : cat = 'Elderly'\n",
    "    \n",
    "    return cat\n",
    "\n",
    "# lambda 식에 위에서 생성한 get_category( ) 함수를 반환값으로 지정. \n",
    "# get_category(X)는 입력값으로 ‘Age’ 컬럼 값을 받아서 해당하는 cat 반환\n",
    "titanic_df['Age_cat'] = titanic_df['Age'].apply(lambda x : get_category(x))\n",
    "titanic_df[['Age','Age_cat']].head()"
   ]
  },
  {
   "cell_type": "markdown",
   "metadata": {},
   "source": [
    "==============================================================="
   ]
  },
  {
   "cell_type": "markdown",
   "metadata": {},
   "source": [
    "## Pandas exercises"
   ]
  },
  {
   "cell_type": "code",
   "execution_count": 1,
   "metadata": {},
   "outputs": [
    {
     "data": {
      "text/plain": [
       "<bound method DataFrame.info of      PassengerId  Survived  Pclass  \\\n",
       "0              1         0       3   \n",
       "1              2         1       1   \n",
       "2              3         1       3   \n",
       "3              4         1       1   \n",
       "4              5         0       3   \n",
       "..           ...       ...     ...   \n",
       "886          887         0       2   \n",
       "887          888         1       1   \n",
       "888          889         0       3   \n",
       "889          890         1       1   \n",
       "890          891         0       3   \n",
       "\n",
       "                                                  Name     Sex   Age  SibSp  \\\n",
       "0                              Braund, Mr. Owen Harris    male  22.0      1   \n",
       "1    Cumings, Mrs. John Bradley (Florence Briggs Th...  female  38.0      1   \n",
       "2                               Heikkinen, Miss. Laina  female  26.0      0   \n",
       "3         Futrelle, Mrs. Jacques Heath (Lily May Peel)  female  35.0      1   \n",
       "4                             Allen, Mr. William Henry    male  35.0      0   \n",
       "..                                                 ...     ...   ...    ...   \n",
       "886                              Montvila, Rev. Juozas    male  27.0      0   \n",
       "887                       Graham, Miss. Margaret Edith  female  19.0      0   \n",
       "888           Johnston, Miss. Catherine Helen \"Carrie\"  female   NaN      1   \n",
       "889                              Behr, Mr. Karl Howell    male  26.0      0   \n",
       "890                                Dooley, Mr. Patrick    male  32.0      0   \n",
       "\n",
       "     Parch            Ticket     Fare Cabin Embarked  \n",
       "0        0         A/5 21171   7.2500   NaN        S  \n",
       "1        0          PC 17599  71.2833   C85        C  \n",
       "2        0  STON/O2. 3101282   7.9250   NaN        S  \n",
       "3        0            113803  53.1000  C123        S  \n",
       "4        0            373450   8.0500   NaN        S  \n",
       "..     ...               ...      ...   ...      ...  \n",
       "886      0            211536  13.0000   NaN        S  \n",
       "887      0            112053  30.0000   B42        S  \n",
       "888      2        W./C. 6607  23.4500   NaN        S  \n",
       "889      0            111369  30.0000  C148        C  \n",
       "890      0            370376   7.7500   NaN        Q  \n",
       "\n",
       "[891 rows x 12 columns]>"
      ]
     },
     "execution_count": 1,
     "metadata": {},
     "output_type": "execute_result"
    }
   ],
   "source": [
    "import pandas as pd\n",
    "titanic_df = pd.read_csv('titanic_train.csv')\n",
    "titanic_df.info"
   ]
  },
  {
   "cell_type": "code",
   "execution_count": 113,
   "metadata": {},
   "outputs": [
    {
     "name": "stdout",
     "output_type": "stream",
     "text": [
      "687\n",
      "0     True\n",
      "1    False\n",
      "2     True\n",
      "Name: Cabin, dtype: bool\n",
      "------------------------------------------------------------\n",
      "0    0\n",
      "1    1\n",
      "2    0\n",
      "Name: Cabin, dtype: int64\n"
     ]
    }
   ],
   "source": [
    "# 1. Create a Feature that tells whether a passenger had a cabin on Titanic or not.\n",
    "num1_df = titanic_df['Cabin'].isna()\n",
    "print(num1_df.sum())\n",
    "print(num1_df.head(3))\n",
    "\n",
    "print('------------------------------------------------------------')\n",
    "\n",
    "num1_df = titanic_df['Cabin'].apply(lambda x: 0 if type(x) == float else 1)\n",
    "print(num1_df.head(3))"
   ]
  },
  {
   "cell_type": "code",
   "execution_count": 115,
   "metadata": {},
   "outputs": [
    {
     "name": "stdout",
     "output_type": "stream",
     "text": [
      "0\n"
     ]
    },
    {
     "data": {
      "text/plain": [
       "0       7.2500\n",
       "1      71.2833\n",
       "2       7.9250\n",
       "3      53.1000\n",
       "4       8.0500\n",
       "        ...   \n",
       "886    13.0000\n",
       "887    30.0000\n",
       "888    23.4500\n",
       "889    30.0000\n",
       "890     7.7500\n",
       "Name: Fare, Length: 891, dtype: float64"
      ]
     },
     "execution_count": 115,
     "metadata": {},
     "output_type": "execute_result"
    }
   ],
   "source": [
    "# 2. In 'Fare' Find Null Value and fill with median value\n",
    "titanic_df['Fare'] = titanic_df['Fare'].fillna(titanic_df['Fare'].median())\n",
    "print(titanic_df['Fare'].isna().sum())\n",
    "titanic_df['Fare']"
   ]
  },
  {
   "cell_type": "code",
   "execution_count": 68,
   "metadata": {},
   "outputs": [
    {
     "data": {
      "text/html": [
       "<div>\n",
       "<style scoped>\n",
       "    .dataframe tbody tr th:only-of-type {\n",
       "        vertical-align: middle;\n",
       "    }\n",
       "\n",
       "    .dataframe tbody tr th {\n",
       "        vertical-align: top;\n",
       "    }\n",
       "\n",
       "    .dataframe thead th {\n",
       "        text-align: right;\n",
       "    }\n",
       "</style>\n",
       "<table border=\"1\" class=\"dataframe\">\n",
       "  <thead>\n",
       "    <tr style=\"text-align: right;\">\n",
       "      <th></th>\n",
       "      <th>PassengerId</th>\n",
       "      <th>Survived</th>\n",
       "      <th>Pclass</th>\n",
       "      <th>Name</th>\n",
       "      <th>Sex</th>\n",
       "      <th>Age</th>\n",
       "      <th>SibSp</th>\n",
       "      <th>Parch</th>\n",
       "      <th>Ticket</th>\n",
       "      <th>Fare</th>\n",
       "      <th>Cabin</th>\n",
       "      <th>Embarked</th>\n",
       "      <th>Family</th>\n",
       "    </tr>\n",
       "  </thead>\n",
       "  <tbody>\n",
       "    <tr>\n",
       "      <th>0</th>\n",
       "      <td>1</td>\n",
       "      <td>0</td>\n",
       "      <td>3</td>\n",
       "      <td>Braund, Mr. Owen Harris</td>\n",
       "      <td>male</td>\n",
       "      <td>22.0</td>\n",
       "      <td>1</td>\n",
       "      <td>0</td>\n",
       "      <td>A/5 21171</td>\n",
       "      <td>7.2500</td>\n",
       "      <td>NaN</td>\n",
       "      <td>S</td>\n",
       "      <td>2</td>\n",
       "    </tr>\n",
       "    <tr>\n",
       "      <th>1</th>\n",
       "      <td>2</td>\n",
       "      <td>1</td>\n",
       "      <td>1</td>\n",
       "      <td>Cumings, Mrs. John Bradley (Florence Briggs Th...</td>\n",
       "      <td>female</td>\n",
       "      <td>38.0</td>\n",
       "      <td>1</td>\n",
       "      <td>0</td>\n",
       "      <td>PC 17599</td>\n",
       "      <td>71.2833</td>\n",
       "      <td>C85</td>\n",
       "      <td>C</td>\n",
       "      <td>2</td>\n",
       "    </tr>\n",
       "    <tr>\n",
       "      <th>2</th>\n",
       "      <td>3</td>\n",
       "      <td>1</td>\n",
       "      <td>3</td>\n",
       "      <td>Heikkinen, Miss. Laina</td>\n",
       "      <td>female</td>\n",
       "      <td>26.0</td>\n",
       "      <td>0</td>\n",
       "      <td>0</td>\n",
       "      <td>STON/O2. 3101282</td>\n",
       "      <td>7.9250</td>\n",
       "      <td>NaN</td>\n",
       "      <td>S</td>\n",
       "      <td>1</td>\n",
       "    </tr>\n",
       "  </tbody>\n",
       "</table>\n",
       "</div>"
      ],
      "text/plain": [
       "   PassengerId  Survived  Pclass  \\\n",
       "0            1         0       3   \n",
       "1            2         1       1   \n",
       "2            3         1       3   \n",
       "\n",
       "                                                Name     Sex   Age  SibSp  \\\n",
       "0                            Braund, Mr. Owen Harris    male  22.0      1   \n",
       "1  Cumings, Mrs. John Bradley (Florence Briggs Th...  female  38.0      1   \n",
       "2                             Heikkinen, Miss. Laina  female  26.0      0   \n",
       "\n",
       "   Parch            Ticket     Fare Cabin Embarked  Family  \n",
       "0      0         A/5 21171   7.2500   NaN        S       2  \n",
       "1      0          PC 17599  71.2833   C85        C       2  \n",
       "2      0  STON/O2. 3101282   7.9250   NaN        S       1  "
      ]
     },
     "execution_count": 68,
     "metadata": {},
     "output_type": "execute_result"
    }
   ],
   "source": [
    "# 3. Create a feature and find the size of Family\n",
    "titanic_df['Family'] = titanic_df['SibSp'] + titanic_df['Parch'] + 1\n",
    "titanic_df.head(3)"
   ]
  },
  {
   "cell_type": "code",
   "execution_count": 136,
   "metadata": {},
   "outputs": [
    {
     "name": "stdout",
     "output_type": "stream",
     "text": [
      "        PassengerId  Survived  Pclass  Name  Age  SibSp  Parch  Ticket  Fare  \\\n",
      "Sex                                                                            \n",
      "female          314       314     314   314  261    314    314     314   314   \n",
      "male            577       577     577   577  453    577    577     577   577   \n",
      "\n",
      "        Cabin  Embarked  \n",
      "Sex                      \n",
      "female     97       312  \n",
      "male      107       577  \n",
      "-------------------------------------------------\n"
     ]
    },
    {
     "data": {
      "text/plain": [
       "Sex\n",
       "male      577\n",
       "female    314\n",
       "Name: Survived, dtype: int64"
      ]
     },
     "execution_count": 136,
     "metadata": {},
     "output_type": "execute_result"
    }
   ],
   "source": [
    "# 4. Find the Ratio of Male and Female in Dataset using Groupby Function\n",
    "titanic_sex_groupby = titanic_df.groupby('Sex').count()\n",
    "print(titanic_sex_groupby)\n",
    "\n",
    "print('-------------------------------------------------')\n",
    "\n",
    "titanic_sex_groupby = titanic_df.groupby('Sex')['Survived'].count().sort_values(ascending=False)\n",
    "titanic_sex_groupby"
   ]
  },
  {
   "cell_type": "code",
   "execution_count": 140,
   "metadata": {
    "collapsed": true
   },
   "outputs": [
    {
     "name": "stdout",
     "output_type": "stream",
     "text": [
      "0    0\n",
      "1    1\n",
      "2    1\n",
      "3    1\n",
      "4    0\n",
      "Name: Sex, dtype: int64\n",
      "0      male\n",
      "1    female\n",
      "2    female\n",
      "3    female\n",
      "4      male\n",
      "Name: Sex, dtype: object\n",
      "-------------------------------------------------\n",
      "0                                                      0\n",
      "1                                                      1\n",
      "2                                                      1\n",
      "3                                                      1\n",
      "4                                                      0\n",
      "                             ...                        \n",
      "887                                                    1\n",
      "888                                                    1\n",
      "889                                                    0\n",
      "890                                                    0\n",
      "Sex    0      1\n",
      "1      0\n",
      "2      0\n",
      "3      0\n",
      "4      1\n",
      " ...\n",
      "Name: Sex, Length: 892, dtype: object\n"
     ]
    }
   ],
   "source": [
    "# 5. Change the (Sex) Feature into Categorical to Numerical or Ordinal\n",
    "num5 = titanic_df['Sex'].apply(lambda x: 0 if x=='male' else 1)\n",
    "print(num5.head(5))\n",
    "print(titanic_df['Sex'].head(5))\n",
    "\n",
    "print('-------------------------------------------------')\n",
    "\n",
    "num5['Sex'] = titanic_df['Sex'].map({'female':0, 'male':1}).astype(int)\n",
    "print(num5)"
   ]
  },
  {
   "cell_type": "code",
   "execution_count": 185,
   "metadata": {},
   "outputs": [
    {
     "name": "stdout",
     "output_type": "stream",
     "text": [
      "-------------------------------------------\n"
     ]
    },
    {
     "name": "stderr",
     "output_type": "stream",
     "text": [
      "<ipython-input-185-fee60c5b3b3d>:10: UserWarning: Boolean Series key will be reindexed to match DataFrame index.\n",
      "  adults = titanic_df[titanic_df.Age <= 22.0][titanic_df.Survived == 1][titanic_df.Sex == 'male']\n"
     ]
    },
    {
     "data": {
      "text/plain": [
       "31"
      ]
     },
     "execution_count": 185,
     "metadata": {},
     "output_type": "execute_result"
    }
   ],
   "source": [
    "# 6. Write a code that finds the number of males who survived and whose age is 22 years old or younger on train.csv\n",
    "num6_df = titanic_df[(titanic_df['Survived']==1) & (titanic_df['Sex'] == 'male') & (titanic_df['Age'] < 23)]\n",
    "num6_df.head(3)\n",
    "   \n",
    "num6_df['Survived'].sum()\n",
    "\n",
    "print('-------------------------------------------')\n",
    "\n",
    "# 오 신기하다.\n",
    "adults = titanic_df[titanic_df.Age <= 22.0][titanic_df.Survived == 1][titanic_df.Sex == 'male']\n",
    "adults.Survived.sum()"
   ]
  },
  {
   "cell_type": "code",
   "execution_count": 10,
   "metadata": {},
   "outputs": [
    {
     "name": "stdout",
     "output_type": "stream",
     "text": [
      " 84.154687\n"
     ]
    }
   ],
   "source": [
    "# 7. Write a code that finds how much was the average fare for 1st passenger class (Pclass) \n",
    "num7_df = titanic_df[titanic_df['Pclass'] == 1]\n",
    "num7_df = num7_df.groupby('Pclass').agg({'Fare':'mean'})\n",
    "tmp = num7_df.to_string(index=False, header=False)\n",
    "print(tmp)"
   ]
  },
  {
   "cell_type": "code",
   "execution_count": 5,
   "metadata": {},
   "outputs": [
    {
     "data": {
      "text/html": [
       "<div>\n",
       "<style scoped>\n",
       "    .dataframe tbody tr th:only-of-type {\n",
       "        vertical-align: middle;\n",
       "    }\n",
       "\n",
       "    .dataframe tbody tr th {\n",
       "        vertical-align: top;\n",
       "    }\n",
       "\n",
       "    .dataframe thead th {\n",
       "        text-align: right;\n",
       "    }\n",
       "</style>\n",
       "<table border=\"1\" class=\"dataframe\">\n",
       "  <thead>\n",
       "    <tr style=\"text-align: right;\">\n",
       "      <th></th>\n",
       "      <th>count</th>\n",
       "      <th>min</th>\n",
       "      <th>max</th>\n",
       "      <th>mean</th>\n",
       "    </tr>\n",
       "    <tr>\n",
       "      <th>Embarked</th>\n",
       "      <th></th>\n",
       "      <th></th>\n",
       "      <th></th>\n",
       "      <th></th>\n",
       "    </tr>\n",
       "  </thead>\n",
       "  <tbody>\n",
       "    <tr>\n",
       "      <th>C</th>\n",
       "      <td>168</td>\n",
       "      <td>4.0125</td>\n",
       "      <td>512.3292</td>\n",
       "      <td>59.954144</td>\n",
       "    </tr>\n",
       "    <tr>\n",
       "      <th>Q</th>\n",
       "      <td>77</td>\n",
       "      <td>6.7500</td>\n",
       "      <td>90.0000</td>\n",
       "      <td>13.276030</td>\n",
       "    </tr>\n",
       "    <tr>\n",
       "      <th>S</th>\n",
       "      <td>644</td>\n",
       "      <td>0.0000</td>\n",
       "      <td>263.0000</td>\n",
       "      <td>27.079812</td>\n",
       "    </tr>\n",
       "  </tbody>\n",
       "</table>\n",
       "</div>"
      ],
      "text/plain": [
       "          count     min       max       mean\n",
       "Embarked                                    \n",
       "C           168  4.0125  512.3292  59.954144\n",
       "Q            77  6.7500   90.0000  13.276030\n",
       "S           644  0.0000  263.0000  27.079812"
      ]
     },
     "execution_count": 5,
     "metadata": {},
     "output_type": "execute_result"
    }
   ],
   "source": [
    "#  8. Write a code that categories Embarked places and finds min, max, mean and count of Fare (Using groupBy()) Embarked: Port of Embarkation (C = Cherbourg; Q = Queenstown; S = Southampton)\n",
    "num8_df = titanic_df.groupby('Embarked')['Fare'].agg(['count', 'min', 'max', 'mean'])\n",
    "num8_df"
   ]
  },
  {
   "cell_type": "code",
   "execution_count": 180,
   "metadata": {},
   "outputs": [
    {
     "name": "stdout",
     "output_type": "stream",
     "text": [
      " 2653\n"
     ]
    }
   ],
   "source": [
    "# 9. Write a code that finds the ticket number of 'Nakid, Mr. Sahid' on train.csv \n",
    "num9_df = titanic_df[titanic_df['Name']=='Nakid, Mr. Sahid']\n",
    "# 인덱스 안나오도록 설정\n",
    "print(num9_df['Ticket'].to_string(index=False))\n",
    "# num9_df"
   ]
  },
  {
   "cell_type": "code",
   "execution_count": 19,
   "metadata": {},
   "outputs": [],
   "source": [
    "# 10. Write a code using titanic_data (made Question 5) that shows \n",
    "# (1) Percentage of children with parents who survived, \n",
    "# (2) Percentage of children without parents who survived, \n",
    "# (3) Average age of surviving children with parents, \n",
    "# (4) Average age of surviving children without parents \n",
    "# (Note: 1st, use ‘Age’ and ‘Parch’, 2nd, children means passengers under 18)\n"
   ]
  },
  {
   "cell_type": "markdown",
   "metadata": {},
   "source": [
    "==============================================================="
   ]
  },
  {
   "cell_type": "markdown",
   "metadata": {},
   "source": [
    "# 기계학습의 원리, 능력과 한계"
   ]
  },
  {
   "cell_type": "markdown",
   "metadata": {},
   "source": [
    "* 지도 학습(Supervised learning) : 올바른 입력/출력 쌍으로된 훈련 데이터로부터 입출력간의 함수 학습\n",
    "\n",
    "* 비지도 학습(Unsupervised learning) : 데이터의 무리 짓기(Clustering) or 일관된 해석의 도출\n",
    "\n",
    "* 강화 학습(Reinforcement learning) :  계속된 행동으로 얻은 보상으로부터 올바른 행동을 학습"
   ]
  },
  {
   "cell_type": "markdown",
   "metadata": {},
   "source": [
    "#### 선형 함수\n",
    "\n",
    " - 1) y = ax + b\n",
    " - 2) 0 = a1x1 + a2x2 + a3x3 + a4x4\n",
    " - feature : a1, a2, a3 label : a4\n"
   ]
  },
  {
   "cell_type": "markdown",
   "metadata": {},
   "source": [
    "#### 기계 학습이 궁극적으로 추구하는 것은 패턴 인식이다."
   ]
  },
  {
   "cell_type": "markdown",
   "metadata": {},
   "source": [
    " - underfitting\n",
    " \n",
    " - good fit\n",
    " \n",
    " - overfitting"
   ]
  },
  {
   "cell_type": "markdown",
   "metadata": {},
   "source": [
    "#### 고전적 패턴인식 시스템의 설계\n",
    " - 데이터 수집\n",
    " - 특성의 선택\n",
    " - 인식 방법론의 선택과 설계\n",
    " - 훈련\n",
    " - 평가"
   ]
  }
 ],
 "metadata": {
  "kernelspec": {
   "display_name": "Python 3",
   "language": "python",
   "name": "python3"
  },
  "language_info": {
   "codemirror_mode": {
    "name": "ipython",
    "version": 3
   },
   "file_extension": ".py",
   "mimetype": "text/x-python",
   "name": "python",
   "nbconvert_exporter": "python",
   "pygments_lexer": "ipython3",
   "version": "3.8.3"
  }
 },
 "nbformat": 4,
 "nbformat_minor": 4
}
