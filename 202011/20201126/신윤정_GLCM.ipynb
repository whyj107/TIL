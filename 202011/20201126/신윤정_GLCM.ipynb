{
 "cells": [
  {
   "cell_type": "markdown",
   "metadata": {},
   "source": [
    "# 2020.11.26 - 과제1\n",
    "\n",
    "## GLCM"
   ]
  },
  {
   "cell_type": "code",
   "execution_count": 6,
   "metadata": {},
   "outputs": [],
   "source": [
    "import pandas as pd\n",
    "import matplotlib.pyplot as plt\n",
    "%matplotlib inline\n",
    "\n",
    "dataset_test = pd.read_csv('전립선-ML-Vision/GLCM_Testing.csv')\n",
    "dataset_train = pd.read_csv('전립선-ML-Vision/GLCM_Training.csv')\n",
    "\n",
    "x1 = dataset_test.drop(['Grade'], axis=1)\n",
    "y1 = dataset_test['Grade']\n",
    "\n",
    "x2 = dataset_train.drop(['Grade'], axis=1)\n",
    "y2 = dataset_train['Grade']"
   ]
  },
  {
   "cell_type": "code",
   "execution_count": 7,
   "metadata": {},
   "outputs": [],
   "source": [
    "from sklearn.preprocessing import MinMaxScaler\n",
    "\n",
    "scaler = MinMaxScaler(feature_range=(0, 1))\n",
    "x1 = scaler.fit_transform(x1)\n",
    "x2 = scaler.fit_transform(x2)"
   ]
  },
  {
   "cell_type": "markdown",
   "metadata": {},
   "source": [
    "### LogisticRegression"
   ]
  },
  {
   "cell_type": "code",
   "execution_count": 8,
   "metadata": {},
   "outputs": [
    {
     "name": "stdout",
     "output_type": "stream",
     "text": [
      "accuracy : 0.830\n",
      "\n",
      "roc_auc : 0.830\n",
      "\n",
      "confusion_matrix\n",
      " [[ 99  45]\n",
      " [  4 140]]\n"
     ]
    }
   ],
   "source": [
    "from sklearn.linear_model import LogisticRegression\n",
    "from sklearn.metrics import accuracy_score, roc_auc_score, confusion_matrix\n",
    "\n",
    "lr_clf = LogisticRegression()\n",
    "lr_clf.fit(x2, y2)\n",
    "lr_preds = lr_clf.predict(x1)\n",
    "\n",
    "print('accuracy : {:0.3f}'.format(accuracy_score(y1, lr_preds)))\n",
    "print()\n",
    "print('roc_auc : {:0.3f}'.format(roc_auc_score(y1, lr_preds)))\n",
    "print()\n",
    "print('confusion_matrix\\n', confusion_matrix(y1, lr_preds))"
   ]
  },
  {
   "cell_type": "markdown",
   "metadata": {},
   "source": [
    "### RandomForest"
   ]
  },
  {
   "cell_type": "code",
   "execution_count": 11,
   "metadata": {},
   "outputs": [],
   "source": [
    "from sklearn.ensemble import RandomForestClassifier\n",
    "\n",
    "rf1 = RandomForestClassifier(n_estimators=1000)\n",
    "rf1.fit(x2, y2)\n",
    "rf_pre1 = rf1.predict(x1)"
   ]
  },
  {
   "cell_type": "code",
   "execution_count": 12,
   "metadata": {},
   "outputs": [
    {
     "name": "stdout",
     "output_type": "stream",
     "text": [
      "classification report\n",
      "               precision    recall  f1-score   support\n",
      "\n",
      "           1       0.99      0.62      0.76       144\n",
      "           2       0.72      0.99      0.84       144\n",
      "\n",
      "    accuracy                           0.81       288\n",
      "   macro avg       0.86      0.81      0.80       288\n",
      "weighted avg       0.86      0.81      0.80       288\n",
      "\n",
      "\n",
      "accuracy : 0.806\n",
      "\n",
      "confusion_matrix\n",
      " [[ 89  55]\n",
      " [  1 143]]\n"
     ]
    }
   ],
   "source": [
    "from sklearn.metrics import classification_report\n",
    "print('classification report\\n', classification_report(y1, rf_pre1))\n",
    "print()\n",
    "print('accuracy : {:0.3f}'.format(accuracy_score(y1, rf_pre1)))\n",
    "print()\n",
    "print('confusion_matrix\\n', confusion_matrix(y1, rf_pre1))"
   ]
  },
  {
   "cell_type": "code",
   "execution_count": null,
   "metadata": {},
   "outputs": [],
   "source": []
  }
 ],
 "metadata": {
  "kernelspec": {
   "display_name": "Python 3",
   "language": "python",
   "name": "python3"
  },
  "language_info": {
   "codemirror_mode": {
    "name": "ipython",
    "version": 3
   },
   "file_extension": ".py",
   "mimetype": "text/x-python",
   "name": "python",
   "nbconvert_exporter": "python",
   "pygments_lexer": "ipython3",
   "version": "3.8.5"
  }
 },
 "nbformat": 4,
 "nbformat_minor": 4
}
