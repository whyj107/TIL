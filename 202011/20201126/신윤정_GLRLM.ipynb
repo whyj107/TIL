{
 "cells": [
  {
   "cell_type": "markdown",
   "metadata": {},
   "source": [
    "# 2020.11.26 - 과제2\n",
    "\n",
    "## GLRLM"
   ]
  },
  {
   "cell_type": "code",
   "execution_count": 8,
   "metadata": {},
   "outputs": [],
   "source": [
    "import pandas as pd\n",
    "import matplotlib.pyplot as plt\n",
    "%matplotlib inline\n",
    "\n",
    "dataset1_test = pd.read_csv('전립선-ML-Vision/GLRLM_Testing.csv')\n",
    "dataset1_train = pd.read_csv('전립선-ML-Vision/GLRLM_Training.csv')\n",
    "\n",
    "x3 = dataset1_test.drop(['Grade'], axis=1)\n",
    "y3 = dataset1_test['Grade']\n",
    "\n",
    "x4 = dataset1_train.drop(['Grade'], axis=1)\n",
    "y4 = dataset1_train['Grade']"
   ]
  },
  {
   "cell_type": "code",
   "execution_count": 9,
   "metadata": {},
   "outputs": [],
   "source": [
    "from sklearn.preprocessing import MinMaxScaler\n",
    "\n",
    "scaler = MinMaxScaler(feature_range=(0, 1))\n",
    "x3 = scaler.fit_transform(x3)\n",
    "x4 = scaler.fit_transform(x4)"
   ]
  },
  {
   "cell_type": "markdown",
   "metadata": {},
   "source": [
    "### LogisticRegression"
   ]
  },
  {
   "cell_type": "code",
   "execution_count": 10,
   "metadata": {},
   "outputs": [
    {
     "name": "stdout",
     "output_type": "stream",
     "text": [
      "accuracy : 0.698\n",
      "\n",
      "roc_auc : 0.698\n",
      "\n",
      "confusion_matrix\n",
      " [[ 68  76]\n",
      " [ 11 133]]\n"
     ]
    }
   ],
   "source": [
    "from sklearn.linear_model import LogisticRegression\n",
    "from sklearn.metrics import accuracy_score, roc_auc_score, confusion_matrix\n",
    "\n",
    "lr_clf1 = LogisticRegression()\n",
    "lr_clf1.fit(x4, y4)\n",
    "lr_preds1 = lr_clf1.predict(x3)\n",
    "\n",
    "print('accuracy : {:0.3f}'.format(accuracy_score(y3, lr_preds1)))\n",
    "print()\n",
    "print('roc_auc : {:0.3f}'.format(roc_auc_score(y3, lr_preds1)))\n",
    "print()\n",
    "print('confusion_matrix\\n', confusion_matrix(y3, lr_preds1))"
   ]
  },
  {
   "cell_type": "markdown",
   "metadata": {},
   "source": [
    "### RandomForest"
   ]
  },
  {
   "cell_type": "code",
   "execution_count": 14,
   "metadata": {},
   "outputs": [
    {
     "name": "stdout",
     "output_type": "stream",
     "text": [
      "classification report\n",
      "               precision    recall  f1-score   support\n",
      "\n",
      "           1       0.83      0.73      0.78       144\n",
      "           2       0.76      0.85      0.80       144\n",
      "\n",
      "    accuracy                           0.79       288\n",
      "   macro avg       0.80      0.79      0.79       288\n",
      "weighted avg       0.80      0.79      0.79       288\n",
      "\n",
      "\n",
      "accuracy : 0.792\n",
      "\n",
      "confusion_matrix\n",
      " [[105  39]\n",
      " [ 21 123]]\n"
     ]
    }
   ],
   "source": [
    "from sklearn.ensemble import RandomForestClassifier\n",
    "from sklearn.metrics import classification_report\n",
    "\n",
    "rf2 = RandomForestClassifier(n_estimators=1000)\n",
    "rf2.fit(x4, y4)\n",
    "rf_pre2 = rf2.predict(x3)\n",
    "\n",
    "print('classification report\\n', classification_report(y3, rf_pre2))\n",
    "print()\n",
    "print('accuracy : {:0.3f}'.format(accuracy_score(y3, rf_pre2)))\n",
    "print()\n",
    "print('confusion_matrix\\n', confusion_matrix(y3, rf_pre2))"
   ]
  },
  {
   "cell_type": "code",
   "execution_count": null,
   "metadata": {},
   "outputs": [],
   "source": []
  }
 ],
 "metadata": {
  "kernelspec": {
   "display_name": "Python 3",
   "language": "python",
   "name": "python3"
  },
  "language_info": {
   "codemirror_mode": {
    "name": "ipython",
    "version": 3
   },
   "file_extension": ".py",
   "mimetype": "text/x-python",
   "name": "python",
   "nbconvert_exporter": "python",
   "pygments_lexer": "ipython3",
   "version": "3.8.5"
  }
 },
 "nbformat": 4,
 "nbformat_minor": 4
}
