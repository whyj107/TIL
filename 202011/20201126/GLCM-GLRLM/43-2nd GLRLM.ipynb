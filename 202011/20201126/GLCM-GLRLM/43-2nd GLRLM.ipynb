{
 "cells": [
  {
   "cell_type": "code",
   "execution_count": 1,
   "metadata": {},
   "outputs": [],
   "source": [
    "import warnings\n",
    "warnings.filterwarnings('ignore')\n",
    "\n",
    "import pandas as pd\n",
    "import numpy as np\n",
    "import scipy as sp\n",
    "import sklearn\n",
    "from matplotlib import pyplot as plt"
   ]
  },
  {
   "cell_type": "code",
   "execution_count": 2,
   "metadata": {},
   "outputs": [
    {
     "data": {
      "text/plain": [
       "(672, 12)"
      ]
     },
     "execution_count": 2,
     "metadata": {},
     "output_type": "execute_result"
    }
   ],
   "source": [
    "data = pd.read_csv('GLRLM_Training.csv')\n",
    "data.shape"
   ]
  },
  {
   "cell_type": "code",
   "execution_count": 3,
   "metadata": {},
   "outputs": [
    {
     "data": {
      "text/html": [
       "<div>\n",
       "<style scoped>\n",
       "    .dataframe tbody tr th:only-of-type {\n",
       "        vertical-align: middle;\n",
       "    }\n",
       "\n",
       "    .dataframe tbody tr th {\n",
       "        vertical-align: top;\n",
       "    }\n",
       "\n",
       "    .dataframe thead th {\n",
       "        text-align: right;\n",
       "    }\n",
       "</style>\n",
       "<table border=\"1\" class=\"dataframe\">\n",
       "  <thead>\n",
       "    <tr style=\"text-align: right;\">\n",
       "      <th></th>\n",
       "      <th>Grade</th>\n",
       "      <th>Short Run Emphasis (SRE)</th>\n",
       "      <th>Long Run Emphasis (LRE)</th>\n",
       "      <th>Gray-Level Nonuniformity (GLN)</th>\n",
       "      <th>Run Length Nonuniformity (RLN)</th>\n",
       "      <th>Run Percentage (RP)</th>\n",
       "      <th>Low Gray-Level Run Emphasis (LGRE)</th>\n",
       "      <th>High Gray-Level Run Emphasis (HGRE)</th>\n",
       "      <th>Short Run Low Gray-Level Emphasis (SRLGE)</th>\n",
       "      <th>Short Run High Gray-Level Emphasis (SRHGE)</th>\n",
       "      <th>Long Run Low Gray-Level Emphasis (LRLGE)</th>\n",
       "      <th>Long Run High Gray-Level Emphasis (LRHGE)</th>\n",
       "    </tr>\n",
       "  </thead>\n",
       "  <tbody>\n",
       "    <tr>\n",
       "      <th>0</th>\n",
       "      <td>1</td>\n",
       "      <td>0.000034</td>\n",
       "      <td>31223.64737</td>\n",
       "      <td>42356.55740</td>\n",
       "      <td>1155.915242</td>\n",
       "      <td>0.751331</td>\n",
       "      <td>0.941545</td>\n",
       "      <td>24.622332</td>\n",
       "      <td>0.000032</td>\n",
       "      <td>0.000469</td>\n",
       "      <td>29228.55614</td>\n",
       "      <td>1.319094e+06</td>\n",
       "    </tr>\n",
       "    <tr>\n",
       "      <th>1</th>\n",
       "      <td>1</td>\n",
       "      <td>0.000032</td>\n",
       "      <td>32895.60386</td>\n",
       "      <td>48653.98680</td>\n",
       "      <td>1174.092531</td>\n",
       "      <td>0.858295</td>\n",
       "      <td>0.943900</td>\n",
       "      <td>7.564231</td>\n",
       "      <td>0.000030</td>\n",
       "      <td>0.000155</td>\n",
       "      <td>30922.89633</td>\n",
       "      <td>3.872282e+05</td>\n",
       "    </tr>\n",
       "    <tr>\n",
       "      <th>2</th>\n",
       "      <td>1</td>\n",
       "      <td>0.000031</td>\n",
       "      <td>34116.00394</td>\n",
       "      <td>39354.03076</td>\n",
       "      <td>844.466487</td>\n",
       "      <td>0.692680</td>\n",
       "      <td>0.944073</td>\n",
       "      <td>37.682158</td>\n",
       "      <td>0.000030</td>\n",
       "      <td>0.000704</td>\n",
       "      <td>31946.27764</td>\n",
       "      <td>2.038621e+06</td>\n",
       "    </tr>\n",
       "    <tr>\n",
       "      <th>3</th>\n",
       "      <td>1</td>\n",
       "      <td>0.000035</td>\n",
       "      <td>32108.72005</td>\n",
       "      <td>42979.78572</td>\n",
       "      <td>737.881473</td>\n",
       "      <td>0.745262</td>\n",
       "      <td>0.950318</td>\n",
       "      <td>26.747163</td>\n",
       "      <td>0.000033</td>\n",
       "      <td>0.000508</td>\n",
       "      <td>30349.57550</td>\n",
       "      <td>1.437596e+06</td>\n",
       "    </tr>\n",
       "    <tr>\n",
       "      <th>4</th>\n",
       "      <td>1</td>\n",
       "      <td>0.000036</td>\n",
       "      <td>29994.85310</td>\n",
       "      <td>54988.34980</td>\n",
       "      <td>1047.307520</td>\n",
       "      <td>0.941429</td>\n",
       "      <td>0.956206</td>\n",
       "      <td>1.197406</td>\n",
       "      <td>0.000034</td>\n",
       "      <td>0.000043</td>\n",
       "      <td>28702.29430</td>\n",
       "      <td>3.580887e+04</td>\n",
       "    </tr>\n",
       "    <tr>\n",
       "      <th>...</th>\n",
       "      <td>...</td>\n",
       "      <td>...</td>\n",
       "      <td>...</td>\n",
       "      <td>...</td>\n",
       "      <td>...</td>\n",
       "      <td>...</td>\n",
       "      <td>...</td>\n",
       "      <td>...</td>\n",
       "      <td>...</td>\n",
       "      <td>...</td>\n",
       "      <td>...</td>\n",
       "      <td>...</td>\n",
       "    </tr>\n",
       "    <tr>\n",
       "      <th>667</th>\n",
       "      <td>2</td>\n",
       "      <td>0.000062</td>\n",
       "      <td>24454.19100</td>\n",
       "      <td>51251.67919</td>\n",
       "      <td>403.494478</td>\n",
       "      <td>0.844986</td>\n",
       "      <td>0.969462</td>\n",
       "      <td>8.861383</td>\n",
       "      <td>0.000061</td>\n",
       "      <td>0.000210</td>\n",
       "      <td>23367.26240</td>\n",
       "      <td>4.524542e+05</td>\n",
       "    </tr>\n",
       "    <tr>\n",
       "      <th>668</th>\n",
       "      <td>2</td>\n",
       "      <td>0.000061</td>\n",
       "      <td>25927.90218</td>\n",
       "      <td>53891.14243</td>\n",
       "      <td>424.201474</td>\n",
       "      <td>0.890163</td>\n",
       "      <td>0.968913</td>\n",
       "      <td>3.992644</td>\n",
       "      <td>0.000059</td>\n",
       "      <td>0.000120</td>\n",
       "      <td>24801.70013</td>\n",
       "      <td>1.873570e+05</td>\n",
       "    </tr>\n",
       "    <tr>\n",
       "      <th>669</th>\n",
       "      <td>2</td>\n",
       "      <td>0.000064</td>\n",
       "      <td>23871.47280</td>\n",
       "      <td>56961.57580</td>\n",
       "      <td>448.045327</td>\n",
       "      <td>0.938015</td>\n",
       "      <td>0.970517</td>\n",
       "      <td>1.701354</td>\n",
       "      <td>0.000063</td>\n",
       "      <td>0.000082</td>\n",
       "      <td>22904.04670</td>\n",
       "      <td>5.954804e+04</td>\n",
       "    </tr>\n",
       "    <tr>\n",
       "      <th>670</th>\n",
       "      <td>2</td>\n",
       "      <td>0.000068</td>\n",
       "      <td>22449.72904</td>\n",
       "      <td>52676.85000</td>\n",
       "      <td>424.590746</td>\n",
       "      <td>0.874695</td>\n",
       "      <td>0.966727</td>\n",
       "      <td>4.525212</td>\n",
       "      <td>0.000066</td>\n",
       "      <td>0.000138</td>\n",
       "      <td>21343.34786</td>\n",
       "      <td>2.124215e+05</td>\n",
       "    </tr>\n",
       "    <tr>\n",
       "      <th>671</th>\n",
       "      <td>2</td>\n",
       "      <td>0.000060</td>\n",
       "      <td>25917.95402</td>\n",
       "      <td>44011.70746</td>\n",
       "      <td>369.046827</td>\n",
       "      <td>0.738392</td>\n",
       "      <td>0.962145</td>\n",
       "      <td>20.910881</td>\n",
       "      <td>0.000058</td>\n",
       "      <td>0.000428</td>\n",
       "      <td>24423.32702</td>\n",
       "      <td>1.113716e+06</td>\n",
       "    </tr>\n",
       "  </tbody>\n",
       "</table>\n",
       "<p>672 rows × 12 columns</p>\n",
       "</div>"
      ],
      "text/plain": [
       "     Grade  Short Run Emphasis (SRE)  Long Run Emphasis (LRE)  \\\n",
       "0        1                  0.000034              31223.64737   \n",
       "1        1                  0.000032              32895.60386   \n",
       "2        1                  0.000031              34116.00394   \n",
       "3        1                  0.000035              32108.72005   \n",
       "4        1                  0.000036              29994.85310   \n",
       "..     ...                       ...                      ...   \n",
       "667      2                  0.000062              24454.19100   \n",
       "668      2                  0.000061              25927.90218   \n",
       "669      2                  0.000064              23871.47280   \n",
       "670      2                  0.000068              22449.72904   \n",
       "671      2                  0.000060              25917.95402   \n",
       "\n",
       "     Gray-Level Nonuniformity (GLN)  Run Length Nonuniformity (RLN)  \\\n",
       "0                       42356.55740                     1155.915242   \n",
       "1                       48653.98680                     1174.092531   \n",
       "2                       39354.03076                      844.466487   \n",
       "3                       42979.78572                      737.881473   \n",
       "4                       54988.34980                     1047.307520   \n",
       "..                              ...                             ...   \n",
       "667                     51251.67919                      403.494478   \n",
       "668                     53891.14243                      424.201474   \n",
       "669                     56961.57580                      448.045327   \n",
       "670                     52676.85000                      424.590746   \n",
       "671                     44011.70746                      369.046827   \n",
       "\n",
       "     Run Percentage (RP)  Low Gray-Level Run Emphasis (LGRE)  \\\n",
       "0               0.751331                            0.941545   \n",
       "1               0.858295                            0.943900   \n",
       "2               0.692680                            0.944073   \n",
       "3               0.745262                            0.950318   \n",
       "4               0.941429                            0.956206   \n",
       "..                   ...                                 ...   \n",
       "667             0.844986                            0.969462   \n",
       "668             0.890163                            0.968913   \n",
       "669             0.938015                            0.970517   \n",
       "670             0.874695                            0.966727   \n",
       "671             0.738392                            0.962145   \n",
       "\n",
       "     High Gray-Level Run Emphasis (HGRE)  \\\n",
       "0                              24.622332   \n",
       "1                               7.564231   \n",
       "2                              37.682158   \n",
       "3                              26.747163   \n",
       "4                               1.197406   \n",
       "..                                   ...   \n",
       "667                             8.861383   \n",
       "668                             3.992644   \n",
       "669                             1.701354   \n",
       "670                             4.525212   \n",
       "671                            20.910881   \n",
       "\n",
       "     Short Run Low Gray-Level Emphasis (SRLGE)  \\\n",
       "0                                     0.000032   \n",
       "1                                     0.000030   \n",
       "2                                     0.000030   \n",
       "3                                     0.000033   \n",
       "4                                     0.000034   \n",
       "..                                         ...   \n",
       "667                                   0.000061   \n",
       "668                                   0.000059   \n",
       "669                                   0.000063   \n",
       "670                                   0.000066   \n",
       "671                                   0.000058   \n",
       "\n",
       "     Short Run High Gray-Level Emphasis (SRHGE)  \\\n",
       "0                                      0.000469   \n",
       "1                                      0.000155   \n",
       "2                                      0.000704   \n",
       "3                                      0.000508   \n",
       "4                                      0.000043   \n",
       "..                                          ...   \n",
       "667                                    0.000210   \n",
       "668                                    0.000120   \n",
       "669                                    0.000082   \n",
       "670                                    0.000138   \n",
       "671                                    0.000428   \n",
       "\n",
       "     Long Run Low Gray-Level Emphasis (LRLGE)  \\\n",
       "0                                 29228.55614   \n",
       "1                                 30922.89633   \n",
       "2                                 31946.27764   \n",
       "3                                 30349.57550   \n",
       "4                                 28702.29430   \n",
       "..                                        ...   \n",
       "667                               23367.26240   \n",
       "668                               24801.70013   \n",
       "669                               22904.04670   \n",
       "670                               21343.34786   \n",
       "671                               24423.32702   \n",
       "\n",
       "     Long Run High Gray-Level Emphasis (LRHGE)  \n",
       "0                                 1.319094e+06  \n",
       "1                                 3.872282e+05  \n",
       "2                                 2.038621e+06  \n",
       "3                                 1.437596e+06  \n",
       "4                                 3.580887e+04  \n",
       "..                                         ...  \n",
       "667                               4.524542e+05  \n",
       "668                               1.873570e+05  \n",
       "669                               5.954804e+04  \n",
       "670                               2.124215e+05  \n",
       "671                               1.113716e+06  \n",
       "\n",
       "[672 rows x 12 columns]"
      ]
     },
     "execution_count": 3,
     "metadata": {},
     "output_type": "execute_result"
    }
   ],
   "source": [
    "data"
   ]
  },
  {
   "cell_type": "code",
   "execution_count": 26,
   "metadata": {},
   "outputs": [],
   "source": [
    "feature = data.drop(['Grade'], axis=1)\n",
    "labels= data['Grade']"
   ]
  },
  {
   "cell_type": "code",
   "execution_count": 30,
   "metadata": {},
   "outputs": [],
   "source": [
    "# Normalized the data\n",
    "\n",
    "from sklearn.preprocessing import MinMaxScaler\n",
    "\n",
    "scaler = MinMaxScaler(feature_range=(0, 1))\n",
    "features = scaler.fit_transform(feature)"
   ]
  },
  {
   "cell_type": "code",
   "execution_count": 31,
   "metadata": {},
   "outputs": [],
   "source": [
    "from sklearn.model_selection import train_test_split\n",
    "\n",
    "X_train, X_test, y_train, y_test = train_test_split(features, labels, test_size=0.2, random_state=9, stratify = labels)"
   ]
  },
  {
   "cell_type": "code",
   "execution_count": 32,
   "metadata": {},
   "outputs": [
    {
     "name": "stdout",
     "output_type": "stream",
     "text": [
      "Number of transactions X_train dataset:  (537, 11)\n",
      "Number of transactions y_train dataset:  (537,)\n",
      "Number of transactions X_test dataset:  (135, 11)\n",
      "Number of transactions y_test dataset:  (135,)\n"
     ]
    }
   ],
   "source": [
    "print(\"Number of transactions X_train dataset: \", X_train.shape)\n",
    "print(\"Number of transactions y_train dataset: \", y_train.shape)\n",
    "print(\"Number of transactions X_test dataset: \", X_test.shape)\n",
    "print(\"Number of transactions y_test dataset: \", y_test.shape)"
   ]
  },
  {
   "cell_type": "markdown",
   "metadata": {},
   "source": [
    "## LogisticRegression"
   ]
  },
  {
   "cell_type": "code",
   "execution_count": 9,
   "metadata": {},
   "outputs": [],
   "source": [
    "from sklearn.linear_model import LogisticRegression\n",
    "model = LogisticRegression(random_state=0)\n",
    "model.fit(X_train, y_train)\n",
    "prediction = model.predict(X_test)"
   ]
  },
  {
   "cell_type": "code",
   "execution_count": 10,
   "metadata": {},
   "outputs": [
    {
     "name": "stdout",
     "output_type": "stream",
     "text": [
      "              precision    recall  f1-score   support\n",
      "\n",
      "           1       0.95      0.84      0.89        68\n",
      "           2       0.85      0.96      0.90        67\n",
      "\n",
      "    accuracy                           0.90       135\n",
      "   macro avg       0.90      0.90      0.90       135\n",
      "weighted avg       0.90      0.90      0.90       135\n",
      "\n",
      "0.8962962962962963\n",
      "[[57 11]\n",
      " [ 3 64]]\n"
     ]
    }
   ],
   "source": [
    "from sklearn.metrics import classification_report, accuracy_score, confusion_matrix\n",
    "\n",
    "print(classification_report(y_test, prediction))\n",
    "print(accuracy_score(y_test, prediction))\n",
    "print(confusion_matrix(y_test, prediction))\n"
   ]
  },
  {
   "cell_type": "markdown",
   "metadata": {},
   "source": [
    "## RandomForest"
   ]
  },
  {
   "cell_type": "code",
   "execution_count": 11,
   "metadata": {},
   "outputs": [],
   "source": [
    "from sklearn.ensemble import RandomForestClassifier\n",
    "model = RandomForestClassifier(n_estimators=100)\n",
    "model.fit(X_train, y_train)\n",
    "prediction = model.predict(X_test)\n"
   ]
  },
  {
   "cell_type": "code",
   "execution_count": 12,
   "metadata": {},
   "outputs": [
    {
     "name": "stdout",
     "output_type": "stream",
     "text": [
      "              precision    recall  f1-score   support\n",
      "\n",
      "           1       0.92      0.84      0.88        68\n",
      "           2       0.85      0.93      0.89        67\n",
      "\n",
      "    accuracy                           0.88       135\n",
      "   macro avg       0.88      0.88      0.88       135\n",
      "weighted avg       0.88      0.88      0.88       135\n",
      "\n",
      "0.8814814814814815\n",
      "[[57 11]\n",
      " [ 5 62]]\n"
     ]
    }
   ],
   "source": [
    "from sklearn.metrics import classification_report, accuracy_score, confusion_matrix\n",
    "print(classification_report(y_test, prediction))\n",
    "print(accuracy_score(y_test, prediction))\n",
    "print(confusion_matrix(y_test, prediction))"
   ]
  },
  {
   "cell_type": "markdown",
   "metadata": {},
   "source": [
    "## KFold_Cross Validation"
   ]
  },
  {
   "cell_type": "code",
   "execution_count": 34,
   "metadata": {},
   "outputs": [],
   "source": [
    "from sklearn.model_selection import cross_val_score\n",
    "from sklearn.model_selection import KFold"
   ]
  },
  {
   "cell_type": "code",
   "execution_count": 35,
   "metadata": {},
   "outputs": [
    {
     "name": "stdout",
     "output_type": "stream",
     "text": [
      "[0.91176471 0.88235294 0.91044776 0.91044776 0.82089552 0.82089552\n",
      " 0.86567164 0.86567164 0.88059701 0.89552239]\n"
     ]
    }
   ],
   "source": [
    "cv = KFold(n_splits=10, random_state=1, shuffle=True)\n",
    "scores = cross_val_score(model, features, labels, cv=cv, scoring='accuracy' )\n",
    "print(scores)"
   ]
  },
  {
   "cell_type": "code",
   "execution_count": 36,
   "metadata": {},
   "outputs": [
    {
     "name": "stdout",
     "output_type": "stream",
     "text": [
      "0.8764266900790167\n"
     ]
    }
   ],
   "source": [
    "print(scores.mean())"
   ]
  },
  {
   "cell_type": "code",
   "execution_count": null,
   "metadata": {},
   "outputs": [],
   "source": []
  }
 ],
 "metadata": {
  "kernelspec": {
   "display_name": "Python 3",
   "language": "python",
   "name": "python3"
  },
  "language_info": {
   "codemirror_mode": {
    "name": "ipython",
    "version": 3
   },
   "file_extension": ".py",
   "mimetype": "text/x-python",
   "name": "python",
   "nbconvert_exporter": "python",
   "pygments_lexer": "ipython3",
   "version": "3.6.9"
  }
 },
 "nbformat": 4,
 "nbformat_minor": 4
}
