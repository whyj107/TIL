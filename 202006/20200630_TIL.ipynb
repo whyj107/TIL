{
 "cells": [
  {
   "cell_type": "markdown",
   "metadata": {},
   "source": [
    "20200630\n",
    "\n",
    "# 컴퓨터\n",
    "\n",
    " - 알고리즘(코드워) : Is a number prime?\n",
    " - 알고리즘(프로그래머스) : 문자열 내 마음대로 정렬하기\n",
    " - spring : 환경설정 및 pom.xml 오류\n",
    " \n",
    "#### 블로그에 올라와있는 예제대로 따라했을 뿐인데... 아직 코드 한줄 안쳤는데... 왜 오류가 발생하는 것인가...\n",
    "#### eclipse validating test 너무 느려...."
   ]
  }
 ],
 "metadata": {
  "kernelspec": {
   "display_name": "Python 3",
   "language": "python",
   "name": "python3"
  },
  "language_info": {
   "codemirror_mode": {
    "name": "ipython",
    "version": 3
   },
   "file_extension": ".py",
   "mimetype": "text/x-python",
   "name": "python",
   "nbconvert_exporter": "python",
   "pygments_lexer": "ipython3",
   "version": "3.7.4"
  }
 },
 "nbformat": 4,
 "nbformat_minor": 2
}
