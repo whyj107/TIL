{
 "cells": [
  {
   "cell_type": "markdown",
   "metadata": {},
   "source": [
    "20200620\n",
    "\n",
    "# 컴퓨터\n",
    "\n",
    " - 알고리즘(코드워) : Did you mean ...?, Pete, the baker\n",
    " - 알고리즘(프로그래머스) : 레벨 3 통과, 크레인 인형뽑기 게임\n",
    " \n",
    "#### 코드워 문제 중 'Did you mean ...?'이라는 문제는 풀지 못하여서 다른 사람의 코드를 보고 공부를 했다.\n",
    "#### 프로그래머스 3단계 문제를 풀었다. 사실 나는 총 4번 도전을 했다. 첫 번째는 예전에 문제 풀기를 눌러놨다가 다 풀지 않고 기회를 날렸고 2번째의 경우는 80점을 맞아서 합격에 실패하였다. 3번쨰의 경우 문제가 너무 어려워서 문제 풀기를 포기했고 마지막으로 4번째에 도전을 해서 100점을 맞고 합격할 수 있었다.\n",
    "#### 프로그래머스의 레벨이 그렇게 객관적인 것 같지는 않다. 쉬운 것도 있고 어려운 것도 있기 때문에 운이 작용해야 할 것 같다. 아니면 내가 특정 문제에 약한 거 일 수도 있고...."
   ]
  }
 ],
 "metadata": {
  "kernelspec": {
   "display_name": "Python 3",
   "language": "python",
   "name": "python3"
  },
  "language_info": {
   "codemirror_mode": {
    "name": "ipython",
    "version": 3
   },
   "file_extension": ".py",
   "mimetype": "text/x-python",
   "name": "python",
   "nbconvert_exporter": "python",
   "pygments_lexer": "ipython3",
   "version": "3.7.3"
  }
 },
 "nbformat": 4,
 "nbformat_minor": 2
}
