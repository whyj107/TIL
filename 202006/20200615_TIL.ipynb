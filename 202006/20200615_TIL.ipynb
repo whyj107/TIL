{
 "cells": [
  {
   "cell_type": "markdown",
   "metadata": {},
   "source": [
    "20200615\n",
    "\n",
    "# 컴퓨터\n",
    "\n",
    " - 알고리즘(코드워) : Arabian String\n",
    " - 포트폴리오 정리(사진 제외) : Holter Monitor, Mat Fit, Treadmill\n",
    " - 구름 edu : node.js \n",
    "\n",
    "#### 어제 알고리즘 문제를 풀었었는데 따로 TIL은 적지 않았다. \n",
    "#### 알고리즘 외의 것을 하면 TIL을 적으려고 한다.\n",
    "#### node.js 실습을 visual studio에서 해보려고 하니 잘 되지 않았다. 오늘은 atom을 설치한 후 내일 다시 도전해봐야 겠다."
   ]
  }
 ],
 "metadata": {
  "kernelspec": {
   "display_name": "Python 3",
   "language": "python",
   "name": "python3"
  },
  "language_info": {
   "codemirror_mode": {
    "name": "ipython",
    "version": 3
   },
   "file_extension": ".py",
   "mimetype": "text/x-python",
   "name": "python",
   "nbconvert_exporter": "python",
   "pygments_lexer": "ipython3",
   "version": "3.7.4"
  }
 },
 "nbformat": 4,
 "nbformat_minor": 2
}
