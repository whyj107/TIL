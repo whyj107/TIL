{
 "cells": [
  {
   "cell_type": "markdown",
   "metadata": {},
   "source": [
    "20200425\n",
    "\n",
    "# 컴퓨터\n",
    "\n",
    " - 알고리즘(코딩의 수학적 기초를 다지는 알고리즘 68) : 효율적인 입체 주차장\n",
    " - 알고리즘(코드워) : Array plus array, Series of integers from m to n, Largest 5 digit number in a series\n",
    "\n",
    "#### 오늘 약속 때문에 나갔다왔기에 쉬운 코드워 문제를 풀고 블로그에 올리려고 했는데 Array plus array 와 Series of integers from m to n 이 블로그에 글을 쓰기에는 너무 작성할 내용이 없어서 Largets 5 digit number in a series문제까지 풀고 블로그에 게시했다."
   ]
  }
 ],
 "metadata": {
  "kernelspec": {
   "display_name": "Python 3",
   "language": "python",
   "name": "python3"
  },
  "language_info": {
   "codemirror_mode": {
    "name": "ipython",
    "version": 3
   },
   "file_extension": ".py",
   "mimetype": "text/x-python",
   "name": "python",
   "nbconvert_exporter": "python",
   "pygments_lexer": "ipython3",
   "version": "3.7.3"
  }
 },
 "nbformat": 4,
 "nbformat_minor": 2
}
