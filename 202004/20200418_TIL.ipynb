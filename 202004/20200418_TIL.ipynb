{
 "cells": [
  {
   "cell_type": "markdown",
   "metadata": {},
   "source": [
    "20200418\n",
    "\n",
    "# 컴퓨터\n",
    "\n",
    " - 알고리즘(코딩의 수학적 기초를 다지는 알고리즘 68) : 완벽하게 꿰뚫은 스트럭아웃\n",
    " - 알고리즘(백준) : 계단 오르기\n",
    " - 알고리즘(코드워) : Sudoku Solver, Did I Finish my Sudoku?\n",
    "\n",
    "#### 코드워에서 스도쿠 관련 문제를 풀었는데 왜 단계가 낮은 것이 더 풀기 어려운지 모르겠다.\n",
    "#### 오늘 c# 관련해서 코드를 제작해서 git에 올리려고 했는데 블로그 제작하다보니 시간이 지체되었다. 다음에 해야겠다."
   ]
  }
 ],
 "metadata": {
  "kernelspec": {
   "display_name": "Python 3",
   "language": "python",
   "name": "python3"
  },
  "language_info": {
   "codemirror_mode": {
    "name": "ipython",
    "version": 3
   },
   "file_extension": ".py",
   "mimetype": "text/x-python",
   "name": "python",
   "nbconvert_exporter": "python",
   "pygments_lexer": "ipython3",
   "version": "3.7.3"
  }
 },
 "nbformat": 4,
 "nbformat_minor": 2
}
