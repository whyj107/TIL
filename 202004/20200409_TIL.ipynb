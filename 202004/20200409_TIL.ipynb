{
 "cells": [
  {
   "cell_type": "markdown",
   "metadata": {},
   "source": [
    "20200409\n",
    "\n",
    "# 컴퓨터\n",
    "\n",
    " - 알고리즘(필수 알고리즘 with 파이썬) : \n",
    " - 알고리즘(백준) : \n",
    " - Class101 키워드 정리 : Chapter3-3 간단하게 정리\n",
    "\n",
    "#### 어제 적었던 TIL 문서에 공부방향을 하고 끊겨있는데 기억이 나지 않는다.\n",
    "#### 분명 어제 적은 일인데..."
   ]
  },
  {
   "cell_type": "markdown",
   "metadata": {},
   "source": [
    "# --------------------------------------------------------"
   ]
  },
  {
   "cell_type": "markdown",
   "metadata": {},
   "source": [
    "Class101 키워드 정리"
   ]
  },
  {
   "cell_type": "markdown",
   "metadata": {},
   "source": [
    "*Chapter3-3*"
   ]
  },
  {
   "cell_type": "markdown",
   "metadata": {},
   "source": [
    "API 서버\n",
    " - Application Programming Interface 응용 프로그램 프로그래밍 인터페이스\n",
    " - 응용 프로그램에서 사용할 수 있도록, 운영 체제나 프로그래밍 언어가 제공하는 기능을 제어할 수 있게 만든 인터페이스이다.\n",
    " \n",
    "WAS\n",
    " - Web Application Server 웹 어플리케이션 서버\n",
    " - 웹 애플리케이션과 서버 환경을 만들어 동작시키는 기능을 제공하는 소프트웨어 프레임워크이다.\n",
    " - 인터넷 상에서 HTTP를 통해 사용자 컴퓨터나 장치에 애플리케이션을 수행해 주는 미들웨어(소프트웨어 엔진)으로 볼 수 있다.\n",
    " \n",
    "데이터베이스\n",
    " - 여러 사람이 공유하여 사용할 목적으로 체계화해 통합, 관리하는 데이터의 집합이다.\n",
    " - 작성된 목록으로써 여러 응용 시스템들의 통합된 정보들을 저장하여 운영할 수 있는 공용 데이터들의 묶음이다.\n",
    " \n",
    "스토리지\n",
    " - 데이터 저장장치 그 자체를 스토리지 또는 스토리지 디바이스라고도 한다.\n",
    " - 그 뜻이 확대되어 전문화, 네트어킹화, 대용량화된 저장기술을 총칭하게 된다.\n",
    "\n",
    " \n",
    "인증서버(OAuth)\n",
    " - 외부서비스에서 리소스를 사용하려 할 때, 계정정보 노출 없이 권한을 인증할 수 있는 표준이다.\n",
    " "
   ]
  },
  {
   "cell_type": "markdown",
   "metadata": {},
   "source": [
    "출처\n",
    "\n",
    "http://blog.naver.com/PostView.nhn?blogId=gyjeon1&logNo=221576613276&categoryNo=0&parentCategoryNo=5&viewDate=&currentPage=1&postListTopCurrentPage=1&from=postView\n",
    "https://ko.wikipedia.org/wiki/WAS\n",
    "https://ko.wikipedia.org/wiki/%EC%9B%B9_%EC%95%A0%ED%94%8C%EB%A6%AC%EC%BC%80%EC%9D%B4%EC%85%98_%EC%84%9C%EB%B2%84\n",
    "https://ko.wikipedia.org/wiki/%EB%8D%B0%EC%9D%B4%ED%84%B0%EB%B2%A0%EC%9D%B4%EC%8A%A4\n",
    "http://www.ktword.co.kr/abbr_view.php?m_temp1=3113\n",
    "https://jungle.kim/2018/04/21/oauth/"
   ]
  }
 ],
 "metadata": {
  "kernelspec": {
   "display_name": "Python 3",
   "language": "python",
   "name": "python3"
  },
  "language_info": {
   "codemirror_mode": {
    "name": "ipython",
    "version": 3
   },
   "file_extension": ".py",
   "mimetype": "text/x-python",
   "name": "python",
   "nbconvert_exporter": "python",
   "pygments_lexer": "ipython3",
   "version": "3.7.4"
  }
 },
 "nbformat": 4,
 "nbformat_minor": 2
}
