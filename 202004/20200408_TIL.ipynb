{
 "cells": [
  {
   "cell_type": "markdown",
   "metadata": {},
   "source": [
    "20200408\n",
    "\n",
    "# 컴퓨터\n",
    "\n",
    " - 알고리즘(필수 알고리즘 with 파이썬) : 하노이의 탑\n",
    " - 알고리즘(코드워) : altERnaTIng cAsE <=> ALTerNAtiNG CaSe\n",
    " - Class101 키워드 정리 : Chapter3-2 간단하게 정리\n",
    " \n",
    "#### 토익숙제를 했을 뿐인데 컴퓨터 공부할 시간이 줄어들었다. \n",
    "#### 오늘 회사 면담을 했었는데 공부방향으"
   ]
  },
  {
   "cell_type": "markdown",
   "metadata": {},
   "source": [
    "# --------------------------------------------------------"
   ]
  },
  {
   "cell_type": "markdown",
   "metadata": {},
   "source": [
    "Class101 키워드 정리"
   ]
  },
  {
   "cell_type": "markdown",
   "metadata": {},
   "source": [
    "*Chapter3-2*"
   ]
  },
  {
   "cell_type": "markdown",
   "metadata": {},
   "source": [
    "웹서버\n",
    " - 웹 브라우저와 같은 클라이언트로부터 HTTP 요청을 받아들이고, HTML 문서와 같은 웹 페이지를 반환하는 컴퓨터 프로그램이다.\n",
    " - HTTP를 통해 웹 브라우저에서 요청하는 HTML 문서나 오브젝트(이미지 파일 등)을 전송해주는 서비스 프로그램을 말한다.\n",
    "\n",
    "CDN\n",
    " - 콘텐츠 전송 네트워크(Content delivery network 또는 content distribution network)\n",
    " - 콘텐츠를 효율적으로 전달하기 위해 여러 노드를 가진 네트워크에 데이터를 저장하여 제공하는 시스템을 말한다.\n",
    "\n",
    "캐시\n",
    " - 데이터나 값을 미리 복사해 놓는 임시 장소를 가리킨다.\n",
    " - 캐시의 접근 시간에 비해 원래 데이터를 접근하는 시간이 오래 걸리는 경우나 값을 다시 계산하는 시간을 절약하고 싶은 경우에 사용한다.\n",
    "\n",
    "반응형 웹\n",
    " - 디바이스 종류에 따라 웹페이지의 크기가 자동적으로 재조정 되는 것이다.\n",
    "\n",
    "웹 호스팅\n",
    " - 서버 컴퓨터의 전체 또는 일정 공간을 이용할 수 있도록 임대해 주는 서비스를 말한다.\n"
   ]
  },
  {
   "cell_type": "markdown",
   "metadata": {},
   "source": [
    "출처\n",
    "https://ko.wikipedia.org/wiki/%EC%9B%B9_%EC%84%9C%EB%B2%84\n",
    "https://ko.wikipedia.org/wiki/%EC%BD%98%ED%85%90%EC%B8%A0_%EC%A0%84%EC%86%A1_%EB%84%A4%ED%8A%B8%EC%9B%8C%ED%81%AC\n",
    "https://ko.wikipedia.org/wiki/%EC%BA%90%EC%8B%9C\n",
    "http://www.nextree.co.kr/p8622/\n",
    "https://namu.wiki/w/%ED%98%B8%EC%8A%A4%ED%8C%85"
   ]
  }
 ],
 "metadata": {
  "kernelspec": {
   "display_name": "Python 3",
   "language": "python",
   "name": "python3"
  },
  "language_info": {
   "codemirror_mode": {
    "name": "ipython",
    "version": 3
   },
   "file_extension": ".py",
   "mimetype": "text/x-python",
   "name": "python",
   "nbconvert_exporter": "python",
   "pygments_lexer": "ipython3",
   "version": "3.7.4"
  }
 },
 "nbformat": 4,
 "nbformat_minor": 2
}
