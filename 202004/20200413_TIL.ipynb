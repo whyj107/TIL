{
 "cells": [
  {
   "cell_type": "markdown",
   "metadata": {},
   "source": [
    "20200413\n",
    "\n",
    "#  컴퓨터\n",
    "\n",
    " - 알고리즘(코딩의 수학적 기초를 다지는 알고리즘 68) : 배타적 논리합으로 만드는 삼각형\n",
    " - 알고리즘(코드워) : Permutations\n",
    " - Class101 키워드 정리 : Chapter4-1 간단히 정리"
   ]
  },
  {
   "cell_type": "markdown",
   "metadata": {},
   "source": [
    "# --------------------------------------------------------"
   ]
  },
  {
   "cell_type": "markdown",
   "metadata": {},
   "source": [
    "Class101 키워드 정리"
   ]
  },
  {
   "cell_type": "markdown",
   "metadata": {},
   "source": [
    "*Chapter4-1*"
   ]
  },
  {
   "cell_type": "markdown",
   "metadata": {},
   "source": [
    "React, Vue\n",
    " - React는 자바스크립트 라이브러리의 하나로서 사용자 인터페이스를 만들기 위해 사용된다.\n",
    " - React는 싱글 페이지나 모바일 애플리케이션의 개발 시 토대로 사용될 수 있다.\n",
    " - React는 복잡한 리액트 애플리케이션들은 상태 관리, 라우팅, API와의 통신을 위한 추가 라이브러리의 사용이 일반적으로 요구된다.\n",
    " - Vue.js는 웹 애플리케이션의 사용자 인터페이스를 만드릭 위해 사용하는 오픈 소스 프로그레시브 자바스크립트 프레임워크이다.\n",
    " - Vue.js는 다른 자바스크립트 라이브러리를 사용하는 웹 애플리케이션 프로젝트에 Vue.js를 도입하기 쉽게 설계되어 있는데, 이는 Vue.js가 점진적으로 채택할 수 있게 설계되어 있기 때문이다.\n",
    " - Vue.js는 고성능의 싱글 페이지 애플리케이션(SPA)를 구축하는데 이용가능하다.\n",
    " \n",
    "크로스 플랫폼 앱\n",
    " - 하나 이상의 플랫폼에서 실행 가능한 소프트웨어라는 것을 뜻하는 용어이다.\n",
    " - 예시 : 한 앱이 안드로이드와 아이폰에서 기능상, 외관상의 차이 없이 똑같게 실행된다면 그 앱은 크로스 플랫폼으로 개발된 것이다.\n",
    " \n",
    "네이티브 앱\n",
    " - 안드로이드/IOS 마켓에서 다운로드해서 사용하는 앱으로 즉, 사용자폰에 설치하는 앱이다.\n",
    "\n",
    "웹 앱\n",
    " - 모바일 웹앱은 한마디로 모바일 웹사이트이다.\n",
    " - 사용자 스마트폰에 설치되어 있는 인터넷 브라우저를 기반으로 동작하는 앱이다.\n",
    " \n",
    "하이브리드 앱\n",
    " - 네이티브앱 장점과 모바일웹앱의 장점을 결합한 앱이다.\n",
    " - 웹앱을 네이티브앱으로 포장한 앱이다.\n",
    " \n",
    "React Native\n",
    " - Facebook에서 만든 오픈 소스 모바일 애플리케이션 프레임 워크이다.\n",
    " - 개발자가 기본 플랫폼 기능과 함께 React를 사용할 수 있도록하여 Android, iOS, 웹 및 UWP 용 애플리케이션을 개발하는데 사용된다.\n",
    "\n",
    "UI/UX\n",
    " - UI(User Interface) : 사용자가 제품을 어떤 방식으로 이용하도록 만드느냐를 디자인하는 것이다. 겉으로 시각화되는 작업이라고 보면 된다. 사용자가 실제로 마주하게 될 디자인, 레이아웃 등으 아우르는 개념이다.\n",
    " - UX(User Experience) : 사용자 경험을 의미한다. 사용자가 어떤 제품, 시스템, 서비스 등을 직접적 혹은 간접적으로 시용하면서 느끼는 반응과 행동들과 같은 경험을 총체적으로 설계하는 것이다.\n"
   ]
  },
  {
   "cell_type": "markdown",
   "metadata": {},
   "source": [
    "출처\n",
    "\n",
    "https://ko.wikipedia.org/wiki/%EB%A6%AC%EC%95%A1%ED%8A%B8_(%EC%9E%90%EB%B0%94%EC%8A%A4%ED%81%AC%EB%A6%BD%ED%8A%B8_%EB%9D%BC%EC%9D%B4%EB%B8%8C%EB%9F%AC%EB%A6%AC)\n",
    "https://ko.wikipedia.org/wiki/Vue.js\n",
    "https://namu.wiki/w/%ED%81%AC%EB%A1%9C%EC%8A%A4%20%ED%94%8C%EB%9E%AB%ED%8F%BC\n",
    "https://freemoa-blog.com/622\n",
    "https://en.wikipedia.org/wiki/React_Native\n",
    "http://media.fastcampus.co.kr/knowledge/about-uxuidesign/"
   ]
  }
 ],
 "metadata": {
  "kernelspec": {
   "display_name": "Python 3",
   "language": "python",
   "name": "python3"
  },
  "language_info": {
   "codemirror_mode": {
    "name": "ipython",
    "version": 3
   },
   "file_extension": ".py",
   "mimetype": "text/x-python",
   "name": "python",
   "nbconvert_exporter": "python",
   "pygments_lexer": "ipython3",
   "version": "3.7.3"
  }
 },
 "nbformat": 4,
 "nbformat_minor": 2
}
