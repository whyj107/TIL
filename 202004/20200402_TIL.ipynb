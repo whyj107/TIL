{
 "cells": [
  {
   "cell_type": "markdown",
   "metadata": {},
   "source": [
    "20200402\n",
    "\n",
    "# 컴퓨터\n",
    "\n",
    " - 알고리즘(필수 알고리즘 with 파이썬) : 등수 구하기\n",
    " - 알고리즘(백준) : 피보나치 2\n",
    " - Python GUI(PyQt) : 7\n",
    " - DSschool 무료 강연 : 파이썬으로 이메일 메세지 보내기\n",
    " - Class101 키워드 정리 : Chapter2-4 간단하게 정리"
   ]
  },
  {
   "cell_type": "markdown",
   "metadata": {},
   "source": [
    "# --------------------------------------------------------"
   ]
  },
  {
   "cell_type": "markdown",
   "metadata": {},
   "source": [
    "Class101 키워드 정리"
   ]
  },
  {
   "cell_type": "markdown",
   "metadata": {},
   "source": [
    "*Chapter2-4*"
   ]
  },
  {
   "cell_type": "markdown",
   "metadata": {},
   "source": [
    "프론트엔드\n",
    " - 웹 프로그래밍의 한 분야이다.\n",
    " - 프론트엔드 개발자는 백엔드 API에서 가져온 데이터의 출력, 입력을 통한 비즈니스 로직 구성과 사용자와 대화하는 사용자 인터페이스 부분을 작업하는 개발자를 말한다.\n",
    " \n",
    "백엔드\n",
    " - DB와 API서버 개발을 맡는다.\n",
    " - 뷰단은 화면단이 아닌 api개발이 주가 된다.\n",
    " - 프론트에서 전달된 데이터의 포맷이나 데이터베이스 입출력 및 다양한 비즈니스 프로세스를 프로그래밍 코드로 구현하는 역할을 한다.\n",
    " - 데이터베이스, 웹 서버, 네트워킹 등 웹 서버의 인프라에 대한 이해가 필요하다.\n",
    " \n",
    "풀스택\n",
    " - 백엔드와 프론트엔드를 모두 다룰 줄 아는 개발자를 일컬어 풀 스택 개발자라고 한다."
   ]
  },
  {
   "cell_type": "markdown",
   "metadata": {},
   "source": [
    "출처\n",
    "\n",
    "https://namu.wiki/w/%ED%94%84%EB%A1%A0%ED%8A%B8%EC%97%94%EB%93%9C\n",
    "https://namu.wiki/w/%EB%B0%B1%EC%97%94%EB%93%9C"
   ]
  },
  {
   "cell_type": "markdown",
   "metadata": {},
   "source": [
    "# --------------------------------------------------------"
   ]
  },
  {
   "cell_type": "markdown",
   "metadata": {},
   "source": [
    "DS School"
   ]
  },
  {
   "cell_type": "code",
   "execution_count": 1,
   "metadata": {},
   "outputs": [],
   "source": [
    "# 패키지, 라이브러리\n",
    "# SMTP, POP3, IMAP\n",
    "import smtplib"
   ]
  },
  {
   "cell_type": "code",
   "execution_count": 9,
   "metadata": {},
   "outputs": [],
   "source": [
    "# Gamil 접속\n",
    "# smtplib.SMTP(host , port)\n",
    "my_google = smtplib.SMTP('smtp.gmail.com', 587)"
   ]
  },
  {
   "cell_type": "code",
   "execution_count": 10,
   "metadata": {},
   "outputs": [
    {
     "data": {
      "text/plain": [
       "(220, b'2.0.0 Ready to start TLS')"
      ]
     },
     "execution_count": 10,
     "metadata": {},
     "output_type": "execute_result"
    }
   ],
   "source": [
    "# TLS(보안 접속)\n",
    "my_google.starttls()"
   ]
  },
  {
   "cell_type": "code",
   "execution_count": 14,
   "metadata": {},
   "outputs": [],
   "source": [
    "# 로그인\n",
    "id = '아이디'\n",
    "pw = '패스워드'\n",
    "# my_google.login(user_id, pw)"
   ]
  },
  {
   "cell_type": "code",
   "execution_count": 15,
   "metadata": {},
   "outputs": [],
   "source": [
    "email_to = '보낼 이메일'\n",
    "# 한국어로 보낼 때는 인코딩해야된다.\n",
    "message = '메세지'.encode('UTF-8')\n",
    "# my_google.sendmail(user_id, email_to, message)"
   ]
  },
  {
   "cell_type": "code",
   "execution_count": 16,
   "metadata": {},
   "outputs": [],
   "source": [
    "# MIMEText : 실제 내용\n",
    "# MIMEMultipart : 이메일 메시지의 구성\n",
    "\n",
    "from email.mime.text import MIMEText\n",
    "from email.mime.multipart import MIMEMultipart"
   ]
  },
  {
   "cell_type": "code",
   "execution_count": 17,
   "metadata": {},
   "outputs": [
    {
     "data": {
      "text/plain": [
       "<email.mime.multipart.MIMEMultipart at 0x28f95dc9548>"
      ]
     },
     "execution_count": 17,
     "metadata": {},
     "output_type": "execute_result"
    }
   ],
   "source": [
    "message = MIMEMultipart()\n",
    "message"
   ]
  },
  {
   "cell_type": "code",
   "execution_count": 18,
   "metadata": {},
   "outputs": [],
   "source": [
    "subject = '제목'\n",
    "\n",
    "message['Subject'] = subject"
   ]
  },
  {
   "cell_type": "code",
   "execution_count": 20,
   "metadata": {},
   "outputs": [],
   "source": [
    "description = '텍스트 내용'\n",
    "text = MIMEText(description, 'plain')\n",
    "# attach -> 붙인다.\n",
    "message.attach(text)"
   ]
  },
  {
   "cell_type": "code",
   "execution_count": 22,
   "metadata": {},
   "outputs": [
    {
     "name": "stdout",
     "output_type": "stream",
     "text": [
      "Content-Type: multipart/mixed; boundary=\"===============4252913073413104705==\"\n",
      "MIME-Version: 1.0\n",
      "Subject: =?utf-8?b?7KCc66qp?=\n",
      "\n",
      "--===============4252913073413104705==\n",
      "Content-Type: text/plain; charset=\"utf-8\"\n",
      "MIME-Version: 1.0\n",
      "Content-Transfer-Encoding: base64\n",
      "\n",
      "7YWN7Iqk7Yq4IOuCtOyaqQ==\n",
      "\n",
      "--===============4252913073413104705==--\n",
      "\n"
     ]
    }
   ],
   "source": [
    "# 암호화 된다.\n",
    "print(message.as_string())"
   ]
  },
  {
   "cell_type": "markdown",
   "metadata": {},
   "source": [
    "MIMEText(html_example, 'html')\n",
    "message.attach(html)\n",
    "print(message.as_string())\n",
    "\n",
    "html을 긁어서 넣어 보면 된다.\n",
    "\n",
    "m_google.sendmail(id, email_to, message.as_string())\n",
    "으로 보낼 수 있다.\n",
    "\n",
    "email_list = [이메일들]\n",
    "for문 사용해서 다중으로 보낼 수 있다."
   ]
  }
 ],
 "metadata": {
  "kernelspec": {
   "display_name": "Python 3",
   "language": "python",
   "name": "python3"
  },
  "language_info": {
   "codemirror_mode": {
    "name": "ipython",
    "version": 3
   },
   "file_extension": ".py",
   "mimetype": "text/x-python",
   "name": "python",
   "nbconvert_exporter": "python",
   "pygments_lexer": "ipython3",
   "version": "3.7.4"
  }
 },
 "nbformat": 4,
 "nbformat_minor": 2
}
