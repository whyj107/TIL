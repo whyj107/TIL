{
 "cells": [
  {
   "cell_type": "markdown",
   "metadata": {},
   "source": [
    "20200424\n",
    "\n",
    "# 컴퓨터\n",
    "\n",
    " - 알고리즈(코딩의 수학적 기초를 다지는 알고리즘 68) : 운동화 끈 멋지게 묶기\n",
    " - 알고리즘(코드워) : Get Planet Name By ID, Sudoku Solution Validator\n",
    " \n",
    "#### 코드워에서 이제 스도쿠 문제가 2문제 남았다!!! 와아아아아!!! "
   ]
  }
 ],
 "metadata": {
  "kernelspec": {
   "display_name": "Python 3",
   "language": "python",
   "name": "python3"
  },
  "language_info": {
   "codemirror_mode": {
    "name": "ipython",
    "version": 3
   },
   "file_extension": ".py",
   "mimetype": "text/x-python",
   "name": "python",
   "nbconvert_exporter": "python",
   "pygments_lexer": "ipython3",
   "version": "3.7.3"
  }
 },
 "nbformat": 4,
 "nbformat_minor": 2
}
