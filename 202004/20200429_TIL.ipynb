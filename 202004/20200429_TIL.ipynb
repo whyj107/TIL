{
 "cells": [
  {
   "cell_type": "markdown",
   "metadata": {},
   "source": [
    "20200429\n",
    "\n",
    "# 컴퓨터\n",
    "\n",
    " - 알고리즘(코딩의 수학적 기초를 다지는 알고리즘 68) : 우회전을 못해도 괜찮다고?\n",
    " - 알고리즘(코드워) : Is he gonna survive?\n",
    " - 알고리즘(백준) : 가장 긴 증가하는 부분 수열\n",
    " \n",
    "#### 백준 문제를 1N제곱의 시간으로 풀었기에 내일은 NlogN시간으로 풀 수 있도록 해봐야 겠다."
   ]
  }
 ],
 "metadata": {
  "kernelspec": {
   "display_name": "Python 3",
   "language": "python",
   "name": "python3"
  },
  "language_info": {
   "codemirror_mode": {
    "name": "ipython",
    "version": 3
   },
   "file_extension": ".py",
   "mimetype": "text/x-python",
   "name": "python",
   "nbconvert_exporter": "python",
   "pygments_lexer": "ipython3",
   "version": "3.7.3"
  }
 },
 "nbformat": 4,
 "nbformat_minor": 2
}
