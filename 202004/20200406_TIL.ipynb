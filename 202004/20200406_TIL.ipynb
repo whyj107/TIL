{
 "cells": [
  {
   "cell_type": "markdown",
   "metadata": {},
   "source": [
    "20200406\n",
    "\n",
    "# 컴퓨터\n",
    "\n",
    " - 알고리즘(필수 알고리즘 with 파이썬) : 반복문을 사용하여 팩토리얼 출력하기\n",
    " - 알고리즘(코드워) : Is my friend cheating?\n",
    " - Class101 키워드 정리 : Chapter3-1 간단하게 정리\n",
    " - 구름 EDU : 자바스크립트 - 언어소개"
   ]
  },
  {
   "cell_type": "markdown",
   "metadata": {},
   "source": [
    "# --------------------------------------------------------"
   ]
  },
  {
   "cell_type": "markdown",
   "metadata": {},
   "source": [
    "Class101 키워드 정리"
   ]
  },
  {
   "cell_type": "markdown",
   "metadata": {},
   "source": [
    "*Chapter3-1*"
   ]
  },
  {
   "cell_type": "markdown",
   "metadata": {},
   "source": [
    "브라우저 렌더링\n",
    " - 사용자로부터 요청받은 내용을 브라우저 화면에 표시하는 일\n",
    " - 브라우저 렌더링 엔진 : 웹킷, 게코\n",
    " \n",
    "HTML CSS JavaScript\n",
    " - HTML : 웹 브라우저를 통해 사용자에게 보이는 웹 문서를 작성하기 위한 언어. 웹문서를 제작하는 기본 뼈대가 되는 개념\n",
    " - CSS : 기존의 HTML에 다양한 모양을 추가하거나, 변경하여 웹사이트에 통일감을 부여하고 글자의 크기나 모양, 줄간격 등을 자유롭게 제어할 수 있게 한 언어. 뼈대에 디자인을 입힌다는 개념\n",
    " - JavaScript : 웹문서를 html을 이용하여 정보를 보거나 웹 문서끼리 연결하는 것 외에 팝업창을 열거나 전화번호 또는 이메일 주소를 체크하는 등의 기능적인 요소를 위해 사용되는 언어. 뼈대와 디자인에 움직임을 넣는 개념\n",
    " \n",
    "HTTP\n",
    " - HyperText Transfer Protocol\n",
    " - www 상에서 정보를 주고받을 수 있는 프로토콜이다.\n",
    " \n",
    "HTTPS\n",
    " - HyperText Transfer Protocol over Secure Socket Layer\n",
    " - 통신 프로토콜인 HTTP의 보안이 강화된 버전이다.\n",
    "\n",
    "렌더링\n",
    " - 컴퓨터 프로그램을 사용하여 모델 또는 이들을 모아 놓은 장면인 씬 파일로부터 영상을 만들어 내는 과정을 말한다.\n",
    " \n",
    "라우터\n",
    " - 공유기는 패킷의 위치를 추출하여, 그 위치에 대한 최적의 경로를 지정하며, 이 경로를 따라 데이터 패킷을 다음 장치로 전향시키는 장치이다.\n",
    " \n",
    "인증\n",
    " - 참이라는 근거가 있는 무언가를 확인하거나 확증하는 행위이다.\n",
    " - 객체를 인증하는 것은 이에 대한 출처를 확인하는 것을 뜻하는 반면, 사람을 인증하는 것은 사람들의 신분을 구성하는 것을 말한다.\n",
    " \n",
    "토큰 쿠키 세션\n",
    " - 토큰(JWT) : Json Web Token의 약자이고 인증에 필요한 정보들을 암호화시킨 토큰을 말한다. 세션 방식처럼 토큰 자체를 쿠키에 담아서 보내줄 수도 있고 HTTP 헤더에 담아서 보내줄 수도 있다.\n",
    " - 쿠키 : 클라이언트에 저장되는 key와 value로 이루어진 데이터이다. 인증 유효 시간을 설정할 수 있고 유효 시간이 정해진다면 클라이언트가 종료되어도 쿠키가 유지된다.\n",
    " - 세션 : 쿠키를 기반으로 하지만 클라이언트에 저장하는 쿠키와는 다르게 서버에 저장하여 관리한다. 서버에서는 클라이언트를 구별하기 위해 각각의 세션 ID를 클라이언트마다 부여하게되며 클라이언트가 종료되기 전까지 유지한다.\n",
    " \n",
    "CSR(Client Side Rendering)\n",
    " - SPA로 클라이언트 사이드에서 HTML을 반환한 후에 JS가 동작하면서 데이터만을 주고 받아서 클라이언트에서 렌더링을 진행하는 것이다.\n",
    " - 점점 더 복잡해지는 웹페이지를 구현하기 위해서 전통적인 방식의 SSR보다는 CSR로 웹을 구현하는 경우가 많아졌다.\n",
    " \n",
    "SSR(Server Side Rendering)\n",
    " - 서버에서 렌더링을 작업하는 렌더링 방식, 전통적인 웹 어플리케이션 렌더링 방식으로 사용자가 웹 페이지에 접근할 때, 서버에 각각의 페이지에 대한 요청을 하며 서버에서 html, js 파일 등을 다 다운로드해서 화면에 렌더링하는 방식이다.\n",
    " \n",
    "SPA(Single Page Application)\n",
    " - 최초 한번 페이지 전체를 로딩한 이후부터는 데이터만 변경하여 사용할 수 있는 웹 어플리케이션이다."
   ]
  },
  {
   "cell_type": "markdown",
   "metadata": {},
   "source": [
    "출처\n",
    "https://recordar.tistory.com/entry/%EB%B8%8C%EB%9D%BC%EC%9A%B0%EC%A0%80-%EB%A0%8C%EB%8D%94%EB%A7%81-%EA%B3%BC%EC%A0%95\n",
    "https://blog.naver.com/dartplus/220482039444\n",
    "https://ko.wikipedia.org/wiki/HTTP\n",
    "https://ko.wikipedia.org/wiki/HTTPS\n",
    "https://ko.wikipedia.org/wiki/%EB%A0%8C%EB%8D%94%EB%A7%81\n",
    "https://ko.wikipedia.org/wiki/%EB%9D%BC%EC%9A%B0%ED%84%B0\n",
    "https://ko.wikipedia.org/wiki/%EC%9D%B8%EC%A6%9D\n",
    "https://velog.io/@stampid/%EC%BF%A0%ED%82%A4-%EC%84%B8%EC%85%98-%EA%B7%B8%EB%A6%AC%EA%B3%A0-JWT\n",
    "https://velog.io/@haileyself/SPA-Client-Side-Rendering-%EA%B7%B8%EB%A6%AC%EA%B3%A0-Server-Side-Rendering-90k4ar8is1"
   ]
  }
 ],
 "metadata": {
  "kernelspec": {
   "display_name": "Python 3",
   "language": "python",
   "name": "python3"
  },
  "language_info": {
   "codemirror_mode": {
    "name": "ipython",
    "version": 3
   },
   "file_extension": ".py",
   "mimetype": "text/x-python",
   "name": "python",
   "nbconvert_exporter": "python",
   "pygments_lexer": "ipython3",
   "version": "3.7.4"
  }
 },
 "nbformat": 4,
 "nbformat_minor": 2
}
