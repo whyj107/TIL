{
 "cells": [
  {
   "cell_type": "markdown",
   "metadata": {},
   "source": [
    "20200218\n",
    "\n",
    "# 컴퓨터\n",
    " - 알고리즘(필수 알고리즘 with 파이썬) : 병합 정렬 알고리즘, 힙 정렬 알고리즘\n",
    " - 알고리즘(백준) : 직각삼각형, 택시 기하학, 타렛\n",
    " - 잔재미코딩 사이트 : CSS Selector를 사용한 크롤링\n",
    " - 월간 프로젝트 : 웹사이트 크롤링\n",
    " \n",
    " #### 오늘의 알고리즘 문제 중 타렛이 가장 어려웠다. \n",
    " #### 코드 구성이 어려웠다기 보다는 수학적으로 이해하는 것이 힘들었다.\n",
    " #### 잔재미코딩 사이트에 있는 것을 무작정 학습하는 것은 나에게 큰 도움이 되지 못한다는 것을 느꼈다. 내일부터는 월간 프로젝트에 맞는 것만 찾아가면서 공부를 할 생각이다.\n",
    " #### 생각보다 월간 프로젝트가 진척이 되지 않는다. 웹 크롤링을 너무 쉽게 보았다는 생각이 든다."
   ]
  },
  {
   "cell_type": "code",
   "execution_count": null,
   "metadata": {},
   "outputs": [],
   "source": []
  }
 ],
 "metadata": {
  "kernelspec": {
   "display_name": "Python 3",
   "language": "python",
   "name": "python3"
  },
  "language_info": {
   "codemirror_mode": {
    "name": "ipython",
    "version": 3
   },
   "file_extension": ".py",
   "mimetype": "text/x-python",
   "name": "python",
   "nbconvert_exporter": "python",
   "pygments_lexer": "ipython3",
   "version": "3.7.4"
  }
 },
 "nbformat": 4,
 "nbformat_minor": 2
}
