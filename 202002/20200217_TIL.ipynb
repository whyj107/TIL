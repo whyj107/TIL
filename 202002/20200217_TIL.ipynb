{
 "cells": [
  {
   "cell_type": "markdown",
   "metadata": {},
   "source": [
    "20200217\n",
    "\n",
    "# 컴퓨터\n",
    " - 알고리즘(필수 알고리즘 with 파이썬) : 퀵 정렬 알고리즘, 기수정렬 알고리즘\n",
    " - 알고리즘(백준) : 직사각형에서 탈출, 네 번째 점\n",
    " - 잔재미코딩 사이트 : Open API(Rest API)를 활용한 크롤링\n",
    " - 월간 프로젝트 : 웹사이트 크롤링\n",
    "\n",
    "#### 오늘의 알고리즘 문제는 쉬웠다.\n",
    "#### 잔재미코딩 사이트에 있는 연습문제는 안풀었다.\n",
    "#### 대신 월간 프로젝트를 조금 진행하였다.\n",
    "#### 코드를 작성하였지만 잘 되지 않았기 때문에 내일도 같은 곳을 봐야 할 것 같다."
   ]
  },
  {
   "cell_type": "markdown",
   "metadata": {},
   "source": []
  }
 ],
 "metadata": {
  "kernelspec": {
   "display_name": "Python 3",
   "language": "python",
   "name": "python3"
  },
  "language_info": {
   "codemirror_mode": {
    "name": "ipython",
    "version": 3
   },
   "file_extension": ".py",
   "mimetype": "text/x-python",
   "name": "python",
   "nbconvert_exporter": "python",
   "pygments_lexer": "ipython3",
   "version": "3.7.4"
  }
 },
 "nbformat": 4,
 "nbformat_minor": 2
}
