{
 "cells": [
  {
   "cell_type": "markdown",
   "metadata": {},
   "source": [
    "20200225\n",
    "\n",
    "# 컴퓨터\n",
    " - 알고리즘(필수 알고리즘 with 파이썬) : 이중 연결 리스트, 재귀 호출을 사용하여 1부터 20까지 출력하기\n",
    " - 알고리즘(백준) : 덩치, 체스판 다시 칠하기, 영화감독 숌\n",
    "\n",
    "#### 백준 알고리즘 문제가 어렵다. 이번주 내로 다시 학습을 해야겠다.\n",
    "#### 월간 프로젝트는 아직까지 제자리다."
   ]
  }
 ],
 "metadata": {
  "kernelspec": {
   "display_name": "Python 3",
   "language": "python",
   "name": "python3"
  },
  "language_info": {
   "codemirror_mode": {
    "name": "ipython",
    "version": 3
   },
   "file_extension": ".py",
   "mimetype": "text/x-python",
   "name": "python",
   "nbconvert_exporter": "python",
   "pygments_lexer": "ipython3",
   "version": "3.7.4"
  }
 },
 "nbformat": 4,
 "nbformat_minor": 2
}
