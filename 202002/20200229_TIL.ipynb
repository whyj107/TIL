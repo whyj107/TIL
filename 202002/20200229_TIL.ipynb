{
 "cells": [
  {
   "cell_type": "markdown",
   "metadata": {},
   "source": [
    "20200229\n",
    "\n",
    "# 컴퓨터\n",
    " - 알고리즘(코딩의 수학적 기초를 다지는 알고리즘 퍼즐 68) : 아직도 현금으로 계산하다니!\n",
    " - 월간 프로젝트 : 파이썬 스케줄 수행, 파이썬 메일 보내기"
   ]
  },
  {
   "cell_type": "code",
   "execution_count": null,
   "metadata": {},
   "outputs": [],
   "source": []
  }
 ],
 "metadata": {
  "kernelspec": {
   "display_name": "Python 3",
   "language": "python",
   "name": "python3"
  },
  "language_info": {
   "codemirror_mode": {
    "name": "ipython",
    "version": 3
   },
   "file_extension": ".py",
   "mimetype": "text/x-python",
   "name": "python",
   "nbconvert_exporter": "python",
   "pygments_lexer": "ipython3",
   "version": "3.7.3"
  }
 },
 "nbformat": 4,
 "nbformat_minor": 2
}
