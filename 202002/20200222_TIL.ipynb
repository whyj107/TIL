{
 "cells": [
  {
   "cell_type": "markdown",
   "metadata": {},
   "source": [
    "20200222\n",
    "\n",
    "# 컴퓨터\n",
    " - 알고리즘(코딩의 수학적 기초를 다지는 알고리즘 퍼즐 68) : 수열의 사칙 연산\n",
    " - 알고리즘 : 브루트 포스 알고리즘\n",
    " \n",
    "#### 본가에 왔기에 기존에 학습하던 책 대신 본가에 존재하는 책으로 알고리즘 학습을 진행했다.\n",
    "#### 백준 문제에서 이제 브루트 포스 관련으로 넘어가기 때문에 브루트 포스 기본에 대해서 학습했다."
   ]
  },
  {
   "cell_type": "code",
   "execution_count": null,
   "metadata": {},
   "outputs": [],
   "source": []
  }
 ],
 "metadata": {
  "kernelspec": {
   "display_name": "Python 3",
   "language": "python",
   "name": "python3"
  },
  "language_info": {
   "codemirror_mode": {
    "name": "ipython",
    "version": 3
   },
   "file_extension": ".py",
   "mimetype": "text/x-python",
   "name": "python",
   "nbconvert_exporter": "python",
   "pygments_lexer": "ipython3",
   "version": "3.7.3"
  }
 },
 "nbformat": 4,
 "nbformat_minor": 2
}
